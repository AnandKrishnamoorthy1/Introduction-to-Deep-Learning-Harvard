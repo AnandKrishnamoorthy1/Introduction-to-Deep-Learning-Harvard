{
  "nbformat": 4,
  "nbformat_minor": 0,
  "metadata": {
    "kernelspec": {
      "display_name": "Python 3",
      "language": "python",
      "name": "python3"
    },
    "language_info": {
      "codemirror_mode": {
        "name": "ipython",
        "version": 3
      },
      "file_extension": ".py",
      "mimetype": "text/x-python",
      "name": "python",
      "nbconvert_exporter": "python",
      "pygments_lexer": "ipython3",
      "version": "3.6.4"
    },
    "colab": {
      "name": "HW 5.ipynb",
      "provenance": [],
      "collapsed_sections": []
    },
    "accelerator": "GPU"
  },
  "cells": [
    {
      "cell_type": "markdown",
      "metadata": {
        "id": "o0r7SCu_ZCvs",
        "colab_type": "text"
      },
      "source": [
        "# HW 1 : Q1"
      ]
    },
    {
      "cell_type": "code",
      "metadata": {
        "id": "xk7Lk6t_ZCvw",
        "colab_type": "code",
        "colab": {
          "base_uri": "https://localhost:8080/",
          "height": 192
        },
        "outputId": "31995511-1964-4d62-e464-b41a22028843"
      },
      "source": [
        "import pandas as pd\n",
        "import numpy as np\n",
        "\n",
        "inp_df_red=pd.read_csv(\"winequality-red.csv\",delimiter=';')\n",
        "inp_df_red['color']='red'\n",
        "inp_df_red=inp_df_red.set_index('color')\n",
        "inp_df_red.head(3)"
      ],
      "execution_count": null,
      "outputs": [
        {
          "output_type": "execute_result",
          "data": {
            "text/html": [
              "<div>\n",
              "<style scoped>\n",
              "    .dataframe tbody tr th:only-of-type {\n",
              "        vertical-align: middle;\n",
              "    }\n",
              "\n",
              "    .dataframe tbody tr th {\n",
              "        vertical-align: top;\n",
              "    }\n",
              "\n",
              "    .dataframe thead th {\n",
              "        text-align: right;\n",
              "    }\n",
              "</style>\n",
              "<table border=\"1\" class=\"dataframe\">\n",
              "  <thead>\n",
              "    <tr style=\"text-align: right;\">\n",
              "      <th></th>\n",
              "      <th>fixed acidity</th>\n",
              "      <th>volatile acidity</th>\n",
              "      <th>citric acid</th>\n",
              "      <th>residual sugar</th>\n",
              "      <th>chlorides</th>\n",
              "      <th>free sulfur dioxide</th>\n",
              "      <th>total sulfur dioxide</th>\n",
              "      <th>density</th>\n",
              "      <th>pH</th>\n",
              "      <th>sulphates</th>\n",
              "      <th>alcohol</th>\n",
              "      <th>quality</th>\n",
              "    </tr>\n",
              "    <tr>\n",
              "      <th>color</th>\n",
              "      <th></th>\n",
              "      <th></th>\n",
              "      <th></th>\n",
              "      <th></th>\n",
              "      <th></th>\n",
              "      <th></th>\n",
              "      <th></th>\n",
              "      <th></th>\n",
              "      <th></th>\n",
              "      <th></th>\n",
              "      <th></th>\n",
              "      <th></th>\n",
              "    </tr>\n",
              "  </thead>\n",
              "  <tbody>\n",
              "    <tr>\n",
              "      <th>red</th>\n",
              "      <td>7.4</td>\n",
              "      <td>0.70</td>\n",
              "      <td>0.00</td>\n",
              "      <td>1.9</td>\n",
              "      <td>0.076</td>\n",
              "      <td>11.0</td>\n",
              "      <td>34.0</td>\n",
              "      <td>0.9978</td>\n",
              "      <td>3.51</td>\n",
              "      <td>0.56</td>\n",
              "      <td>9.4</td>\n",
              "      <td>5</td>\n",
              "    </tr>\n",
              "    <tr>\n",
              "      <th>red</th>\n",
              "      <td>7.8</td>\n",
              "      <td>0.88</td>\n",
              "      <td>0.00</td>\n",
              "      <td>2.6</td>\n",
              "      <td>0.098</td>\n",
              "      <td>25.0</td>\n",
              "      <td>67.0</td>\n",
              "      <td>0.9968</td>\n",
              "      <td>3.20</td>\n",
              "      <td>0.68</td>\n",
              "      <td>9.8</td>\n",
              "      <td>5</td>\n",
              "    </tr>\n",
              "    <tr>\n",
              "      <th>red</th>\n",
              "      <td>7.8</td>\n",
              "      <td>0.76</td>\n",
              "      <td>0.04</td>\n",
              "      <td>2.3</td>\n",
              "      <td>0.092</td>\n",
              "      <td>15.0</td>\n",
              "      <td>54.0</td>\n",
              "      <td>0.9970</td>\n",
              "      <td>3.26</td>\n",
              "      <td>0.65</td>\n",
              "      <td>9.8</td>\n",
              "      <td>5</td>\n",
              "    </tr>\n",
              "  </tbody>\n",
              "</table>\n",
              "</div>"
            ],
            "text/plain": [
              "       fixed acidity  volatile acidity  ...  alcohol  quality\n",
              "color                                   ...                  \n",
              "red              7.4              0.70  ...      9.4        5\n",
              "red              7.8              0.88  ...      9.8        5\n",
              "red              7.8              0.76  ...      9.8        5\n",
              "\n",
              "[3 rows x 12 columns]"
            ]
          },
          "metadata": {
            "tags": []
          },
          "execution_count": 1
        }
      ]
    },
    {
      "cell_type": "code",
      "metadata": {
        "id": "jBmUUjPBZCv-",
        "colab_type": "code",
        "colab": {
          "base_uri": "https://localhost:8080/",
          "height": 192
        },
        "outputId": "0fe50f5f-830f-4e19-f25a-7d3bee10a78f"
      },
      "source": [
        "inp_df_white=pd.read_csv(\"winequality-white.csv\",delimiter=';')\n",
        "inp_df_white['color']='yellow'\n",
        "inp_df_white=inp_df_white.set_index('color')\n",
        "inp_df_white.head(3)"
      ],
      "execution_count": null,
      "outputs": [
        {
          "output_type": "execute_result",
          "data": {
            "text/html": [
              "<div>\n",
              "<style scoped>\n",
              "    .dataframe tbody tr th:only-of-type {\n",
              "        vertical-align: middle;\n",
              "    }\n",
              "\n",
              "    .dataframe tbody tr th {\n",
              "        vertical-align: top;\n",
              "    }\n",
              "\n",
              "    .dataframe thead th {\n",
              "        text-align: right;\n",
              "    }\n",
              "</style>\n",
              "<table border=\"1\" class=\"dataframe\">\n",
              "  <thead>\n",
              "    <tr style=\"text-align: right;\">\n",
              "      <th></th>\n",
              "      <th>fixed acidity</th>\n",
              "      <th>volatile acidity</th>\n",
              "      <th>citric acid</th>\n",
              "      <th>residual sugar</th>\n",
              "      <th>chlorides</th>\n",
              "      <th>free sulfur dioxide</th>\n",
              "      <th>total sulfur dioxide</th>\n",
              "      <th>density</th>\n",
              "      <th>pH</th>\n",
              "      <th>sulphates</th>\n",
              "      <th>alcohol</th>\n",
              "      <th>quality</th>\n",
              "    </tr>\n",
              "    <tr>\n",
              "      <th>color</th>\n",
              "      <th></th>\n",
              "      <th></th>\n",
              "      <th></th>\n",
              "      <th></th>\n",
              "      <th></th>\n",
              "      <th></th>\n",
              "      <th></th>\n",
              "      <th></th>\n",
              "      <th></th>\n",
              "      <th></th>\n",
              "      <th></th>\n",
              "      <th></th>\n",
              "    </tr>\n",
              "  </thead>\n",
              "  <tbody>\n",
              "    <tr>\n",
              "      <th>yellow</th>\n",
              "      <td>7.0</td>\n",
              "      <td>0.27</td>\n",
              "      <td>0.36</td>\n",
              "      <td>20.7</td>\n",
              "      <td>0.045</td>\n",
              "      <td>45.0</td>\n",
              "      <td>170.0</td>\n",
              "      <td>1.0010</td>\n",
              "      <td>3.00</td>\n",
              "      <td>0.45</td>\n",
              "      <td>8.8</td>\n",
              "      <td>6</td>\n",
              "    </tr>\n",
              "    <tr>\n",
              "      <th>yellow</th>\n",
              "      <td>6.3</td>\n",
              "      <td>0.30</td>\n",
              "      <td>0.34</td>\n",
              "      <td>1.6</td>\n",
              "      <td>0.049</td>\n",
              "      <td>14.0</td>\n",
              "      <td>132.0</td>\n",
              "      <td>0.9940</td>\n",
              "      <td>3.30</td>\n",
              "      <td>0.49</td>\n",
              "      <td>9.5</td>\n",
              "      <td>6</td>\n",
              "    </tr>\n",
              "    <tr>\n",
              "      <th>yellow</th>\n",
              "      <td>8.1</td>\n",
              "      <td>0.28</td>\n",
              "      <td>0.40</td>\n",
              "      <td>6.9</td>\n",
              "      <td>0.050</td>\n",
              "      <td>30.0</td>\n",
              "      <td>97.0</td>\n",
              "      <td>0.9951</td>\n",
              "      <td>3.26</td>\n",
              "      <td>0.44</td>\n",
              "      <td>10.1</td>\n",
              "      <td>6</td>\n",
              "    </tr>\n",
              "  </tbody>\n",
              "</table>\n",
              "</div>"
            ],
            "text/plain": [
              "        fixed acidity  volatile acidity  ...  alcohol  quality\n",
              "color                                    ...                  \n",
              "yellow            7.0              0.27  ...      8.8        6\n",
              "yellow            6.3              0.30  ...      9.5        6\n",
              "yellow            8.1              0.28  ...     10.1        6\n",
              "\n",
              "[3 rows x 12 columns]"
            ]
          },
          "metadata": {
            "tags": []
          },
          "execution_count": 2
        }
      ]
    },
    {
      "cell_type": "code",
      "metadata": {
        "id": "BCr-yM1vZCwL",
        "colab_type": "code",
        "colab": {
          "base_uri": "https://localhost:8080/",
          "height": 192
        },
        "outputId": "79669545-3246-404a-af4e-659dcc3314a3"
      },
      "source": [
        "inp_df=pd.concat([inp_df_red, inp_df_white])\n",
        "inp_df['citric acid']=1+inp_df['citric acid']\n",
        "inp_df_red.head(3)"
      ],
      "execution_count": null,
      "outputs": [
        {
          "output_type": "execute_result",
          "data": {
            "text/html": [
              "<div>\n",
              "<style scoped>\n",
              "    .dataframe tbody tr th:only-of-type {\n",
              "        vertical-align: middle;\n",
              "    }\n",
              "\n",
              "    .dataframe tbody tr th {\n",
              "        vertical-align: top;\n",
              "    }\n",
              "\n",
              "    .dataframe thead th {\n",
              "        text-align: right;\n",
              "    }\n",
              "</style>\n",
              "<table border=\"1\" class=\"dataframe\">\n",
              "  <thead>\n",
              "    <tr style=\"text-align: right;\">\n",
              "      <th></th>\n",
              "      <th>fixed acidity</th>\n",
              "      <th>volatile acidity</th>\n",
              "      <th>citric acid</th>\n",
              "      <th>residual sugar</th>\n",
              "      <th>chlorides</th>\n",
              "      <th>free sulfur dioxide</th>\n",
              "      <th>total sulfur dioxide</th>\n",
              "      <th>density</th>\n",
              "      <th>pH</th>\n",
              "      <th>sulphates</th>\n",
              "      <th>alcohol</th>\n",
              "      <th>quality</th>\n",
              "    </tr>\n",
              "    <tr>\n",
              "      <th>color</th>\n",
              "      <th></th>\n",
              "      <th></th>\n",
              "      <th></th>\n",
              "      <th></th>\n",
              "      <th></th>\n",
              "      <th></th>\n",
              "      <th></th>\n",
              "      <th></th>\n",
              "      <th></th>\n",
              "      <th></th>\n",
              "      <th></th>\n",
              "      <th></th>\n",
              "    </tr>\n",
              "  </thead>\n",
              "  <tbody>\n",
              "    <tr>\n",
              "      <th>red</th>\n",
              "      <td>7.4</td>\n",
              "      <td>0.70</td>\n",
              "      <td>0.00</td>\n",
              "      <td>1.9</td>\n",
              "      <td>0.076</td>\n",
              "      <td>11.0</td>\n",
              "      <td>34.0</td>\n",
              "      <td>0.9978</td>\n",
              "      <td>3.51</td>\n",
              "      <td>0.56</td>\n",
              "      <td>9.4</td>\n",
              "      <td>5</td>\n",
              "    </tr>\n",
              "    <tr>\n",
              "      <th>red</th>\n",
              "      <td>7.8</td>\n",
              "      <td>0.88</td>\n",
              "      <td>0.00</td>\n",
              "      <td>2.6</td>\n",
              "      <td>0.098</td>\n",
              "      <td>25.0</td>\n",
              "      <td>67.0</td>\n",
              "      <td>0.9968</td>\n",
              "      <td>3.20</td>\n",
              "      <td>0.68</td>\n",
              "      <td>9.8</td>\n",
              "      <td>5</td>\n",
              "    </tr>\n",
              "    <tr>\n",
              "      <th>red</th>\n",
              "      <td>7.8</td>\n",
              "      <td>0.76</td>\n",
              "      <td>0.04</td>\n",
              "      <td>2.3</td>\n",
              "      <td>0.092</td>\n",
              "      <td>15.0</td>\n",
              "      <td>54.0</td>\n",
              "      <td>0.9970</td>\n",
              "      <td>3.26</td>\n",
              "      <td>0.65</td>\n",
              "      <td>9.8</td>\n",
              "      <td>5</td>\n",
              "    </tr>\n",
              "  </tbody>\n",
              "</table>\n",
              "</div>"
            ],
            "text/plain": [
              "       fixed acidity  volatile acidity  ...  alcohol  quality\n",
              "color                                   ...                  \n",
              "red              7.4              0.70  ...      9.4        5\n",
              "red              7.8              0.88  ...      9.8        5\n",
              "red              7.8              0.76  ...      9.8        5\n",
              "\n",
              "[3 rows x 12 columns]"
            ]
          },
          "metadata": {
            "tags": []
          },
          "execution_count": 3
        }
      ]
    },
    {
      "cell_type": "code",
      "metadata": {
        "id": "uMebqNo3ZCwU",
        "colab_type": "code",
        "colab": {
          "base_uri": "https://localhost:8080/",
          "height": 192
        },
        "outputId": "c40107a4-0b1b-45c8-83ea-f60ed730cfa8"
      },
      "source": [
        "inp_df.head(3)"
      ],
      "execution_count": null,
      "outputs": [
        {
          "output_type": "execute_result",
          "data": {
            "text/html": [
              "<div>\n",
              "<style scoped>\n",
              "    .dataframe tbody tr th:only-of-type {\n",
              "        vertical-align: middle;\n",
              "    }\n",
              "\n",
              "    .dataframe tbody tr th {\n",
              "        vertical-align: top;\n",
              "    }\n",
              "\n",
              "    .dataframe thead th {\n",
              "        text-align: right;\n",
              "    }\n",
              "</style>\n",
              "<table border=\"1\" class=\"dataframe\">\n",
              "  <thead>\n",
              "    <tr style=\"text-align: right;\">\n",
              "      <th></th>\n",
              "      <th>fixed acidity</th>\n",
              "      <th>volatile acidity</th>\n",
              "      <th>citric acid</th>\n",
              "      <th>residual sugar</th>\n",
              "      <th>chlorides</th>\n",
              "      <th>free sulfur dioxide</th>\n",
              "      <th>total sulfur dioxide</th>\n",
              "      <th>density</th>\n",
              "      <th>pH</th>\n",
              "      <th>sulphates</th>\n",
              "      <th>alcohol</th>\n",
              "      <th>quality</th>\n",
              "    </tr>\n",
              "    <tr>\n",
              "      <th>color</th>\n",
              "      <th></th>\n",
              "      <th></th>\n",
              "      <th></th>\n",
              "      <th></th>\n",
              "      <th></th>\n",
              "      <th></th>\n",
              "      <th></th>\n",
              "      <th></th>\n",
              "      <th></th>\n",
              "      <th></th>\n",
              "      <th></th>\n",
              "      <th></th>\n",
              "    </tr>\n",
              "  </thead>\n",
              "  <tbody>\n",
              "    <tr>\n",
              "      <th>red</th>\n",
              "      <td>7.4</td>\n",
              "      <td>0.70</td>\n",
              "      <td>1.00</td>\n",
              "      <td>1.9</td>\n",
              "      <td>0.076</td>\n",
              "      <td>11.0</td>\n",
              "      <td>34.0</td>\n",
              "      <td>0.9978</td>\n",
              "      <td>3.51</td>\n",
              "      <td>0.56</td>\n",
              "      <td>9.4</td>\n",
              "      <td>5</td>\n",
              "    </tr>\n",
              "    <tr>\n",
              "      <th>red</th>\n",
              "      <td>7.8</td>\n",
              "      <td>0.88</td>\n",
              "      <td>1.00</td>\n",
              "      <td>2.6</td>\n",
              "      <td>0.098</td>\n",
              "      <td>25.0</td>\n",
              "      <td>67.0</td>\n",
              "      <td>0.9968</td>\n",
              "      <td>3.20</td>\n",
              "      <td>0.68</td>\n",
              "      <td>9.8</td>\n",
              "      <td>5</td>\n",
              "    </tr>\n",
              "    <tr>\n",
              "      <th>red</th>\n",
              "      <td>7.8</td>\n",
              "      <td>0.76</td>\n",
              "      <td>1.04</td>\n",
              "      <td>2.3</td>\n",
              "      <td>0.092</td>\n",
              "      <td>15.0</td>\n",
              "      <td>54.0</td>\n",
              "      <td>0.9970</td>\n",
              "      <td>3.26</td>\n",
              "      <td>0.65</td>\n",
              "      <td>9.8</td>\n",
              "      <td>5</td>\n",
              "    </tr>\n",
              "  </tbody>\n",
              "</table>\n",
              "</div>"
            ],
            "text/plain": [
              "       fixed acidity  volatile acidity  ...  alcohol  quality\n",
              "color                                   ...                  \n",
              "red              7.4              0.70  ...      9.4        5\n",
              "red              7.8              0.88  ...      9.8        5\n",
              "red              7.8              0.76  ...      9.8        5\n",
              "\n",
              "[3 rows x 12 columns]"
            ]
          },
          "metadata": {
            "tags": []
          },
          "execution_count": 4
        }
      ]
    },
    {
      "cell_type": "code",
      "metadata": {
        "id": "H0WiD0rFZCwc",
        "colab_type": "code",
        "colab": {}
      },
      "source": [
        "inp_df = inp_df.apply(lambda x: np.log10(x))"
      ],
      "execution_count": null,
      "outputs": []
    },
    {
      "cell_type": "code",
      "metadata": {
        "id": "460Z7JYoZCwm",
        "colab_type": "code",
        "colab": {
          "base_uri": "https://localhost:8080/",
          "height": 192
        },
        "outputId": "965d5312-d7fa-43ea-9152-553045fdcd75"
      },
      "source": [
        "from sklearn.preprocessing import StandardScaler\n",
        "scaler = StandardScaler()\n",
        "inp_df_scaled=pd.DataFrame(scaler.fit_transform(inp_df.to_numpy()),columns=inp_df.columns,index=inp_df.index)\n",
        "inp_df_scaled.head(3)"
      ],
      "execution_count": null,
      "outputs": [
        {
          "output_type": "execute_result",
          "data": {
            "text/html": [
              "<div>\n",
              "<style scoped>\n",
              "    .dataframe tbody tr th:only-of-type {\n",
              "        vertical-align: middle;\n",
              "    }\n",
              "\n",
              "    .dataframe tbody tr th {\n",
              "        vertical-align: top;\n",
              "    }\n",
              "\n",
              "    .dataframe thead th {\n",
              "        text-align: right;\n",
              "    }\n",
              "</style>\n",
              "<table border=\"1\" class=\"dataframe\">\n",
              "  <thead>\n",
              "    <tr style=\"text-align: right;\">\n",
              "      <th></th>\n",
              "      <th>fixed acidity</th>\n",
              "      <th>volatile acidity</th>\n",
              "      <th>citric acid</th>\n",
              "      <th>residual sugar</th>\n",
              "      <th>chlorides</th>\n",
              "      <th>free sulfur dioxide</th>\n",
              "      <th>total sulfur dioxide</th>\n",
              "      <th>density</th>\n",
              "      <th>pH</th>\n",
              "      <th>sulphates</th>\n",
              "      <th>alcohol</th>\n",
              "      <th>quality</th>\n",
              "    </tr>\n",
              "    <tr>\n",
              "      <th>color</th>\n",
              "      <th></th>\n",
              "      <th></th>\n",
              "      <th></th>\n",
              "      <th></th>\n",
              "      <th></th>\n",
              "      <th></th>\n",
              "      <th></th>\n",
              "      <th></th>\n",
              "      <th></th>\n",
              "      <th></th>\n",
              "      <th></th>\n",
              "      <th></th>\n",
              "    </tr>\n",
              "  </thead>\n",
              "  <tbody>\n",
              "    <tr>\n",
              "      <th>red</th>\n",
              "      <td>0.240369</td>\n",
              "      <td>1.876072</td>\n",
              "      <td>-2.461304</td>\n",
              "      <td>-0.791963</td>\n",
              "      <td>0.959347</td>\n",
              "      <td>-1.171275</td>\n",
              "      <td>-1.452245</td>\n",
              "      <td>1.035635</td>\n",
              "      <td>1.771578</td>\n",
              "      <td>0.338472</td>\n",
              "      <td>-0.930853</td>\n",
              "      <td>-0.916425</td>\n",
              "    </tr>\n",
              "    <tr>\n",
              "      <th>red</th>\n",
              "      <td>0.560894</td>\n",
              "      <td>2.397336</td>\n",
              "      <td>-2.461304</td>\n",
              "      <td>-0.428719</td>\n",
              "      <td>1.549041</td>\n",
              "      <td>0.003936</td>\n",
              "      <td>-0.502721</td>\n",
              "      <td>0.702758</td>\n",
              "      <td>-0.091226</td>\n",
              "      <td>1.093834</td>\n",
              "      <td>-0.556448</td>\n",
              "      <td>-0.916425</td>\n",
              "    </tr>\n",
              "    <tr>\n",
              "      <th>red</th>\n",
              "      <td>0.560894</td>\n",
              "      <td>2.063397</td>\n",
              "      <td>-2.104518</td>\n",
              "      <td>-0.570703</td>\n",
              "      <td>1.402498</td>\n",
              "      <td>-0.727296</td>\n",
              "      <td>-0.804668</td>\n",
              "      <td>0.769360</td>\n",
              "      <td>0.283014</td>\n",
              "      <td>0.918293</td>\n",
              "      <td>-0.556448</td>\n",
              "      <td>-0.916425</td>\n",
              "    </tr>\n",
              "  </tbody>\n",
              "</table>\n",
              "</div>"
            ],
            "text/plain": [
              "       fixed acidity  volatile acidity  ...   alcohol   quality\n",
              "color                                   ...                    \n",
              "red         0.240369          1.876072  ... -0.930853 -0.916425\n",
              "red         0.560894          2.397336  ... -0.556448 -0.916425\n",
              "red         0.560894          2.063397  ... -0.556448 -0.916425\n",
              "\n",
              "[3 rows x 12 columns]"
            ]
          },
          "metadata": {
            "tags": []
          },
          "execution_count": 6
        }
      ]
    },
    {
      "cell_type": "code",
      "metadata": {
        "id": "1aXGGPzeZCw5",
        "colab_type": "code",
        "colab": {
          "base_uri": "https://localhost:8080/",
          "height": 36
        },
        "outputId": "b919f6d2-d90e-4c45-c4a6-f301a2a5fa66"
      },
      "source": [
        "from sklearn.model_selection import train_test_split\n",
        "X_train, X_test, y_train, y_test = train_test_split(inp_df, [0]*len(inp_df), test_size=0.25, random_state=42)\n",
        "len(X_train)"
      ],
      "execution_count": null,
      "outputs": [
        {
          "output_type": "execute_result",
          "data": {
            "text/plain": [
              "4872"
            ]
          },
          "metadata": {
            "tags": []
          },
          "execution_count": 7
        }
      ]
    },
    {
      "cell_type": "code",
      "metadata": {
        "id": "ZT6cBtm7ZCxJ",
        "colab_type": "code",
        "colab": {
          "base_uri": "https://localhost:8080/",
          "height": 36
        },
        "outputId": "795d5685-b41a-4249-ee3f-0807fffb0c19"
      },
      "source": [
        "import keras\n",
        "from keras import models,layers,optimizers\n",
        "\n",
        "encoder=keras.models.Sequential([keras.layers.Dense(2,input_shape=[12], activation='linear')])\n",
        "decoder=keras.models.Sequential([keras.layers.Dense(12,input_shape=[2], activation='linear')])\n",
        "\n",
        "autoencoder=keras.models.Sequential([encoder,decoder])\n",
        "autoencoder.compile(loss='mse',optimizer=optimizers.Adam(lr=0.0015,beta_1=0.95,beta_2=0.99))"
      ],
      "execution_count": null,
      "outputs": [
        {
          "output_type": "stream",
          "text": [
            "Using TensorFlow backend.\n"
          ],
          "name": "stderr"
        }
      ]
    },
    {
      "cell_type": "code",
      "metadata": {
        "id": "W0DcRjFmZCxX",
        "colab_type": "code",
        "colab": {
          "base_uri": "https://localhost:8080/",
          "height": 1000
        },
        "outputId": "c4338194-05f9-4c51-c3da-cd7ccf966731"
      },
      "source": [
        "from keras.callbacks import EarlyStopping, ModelCheckpoint\n",
        "\n",
        "callbacks = [EarlyStopping(monitor='val_loss', patience=3),\n",
        "             ModelCheckpoint(filepath='HW5_Q1.h5', monitor='val_loss')]\n",
        "\n",
        "history=autoencoder.fit(X_train, X_train,\n",
        "                epochs=100,\n",
        "                batch_size=128,\n",
        "                shuffle=True,\n",
        "                validation_data=[X_test, X_test],callbacks=callbacks)\n"
      ],
      "execution_count": null,
      "outputs": [
        {
          "output_type": "stream",
          "text": [
            "Train on 4872 samples, validate on 1625 samples\n",
            "Epoch 1/100\n",
            "4872/4872 [==============================] - 0s 84us/step - loss: 1.0737 - val_loss: 0.8451\n",
            "Epoch 2/100\n",
            "4872/4872 [==============================] - 0s 25us/step - loss: 0.7162 - val_loss: 0.5918\n",
            "Epoch 3/100\n",
            "4872/4872 [==============================] - 0s 25us/step - loss: 0.5137 - val_loss: 0.4257\n",
            "Epoch 4/100\n",
            "4872/4872 [==============================] - 0s 26us/step - loss: 0.3602 - val_loss: 0.2852\n",
            "Epoch 5/100\n",
            "4872/4872 [==============================] - 0s 30us/step - loss: 0.2289 - val_loss: 0.1679\n",
            "Epoch 6/100\n",
            "4872/4872 [==============================] - 0s 24us/step - loss: 0.1246 - val_loss: 0.0831\n",
            "Epoch 7/100\n",
            "4872/4872 [==============================] - 0s 27us/step - loss: 0.0597 - val_loss: 0.0413\n",
            "Epoch 8/100\n",
            "4872/4872 [==============================] - 0s 25us/step - loss: 0.0337 - val_loss: 0.0297\n",
            "Epoch 9/100\n",
            "4872/4872 [==============================] - 0s 25us/step - loss: 0.0282 - val_loss: 0.0281\n",
            "Epoch 10/100\n",
            "4872/4872 [==============================] - 0s 28us/step - loss: 0.0273 - val_loss: 0.0275\n",
            "Epoch 11/100\n",
            "4872/4872 [==============================] - 0s 26us/step - loss: 0.0268 - val_loss: 0.0270\n",
            "Epoch 12/100\n",
            "4872/4872 [==============================] - 0s 28us/step - loss: 0.0263 - val_loss: 0.0265\n",
            "Epoch 13/100\n",
            "4872/4872 [==============================] - 0s 25us/step - loss: 0.0259 - val_loss: 0.0260\n",
            "Epoch 14/100\n",
            "4872/4872 [==============================] - 0s 27us/step - loss: 0.0253 - val_loss: 0.0254\n",
            "Epoch 15/100\n",
            "4872/4872 [==============================] - 0s 27us/step - loss: 0.0248 - val_loss: 0.0247\n",
            "Epoch 16/100\n",
            "4872/4872 [==============================] - 0s 25us/step - loss: 0.0242 - val_loss: 0.0241\n",
            "Epoch 17/100\n",
            "4872/4872 [==============================] - 0s 27us/step - loss: 0.0235 - val_loss: 0.0234\n",
            "Epoch 18/100\n",
            "4872/4872 [==============================] - 0s 25us/step - loss: 0.0229 - val_loss: 0.0227\n",
            "Epoch 19/100\n",
            "4872/4872 [==============================] - 0s 29us/step - loss: 0.0222 - val_loss: 0.0219\n",
            "Epoch 20/100\n",
            "4872/4872 [==============================] - 0s 25us/step - loss: 0.0215 - val_loss: 0.0212\n",
            "Epoch 21/100\n",
            "4872/4872 [==============================] - 0s 26us/step - loss: 0.0207 - val_loss: 0.0204\n",
            "Epoch 22/100\n",
            "4872/4872 [==============================] - 0s 27us/step - loss: 0.0201 - val_loss: 0.0196\n",
            "Epoch 23/100\n",
            "4872/4872 [==============================] - 0s 25us/step - loss: 0.0193 - val_loss: 0.0189\n",
            "Epoch 24/100\n",
            "4872/4872 [==============================] - 0s 26us/step - loss: 0.0186 - val_loss: 0.0181\n",
            "Epoch 25/100\n",
            "4872/4872 [==============================] - 0s 25us/step - loss: 0.0179 - val_loss: 0.0174\n",
            "Epoch 26/100\n",
            "4872/4872 [==============================] - 0s 25us/step - loss: 0.0173 - val_loss: 0.0168\n",
            "Epoch 27/100\n",
            "4872/4872 [==============================] - 0s 26us/step - loss: 0.0166 - val_loss: 0.0161\n",
            "Epoch 28/100\n",
            "4872/4872 [==============================] - 0s 28us/step - loss: 0.0161 - val_loss: 0.0156\n",
            "Epoch 29/100\n",
            "4872/4872 [==============================] - 0s 28us/step - loss: 0.0156 - val_loss: 0.0153\n",
            "Epoch 30/100\n",
            "4872/4872 [==============================] - 0s 28us/step - loss: 0.0151 - val_loss: 0.0148\n",
            "Epoch 31/100\n",
            "4872/4872 [==============================] - 0s 27us/step - loss: 0.0147 - val_loss: 0.0144\n",
            "Epoch 32/100\n",
            "4872/4872 [==============================] - 0s 29us/step - loss: 0.0144 - val_loss: 0.0141\n",
            "Epoch 33/100\n",
            "4872/4872 [==============================] - 0s 28us/step - loss: 0.0140 - val_loss: 0.0137\n",
            "Epoch 34/100\n",
            "4872/4872 [==============================] - 0s 27us/step - loss: 0.0135 - val_loss: 0.0133\n",
            "Epoch 35/100\n",
            "4872/4872 [==============================] - 0s 29us/step - loss: 0.0131 - val_loss: 0.0130\n",
            "Epoch 36/100\n",
            "4872/4872 [==============================] - 0s 29us/step - loss: 0.0127 - val_loss: 0.0126\n",
            "Epoch 37/100\n",
            "4872/4872 [==============================] - 0s 29us/step - loss: 0.0123 - val_loss: 0.0123\n",
            "Epoch 38/100\n",
            "4872/4872 [==============================] - 0s 30us/step - loss: 0.0119 - val_loss: 0.0120\n",
            "Epoch 39/100\n",
            "4872/4872 [==============================] - 0s 27us/step - loss: 0.0115 - val_loss: 0.0117\n",
            "Epoch 40/100\n",
            "4872/4872 [==============================] - 0s 27us/step - loss: 0.0112 - val_loss: 0.0113\n",
            "Epoch 41/100\n",
            "4872/4872 [==============================] - 0s 29us/step - loss: 0.0108 - val_loss: 0.0111\n",
            "Epoch 42/100\n",
            "4872/4872 [==============================] - 0s 27us/step - loss: 0.0105 - val_loss: 0.0108\n",
            "Epoch 43/100\n",
            "4872/4872 [==============================] - 0s 29us/step - loss: 0.0103 - val_loss: 0.0106\n",
            "Epoch 44/100\n",
            "4872/4872 [==============================] - 0s 28us/step - loss: 0.0101 - val_loss: 0.0104\n",
            "Epoch 45/100\n",
            "4872/4872 [==============================] - 0s 29us/step - loss: 0.0099 - val_loss: 0.0102\n",
            "Epoch 46/100\n",
            "4872/4872 [==============================] - 0s 29us/step - loss: 0.0097 - val_loss: 0.0101\n",
            "Epoch 47/100\n",
            "4872/4872 [==============================] - 0s 28us/step - loss: 0.0095 - val_loss: 0.0099\n",
            "Epoch 48/100\n",
            "4872/4872 [==============================] - 0s 28us/step - loss: 0.0094 - val_loss: 0.0098\n",
            "Epoch 49/100\n",
            "4872/4872 [==============================] - 0s 32us/step - loss: 0.0093 - val_loss: 0.0097\n",
            "Epoch 50/100\n",
            "4872/4872 [==============================] - 0s 28us/step - loss: 0.0092 - val_loss: 0.0096\n",
            "Epoch 51/100\n",
            "4872/4872 [==============================] - 0s 31us/step - loss: 0.0091 - val_loss: 0.0095\n",
            "Epoch 52/100\n",
            "4872/4872 [==============================] - 0s 28us/step - loss: 0.0090 - val_loss: 0.0094\n",
            "Epoch 53/100\n",
            "4872/4872 [==============================] - 0s 28us/step - loss: 0.0089 - val_loss: 0.0093\n",
            "Epoch 54/100\n",
            "4872/4872 [==============================] - 0s 29us/step - loss: 0.0088 - val_loss: 0.0093\n",
            "Epoch 55/100\n",
            "4872/4872 [==============================] - 0s 30us/step - loss: 0.0088 - val_loss: 0.0092\n",
            "Epoch 56/100\n",
            "4872/4872 [==============================] - 0s 29us/step - loss: 0.0087 - val_loss: 0.0092\n",
            "Epoch 57/100\n",
            "4872/4872 [==============================] - 0s 31us/step - loss: 0.0087 - val_loss: 0.0091\n",
            "Epoch 58/100\n",
            "4872/4872 [==============================] - 0s 29us/step - loss: 0.0086 - val_loss: 0.0091\n",
            "Epoch 59/100\n",
            "4872/4872 [==============================] - 0s 28us/step - loss: 0.0086 - val_loss: 0.0090\n",
            "Epoch 60/100\n",
            "4872/4872 [==============================] - 0s 29us/step - loss: 0.0086 - val_loss: 0.0090\n",
            "Epoch 61/100\n",
            "4872/4872 [==============================] - 0s 29us/step - loss: 0.0085 - val_loss: 0.0090\n",
            "Epoch 62/100\n",
            "4872/4872 [==============================] - 0s 25us/step - loss: 0.0085 - val_loss: 0.0089\n",
            "Epoch 63/100\n",
            "4872/4872 [==============================] - 0s 29us/step - loss: 0.0085 - val_loss: 0.0089\n",
            "Epoch 64/100\n",
            "4872/4872 [==============================] - 0s 27us/step - loss: 0.0084 - val_loss: 0.0089\n",
            "Epoch 65/100\n",
            "4872/4872 [==============================] - 0s 27us/step - loss: 0.0084 - val_loss: 0.0089\n",
            "Epoch 66/100\n",
            "4872/4872 [==============================] - 0s 28us/step - loss: 0.0084 - val_loss: 0.0088\n",
            "Epoch 67/100\n",
            "4872/4872 [==============================] - 0s 27us/step - loss: 0.0084 - val_loss: 0.0088\n",
            "Epoch 68/100\n",
            "4872/4872 [==============================] - 0s 26us/step - loss: 0.0084 - val_loss: 0.0088\n",
            "Epoch 69/100\n",
            "4872/4872 [==============================] - 0s 27us/step - loss: 0.0083 - val_loss: 0.0088\n",
            "Epoch 70/100\n",
            "4872/4872 [==============================] - 0s 29us/step - loss: 0.0083 - val_loss: 0.0088\n",
            "Epoch 71/100\n",
            "4872/4872 [==============================] - 0s 30us/step - loss: 0.0083 - val_loss: 0.0088\n",
            "Epoch 72/100\n",
            "4872/4872 [==============================] - 0s 28us/step - loss: 0.0083 - val_loss: 0.0088\n",
            "Epoch 73/100\n",
            "4872/4872 [==============================] - 0s 26us/step - loss: 0.0083 - val_loss: 0.0088\n",
            "Epoch 74/100\n",
            "4872/4872 [==============================] - 0s 29us/step - loss: 0.0083 - val_loss: 0.0088\n",
            "Epoch 75/100\n",
            "4872/4872 [==============================] - 0s 28us/step - loss: 0.0083 - val_loss: 0.0088\n",
            "Epoch 76/100\n",
            "4872/4872 [==============================] - 0s 30us/step - loss: 0.0083 - val_loss: 0.0087\n",
            "Epoch 77/100\n",
            "4872/4872 [==============================] - 0s 28us/step - loss: 0.0083 - val_loss: 0.0087\n",
            "Epoch 78/100\n",
            "4872/4872 [==============================] - 0s 29us/step - loss: 0.0083 - val_loss: 0.0087\n",
            "Epoch 79/100\n",
            "4872/4872 [==============================] - 0s 28us/step - loss: 0.0083 - val_loss: 0.0087\n",
            "Epoch 80/100\n",
            "4872/4872 [==============================] - 0s 29us/step - loss: 0.0083 - val_loss: 0.0088\n",
            "Epoch 81/100\n",
            "4872/4872 [==============================] - 0s 30us/step - loss: 0.0083 - val_loss: 0.0087\n",
            "Epoch 82/100\n",
            "4872/4872 [==============================] - 0s 30us/step - loss: 0.0083 - val_loss: 0.0087\n",
            "Epoch 83/100\n",
            "4872/4872 [==============================] - 0s 27us/step - loss: 0.0083 - val_loss: 0.0087\n",
            "Epoch 84/100\n",
            "4872/4872 [==============================] - 0s 28us/step - loss: 0.0082 - val_loss: 0.0087\n",
            "Epoch 85/100\n",
            "4872/4872 [==============================] - 0s 27us/step - loss: 0.0082 - val_loss: 0.0087\n",
            "Epoch 86/100\n",
            "4872/4872 [==============================] - 0s 29us/step - loss: 0.0082 - val_loss: 0.0087\n"
          ],
          "name": "stdout"
        }
      ]
    },
    {
      "cell_type": "code",
      "metadata": {
        "id": "ERyDcUjUZCxx",
        "colab_type": "code",
        "colab": {}
      },
      "source": [
        "import matplotlib.pyplot as plt\n",
        "\n",
        "def plot_reconstructions(model):\n",
        "    reconstructions=model.predict(X_test[:100])\n",
        "    reconstruction_df=pd.DataFrame(reconstructions,columns=['pc 1','pc 2'],index=list(X_test[:100].index))\n",
        "    plt.figure(figsize=(10,7))\n",
        "    plt.scatter(reconstruction_df['pc 1'], reconstruction_df['pc 2'], c=list(reconstruction_df.index), alpha=0.8)\n",
        "    plt.title(\"Plot of encoded wine data \\n [Red wine shown in red and white wine shown in yellow]\", fontsize=14)\n",
        "    plt.xlabel('pc 1', fontsize=12)\n",
        "    plt.ylabel('pc 2', fontsize=12)\n",
        "    return reconstruction_df"
      ],
      "execution_count": null,
      "outputs": []
    },
    {
      "cell_type": "code",
      "metadata": {
        "id": "o712ayDRZCyJ",
        "colab_type": "code",
        "colab": {
          "base_uri": "https://localhost:8080/",
          "height": 479
        },
        "outputId": "cbdbcd2f-5c2a-468c-eabf-7d8d4fa9104d"
      },
      "source": [
        "reconstruction_df=plot_reconstructions(encoder)"
      ],
      "execution_count": null,
      "outputs": [
        {
          "output_type": "display_data",
          "data": {
            "image/png": "[encoded data removed]",
            "text/plain": [
              "<Figure size 720x504 with 1 Axes>"
            ]
          },
          "metadata": {
            "tags": [],
            "needs_background": "light"
          }
        }
      ]
    },
    {
      "cell_type": "code",
      "metadata": {
        "id": "J9J5ddYgZCya",
        "colab_type": "code",
        "colab": {
          "base_uri": "https://localhost:8080/",
          "height": 129
        },
        "outputId": "d0ec041c-4e45-4617-90a0-61f4914b3d68"
      },
      "source": [
        "pd.DataFrame(autoencoder.predict(X_test[:2]),columns=X_test.columns)"
      ],
      "execution_count": null,
      "outputs": [
        {
          "output_type": "execute_result",
          "data": {
            "text/html": [
              "<div>\n",
              "<style scoped>\n",
              "    .dataframe tbody tr th:only-of-type {\n",
              "        vertical-align: middle;\n",
              "    }\n",
              "\n",
              "    .dataframe tbody tr th {\n",
              "        vertical-align: top;\n",
              "    }\n",
              "\n",
              "    .dataframe thead th {\n",
              "        text-align: right;\n",
              "    }\n",
              "</style>\n",
              "<table border=\"1\" class=\"dataframe\">\n",
              "  <thead>\n",
              "    <tr style=\"text-align: right;\">\n",
              "      <th></th>\n",
              "      <th>fixed acidity</th>\n",
              "      <th>volatile acidity</th>\n",
              "      <th>citric acid</th>\n",
              "      <th>residual sugar</th>\n",
              "      <th>chlorides</th>\n",
              "      <th>free sulfur dioxide</th>\n",
              "      <th>total sulfur dioxide</th>\n",
              "      <th>density</th>\n",
              "      <th>pH</th>\n",
              "      <th>sulphates</th>\n",
              "      <th>alcohol</th>\n",
              "      <th>quality</th>\n",
              "    </tr>\n",
              "  </thead>\n",
              "  <tbody>\n",
              "    <tr>\n",
              "      <th>0</th>\n",
              "      <td>0.848658</td>\n",
              "      <td>-0.513884</td>\n",
              "      <td>0.121900</td>\n",
              "      <td>1.069771</td>\n",
              "      <td>-1.307217</td>\n",
              "      <td>1.516046</td>\n",
              "      <td>2.106854</td>\n",
              "      <td>-0.001997</td>\n",
              "      <td>0.496177</td>\n",
              "      <td>-0.300795</td>\n",
              "      <td>0.996010</td>\n",
              "      <td>0.754863</td>\n",
              "    </tr>\n",
              "    <tr>\n",
              "      <th>1</th>\n",
              "      <td>0.843267</td>\n",
              "      <td>-0.536018</td>\n",
              "      <td>0.115353</td>\n",
              "      <td>0.407780</td>\n",
              "      <td>-1.332918</td>\n",
              "      <td>1.407396</td>\n",
              "      <td>1.985171</td>\n",
              "      <td>-0.003127</td>\n",
              "      <td>0.504852</td>\n",
              "      <td>-0.289802</td>\n",
              "      <td>1.027227</td>\n",
              "      <td>0.761890</td>\n",
              "    </tr>\n",
              "  </tbody>\n",
              "</table>\n",
              "</div>"
            ],
            "text/plain": [
              "   fixed acidity  volatile acidity  citric acid  ...  sulphates   alcohol   quality\n",
              "0       0.848658         -0.513884     0.121900  ...  -0.300795  0.996010  0.754863\n",
              "1       0.843267         -0.536018     0.115353  ...  -0.289802  1.027227  0.761890\n",
              "\n",
              "[2 rows x 12 columns]"
            ]
          },
          "metadata": {
            "tags": []
          },
          "execution_count": 12
        }
      ]
    },
    {
      "cell_type": "code",
      "metadata": {
        "id": "YmXEZlxTZCyo",
        "colab_type": "code",
        "colab": {
          "base_uri": "https://localhost:8080/",
          "height": 161
        },
        "outputId": "81b7df6f-61d3-4020-f9a7-169174f4aebb"
      },
      "source": [
        "X_test[:2]"
      ],
      "execution_count": null,
      "outputs": [
        {
          "output_type": "execute_result",
          "data": {
            "text/html": [
              "<div>\n",
              "<style scoped>\n",
              "    .dataframe tbody tr th:only-of-type {\n",
              "        vertical-align: middle;\n",
              "    }\n",
              "\n",
              "    .dataframe tbody tr th {\n",
              "        vertical-align: top;\n",
              "    }\n",
              "\n",
              "    .dataframe thead th {\n",
              "        text-align: right;\n",
              "    }\n",
              "</style>\n",
              "<table border=\"1\" class=\"dataframe\">\n",
              "  <thead>\n",
              "    <tr style=\"text-align: right;\">\n",
              "      <th></th>\n",
              "      <th>fixed acidity</th>\n",
              "      <th>volatile acidity</th>\n",
              "      <th>citric acid</th>\n",
              "      <th>residual sugar</th>\n",
              "      <th>chlorides</th>\n",
              "      <th>free sulfur dioxide</th>\n",
              "      <th>total sulfur dioxide</th>\n",
              "      <th>density</th>\n",
              "      <th>pH</th>\n",
              "      <th>sulphates</th>\n",
              "      <th>alcohol</th>\n",
              "      <th>quality</th>\n",
              "    </tr>\n",
              "    <tr>\n",
              "      <th>color</th>\n",
              "      <th></th>\n",
              "      <th></th>\n",
              "      <th></th>\n",
              "      <th></th>\n",
              "      <th></th>\n",
              "      <th></th>\n",
              "      <th></th>\n",
              "      <th></th>\n",
              "      <th></th>\n",
              "      <th></th>\n",
              "      <th></th>\n",
              "      <th></th>\n",
              "    </tr>\n",
              "  </thead>\n",
              "  <tbody>\n",
              "    <tr>\n",
              "      <th>yellow</th>\n",
              "      <td>0.845098</td>\n",
              "      <td>-0.769551</td>\n",
              "      <td>0.240549</td>\n",
              "      <td>1.107210</td>\n",
              "      <td>-1.346787</td>\n",
              "      <td>1.380211</td>\n",
              "      <td>2.100371</td>\n",
              "      <td>-0.002526</td>\n",
              "      <td>0.513218</td>\n",
              "      <td>-0.420216</td>\n",
              "      <td>1.086360</td>\n",
              "      <td>0.90309</td>\n",
              "    </tr>\n",
              "    <tr>\n",
              "      <th>red</th>\n",
              "      <td>0.886491</td>\n",
              "      <td>-0.193820</td>\n",
              "      <td>0.082785</td>\n",
              "      <td>0.342423</td>\n",
              "      <td>-1.113509</td>\n",
              "      <td>1.505150</td>\n",
              "      <td>2.123852</td>\n",
              "      <td>-0.001915</td>\n",
              "      <td>0.514548</td>\n",
              "      <td>-0.346787</td>\n",
              "      <td>0.995635</td>\n",
              "      <td>0.69897</td>\n",
              "    </tr>\n",
              "  </tbody>\n",
              "</table>\n",
              "</div>"
            ],
            "text/plain": [
              "        fixed acidity  volatile acidity  ...   alcohol  quality\n",
              "color                                    ...                   \n",
              "yellow       0.845098         -0.769551  ...  1.086360  0.90309\n",
              "red          0.886491         -0.193820  ...  0.995635  0.69897\n",
              "\n",
              "[2 rows x 12 columns]"
            ]
          },
          "metadata": {
            "tags": []
          },
          "execution_count": 13
        }
      ]
    },
    {
      "cell_type": "markdown",
      "metadata": {
        "id": "w_oAwmYqjYVL",
        "colab_type": "text"
      },
      "source": [
        "# HW 1 : Q2"
      ]
    },
    {
      "cell_type": "code",
      "metadata": {
        "id": "iRXXd7MIjX5p",
        "colab_type": "code",
        "colab": {}
      },
      "source": [
        "from keras.datasets import mnist\n",
        "import numpy as np\n",
        "(X_train, y_train), (X_test, y_test) = mnist.load_data()"
      ],
      "execution_count": null,
      "outputs": []
    },
    {
      "cell_type": "code",
      "metadata": {
        "id": "Vp67Y8T6jXE8",
        "colab_type": "code",
        "colab": {}
      },
      "source": [
        "X_train = X_train.astype('float32') / 255.\n",
        "X_test = X_test.astype('float32') / 255.\n",
        "X_train = np.reshape(X_train, (len(X_train), 28, 28, 1))\n",
        "X_test = np.reshape(X_test, (len(X_test), 28, 28, 1))"
      ],
      "execution_count": null,
      "outputs": []
    },
    {
      "cell_type": "code",
      "metadata": {
        "id": "P1JMEG6djV_V",
        "colab_type": "code",
        "colab": {}
      },
      "source": [
        "encoder_2=keras.models.Sequential([\n",
        "keras.layers.Flatten(input_shape=[28,28,1]),\n",
        "keras.layers.Dense(128, activation='selu'),\n",
        "keras.layers.Dense(32, activation='selu'),\n",
        "keras.layers.Dense(8, activation='selu'),\n",
        "keras.layers.Dense(4, activation='selu'),\n",
        "keras.layers.Dense(2, activation='selu')\n",
        "])\n",
        "decoder_2=keras.models.Sequential([\n",
        "keras.layers.Dense(4,input_shape=[2], activation='selu'),\n",
        "keras.layers.Dense(8, activation='sigmoid'),\n",
        "keras.layers.Dense(32, activation='sigmoid'),\n",
        "keras.layers.Dense(128, activation='sigmoid'),\n",
        "keras.layers.Dense(28*28, activation='sigmoid'),\n",
        "keras.layers.Reshape([28,28,1])\n",
        "])\n",
        "\n",
        "autoencoder_2=keras.models.Sequential([encoder_2,decoder_2])\n",
        "autoencoder_2.compile(loss='mse',optimizer=optimizers.Adam(lr=0.0025,beta_1=0.97,beta_2=0.99))"
      ],
      "execution_count": null,
      "outputs": []
    },
    {
      "cell_type": "code",
      "metadata": {
        "id": "_XaP1RqRHVGd",
        "colab_type": "code",
        "colab": {
          "base_uri": "https://localhost:8080/",
          "height": 391
        },
        "outputId": "f5a22bd9-f553-4f40-a75a-c399c5675cb8"
      },
      "source": [
        "encoder_2.summary()"
      ],
      "execution_count": null,
      "outputs": [
        {
          "output_type": "stream",
          "text": [
            "Model: \"sequential_4\"\n",
            "_________________________________________________________________\n",
            "Layer (type)                 Output Shape              Param #   \n",
            "=================================================================\n",
            "flatten_1 (Flatten)          (None, 784)               0         \n",
            "_________________________________________________________________\n",
            "dense_3 (Dense)              (None, 128)               100480    \n",
            "_________________________________________________________________\n",
            "dense_4 (Dense)              (None, 32)                4128      \n",
            "_________________________________________________________________\n",
            "dense_5 (Dense)              (None, 8)                 264       \n",
            "_________________________________________________________________\n",
            "dense_6 (Dense)              (None, 4)                 36        \n",
            "_________________________________________________________________\n",
            "dense_7 (Dense)              (None, 2)                 10        \n",
            "=================================================================\n",
            "Total params: 104,918\n",
            "Trainable params: 104,918\n",
            "Non-trainable params: 0\n",
            "_________________________________________________________________\n"
          ],
          "name": "stdout"
        }
      ]
    },
    {
      "cell_type": "code",
      "metadata": {
        "id": "Pej7jmxRjVs-",
        "colab_type": "code",
        "colab": {
          "base_uri": "https://localhost:8080/",
          "height": 1000
        },
        "outputId": "fcb92a31-a6dc-4b48-dee9-d48fecc3fa5d"
      },
      "source": [
        "from keras.callbacks import EarlyStopping, ModelCheckpoint\n",
        "\n",
        "callbacks = [EarlyStopping(monitor='val_loss', patience=3),\n",
        "             ModelCheckpoint(filepath='HW5_Q2.h5', monitor='val_loss')]\n",
        "\n",
        "history=autoencoder_2.fit(X_train, X_train,\n",
        "                epochs=120,\n",
        "                batch_size=256,\n",
        "                shuffle=True,\n",
        "                validation_data=[X_test, X_test],callbacks=callbacks)"
      ],
      "execution_count": null,
      "outputs": [
        {
          "output_type": "stream",
          "text": [
            "Train on 60000 samples, validate on 10000 samples\n",
            "Epoch 1/120\n",
            "60000/60000 [==============================] - 3s 43us/step - loss: 0.0730 - val_loss: 0.0676\n",
            "Epoch 2/120\n",
            "60000/60000 [==============================] - 2s 37us/step - loss: 0.0632 - val_loss: 0.0606\n",
            "Epoch 3/120\n",
            "60000/60000 [==============================] - 2s 37us/step - loss: 0.0597 - val_loss: 0.0585\n",
            "Epoch 4/120\n",
            "60000/60000 [==============================] - 2s 37us/step - loss: 0.0573 - val_loss: 0.0544\n",
            "Epoch 5/120\n",
            "60000/60000 [==============================] - 2s 37us/step - loss: 0.0531 - val_loss: 0.0519\n",
            "Epoch 6/120\n",
            "60000/60000 [==============================] - 2s 37us/step - loss: 0.0509 - val_loss: 0.0497\n",
            "Epoch 7/120\n",
            "60000/60000 [==============================] - 2s 38us/step - loss: 0.0492 - val_loss: 0.0485\n",
            "Epoch 8/120\n",
            "60000/60000 [==============================] - 2s 37us/step - loss: 0.0480 - val_loss: 0.0476\n",
            "Epoch 9/120\n",
            "60000/60000 [==============================] - 2s 37us/step - loss: 0.0467 - val_loss: 0.0461\n",
            "Epoch 10/120\n",
            "60000/60000 [==============================] - 2s 37us/step - loss: 0.0455 - val_loss: 0.0452\n",
            "Epoch 11/120\n",
            "60000/60000 [==============================] - 2s 37us/step - loss: 0.0447 - val_loss: 0.0444\n",
            "Epoch 12/120\n",
            "60000/60000 [==============================] - 2s 38us/step - loss: 0.0439 - val_loss: 0.0438\n",
            "Epoch 13/120\n",
            "60000/60000 [==============================] - 2s 37us/step - loss: 0.0432 - val_loss: 0.0432\n",
            "Epoch 14/120\n",
            "60000/60000 [==============================] - 2s 37us/step - loss: 0.0427 - val_loss: 0.0430\n",
            "Epoch 15/120\n",
            "60000/60000 [==============================] - 2s 37us/step - loss: 0.0422 - val_loss: 0.0422\n",
            "Epoch 16/120\n",
            "60000/60000 [==============================] - 2s 38us/step - loss: 0.0418 - val_loss: 0.0419\n",
            "Epoch 17/120\n",
            "60000/60000 [==============================] - 2s 37us/step - loss: 0.0414 - val_loss: 0.0416\n",
            "Epoch 18/120\n",
            "60000/60000 [==============================] - 2s 37us/step - loss: 0.0411 - val_loss: 0.0412\n",
            "Epoch 19/120\n",
            "60000/60000 [==============================] - 2s 37us/step - loss: 0.0408 - val_loss: 0.0410\n",
            "Epoch 20/120\n",
            "60000/60000 [==============================] - 2s 37us/step - loss: 0.0405 - val_loss: 0.0408\n",
            "Epoch 21/120\n",
            "60000/60000 [==============================] - 2s 37us/step - loss: 0.0402 - val_loss: 0.0405\n",
            "Epoch 22/120\n",
            "60000/60000 [==============================] - 2s 38us/step - loss: 0.0400 - val_loss: 0.0404\n",
            "Epoch 23/120\n",
            "60000/60000 [==============================] - 2s 37us/step - loss: 0.0398 - val_loss: 0.0401\n",
            "Epoch 24/120\n",
            "60000/60000 [==============================] - 2s 38us/step - loss: 0.0396 - val_loss: 0.0401\n",
            "Epoch 25/120\n",
            "60000/60000 [==============================] - 2s 38us/step - loss: 0.0394 - val_loss: 0.0397\n",
            "Epoch 26/120\n",
            "60000/60000 [==============================] - 2s 37us/step - loss: 0.0393 - val_loss: 0.0398\n",
            "Epoch 27/120\n",
            "60000/60000 [==============================] - 2s 37us/step - loss: 0.0391 - val_loss: 0.0396\n",
            "Epoch 28/120\n",
            "60000/60000 [==============================] - 2s 38us/step - loss: 0.0389 - val_loss: 0.0396\n",
            "Epoch 29/120\n",
            "60000/60000 [==============================] - 2s 38us/step - loss: 0.0388 - val_loss: 0.0393\n",
            "Epoch 30/120\n",
            "60000/60000 [==============================] - 2s 38us/step - loss: 0.0387 - val_loss: 0.0392\n",
            "Epoch 31/120\n",
            "60000/60000 [==============================] - 2s 37us/step - loss: 0.0385 - val_loss: 0.0393\n",
            "Epoch 32/120\n",
            "60000/60000 [==============================] - 2s 37us/step - loss: 0.0385 - val_loss: 0.0391\n",
            "Epoch 33/120\n",
            "60000/60000 [==============================] - 2s 37us/step - loss: 0.0383 - val_loss: 0.0390\n",
            "Epoch 34/120\n",
            "60000/60000 [==============================] - 2s 37us/step - loss: 0.0382 - val_loss: 0.0390\n",
            "Epoch 35/120\n",
            "60000/60000 [==============================] - 2s 37us/step - loss: 0.0381 - val_loss: 0.0389\n",
            "Epoch 36/120\n",
            "60000/60000 [==============================] - 2s 37us/step - loss: 0.0380 - val_loss: 0.0387\n",
            "Epoch 37/120\n",
            "60000/60000 [==============================] - 2s 37us/step - loss: 0.0379 - val_loss: 0.0388\n",
            "Epoch 38/120\n",
            "60000/60000 [==============================] - 2s 37us/step - loss: 0.0378 - val_loss: 0.0388\n",
            "Epoch 39/120\n",
            "60000/60000 [==============================] - 2s 37us/step - loss: 0.0377 - val_loss: 0.0386\n",
            "Epoch 40/120\n",
            "60000/60000 [==============================] - 2s 37us/step - loss: 0.0377 - val_loss: 0.0387\n",
            "Epoch 41/120\n",
            "60000/60000 [==============================] - 2s 37us/step - loss: 0.0375 - val_loss: 0.0386\n",
            "Epoch 42/120\n",
            "60000/60000 [==============================] - 2s 36us/step - loss: 0.0375 - val_loss: 0.0386\n",
            "Epoch 43/120\n",
            "60000/60000 [==============================] - 2s 37us/step - loss: 0.0374 - val_loss: 0.0386\n",
            "Epoch 44/120\n",
            "60000/60000 [==============================] - 2s 37us/step - loss: 0.0373 - val_loss: 0.0383\n",
            "Epoch 45/120\n",
            "60000/60000 [==============================] - 2s 37us/step - loss: 0.0373 - val_loss: 0.0385\n",
            "Epoch 46/120\n",
            "60000/60000 [==============================] - 2s 37us/step - loss: 0.0372 - val_loss: 0.0383\n",
            "Epoch 47/120\n",
            "60000/60000 [==============================] - 2s 36us/step - loss: 0.0371 - val_loss: 0.0382\n",
            "Epoch 48/120\n",
            "60000/60000 [==============================] - 2s 37us/step - loss: 0.0370 - val_loss: 0.0383\n",
            "Epoch 49/120\n",
            "60000/60000 [==============================] - 2s 37us/step - loss: 0.0370 - val_loss: 0.0381\n",
            "Epoch 50/120\n",
            "60000/60000 [==============================] - 2s 36us/step - loss: 0.0369 - val_loss: 0.0385\n",
            "Epoch 51/120\n",
            "60000/60000 [==============================] - 2s 37us/step - loss: 0.0369 - val_loss: 0.0381\n",
            "Epoch 52/120\n",
            "60000/60000 [==============================] - 2s 37us/step - loss: 0.0368 - val_loss: 0.0381\n",
            "Epoch 53/120\n",
            "60000/60000 [==============================] - 2s 36us/step - loss: 0.0367 - val_loss: 0.0379\n",
            "Epoch 54/120\n",
            "60000/60000 [==============================] - 2s 37us/step - loss: 0.0367 - val_loss: 0.0379\n",
            "Epoch 55/120\n",
            "60000/60000 [==============================] - 2s 37us/step - loss: 0.0366 - val_loss: 0.0381\n",
            "Epoch 56/120\n",
            "60000/60000 [==============================] - 2s 37us/step - loss: 0.0366 - val_loss: 0.0378\n",
            "Epoch 57/120\n",
            "60000/60000 [==============================] - 2s 37us/step - loss: 0.0365 - val_loss: 0.0378\n",
            "Epoch 58/120\n",
            "60000/60000 [==============================] - 2s 37us/step - loss: 0.0365 - val_loss: 0.0378\n",
            "Epoch 59/120\n",
            "60000/60000 [==============================] - 2s 37us/step - loss: 0.0364 - val_loss: 0.0378\n",
            "Epoch 60/120\n",
            "60000/60000 [==============================] - 2s 37us/step - loss: 0.0364 - val_loss: 0.0379\n",
            "Epoch 61/120\n",
            "60000/60000 [==============================] - 2s 37us/step - loss: 0.0363 - val_loss: 0.0378\n",
            "Epoch 62/120\n",
            "60000/60000 [==============================] - 2s 37us/step - loss: 0.0363 - val_loss: 0.0378\n",
            "Epoch 63/120\n",
            "60000/60000 [==============================] - 2s 37us/step - loss: 0.0363 - val_loss: 0.0378\n",
            "Epoch 64/120\n",
            "60000/60000 [==============================] - 2s 37us/step - loss: 0.0362 - val_loss: 0.0378\n",
            "Epoch 65/120\n",
            "60000/60000 [==============================] - 2s 37us/step - loss: 0.0362 - val_loss: 0.0377\n",
            "Epoch 66/120\n",
            "60000/60000 [==============================] - 2s 37us/step - loss: 0.0361 - val_loss: 0.0378\n",
            "Epoch 67/120\n",
            "60000/60000 [==============================] - 2s 37us/step - loss: 0.0361 - val_loss: 0.0378\n",
            "Epoch 68/120\n",
            "60000/60000 [==============================] - 2s 37us/step - loss: 0.0360 - val_loss: 0.0376\n",
            "Epoch 69/120\n",
            "60000/60000 [==============================] - 2s 37us/step - loss: 0.0360 - val_loss: 0.0377\n",
            "Epoch 70/120\n",
            "60000/60000 [==============================] - 2s 37us/step - loss: 0.0360 - val_loss: 0.0375\n",
            "Epoch 71/120\n",
            "60000/60000 [==============================] - 2s 37us/step - loss: 0.0359 - val_loss: 0.0375\n",
            "Epoch 72/120\n",
            "60000/60000 [==============================] - 2s 37us/step - loss: 0.0359 - val_loss: 0.0375\n",
            "Epoch 73/120\n",
            "60000/60000 [==============================] - 2s 37us/step - loss: 0.0359 - val_loss: 0.0376\n",
            "Epoch 74/120\n",
            "60000/60000 [==============================] - 2s 37us/step - loss: 0.0358 - val_loss: 0.0374\n",
            "Epoch 75/120\n",
            "60000/60000 [==============================] - 2s 37us/step - loss: 0.0358 - val_loss: 0.0375\n",
            "Epoch 76/120\n",
            "60000/60000 [==============================] - 2s 37us/step - loss: 0.0357 - val_loss: 0.0376\n",
            "Epoch 77/120\n",
            "60000/60000 [==============================] - 2s 37us/step - loss: 0.0358 - val_loss: 0.0375\n"
          ],
          "name": "stdout"
        }
      ]
    },
    {
      "cell_type": "code",
      "metadata": {
        "id": "GDaPyvqqOtEa",
        "colab_type": "code",
        "colab": {
          "base_uri": "https://localhost:8080/",
          "height": 314
        },
        "outputId": "61ebe58e-cf51-4e0e-e908-d02e6e21e95b"
      },
      "source": [
        "import matplotlib.pyplot as plt\n",
        "\n",
        "loss = history.history['loss']\n",
        "val_loss = history.history['val_loss']\n",
        "\n",
        "epochs = range(1,len(loss)+1)\n",
        "plt.figure()\n",
        "_=plt.plot(epochs, loss, 'bo', label='Training loss')\n",
        "_=plt.plot(epochs, val_loss, 'r', label='Validation loss')\n",
        "plt.title('Train and validation Loss - (Min. Val. Loss = '+str(round(min(val_loss)*100,2))+' %)')\n",
        "plt.xlabel('Epochs')\n",
        "plt.ylabel('Accuracy')\n",
        "plt.legend()"
      ],
      "execution_count": null,
      "outputs": [
        {
          "output_type": "execute_result",
          "data": {
            "text/plain": [
              "<matplotlib.legend.Legend at 0x7fae3619b9e8>"
            ]
          },
          "metadata": {
            "tags": []
          },
          "execution_count": 19
        },
        {
          "output_type": "display_data",
          "data": {
            "image/png": "[encoded data removed]",
            "text/plain": [
              "<Figure size 432x288 with 1 Axes>"
            ]
          },
          "metadata": {
            "tags": [],
            "needs_background": "light"
          }
        }
      ]
    },
    {
      "cell_type": "code",
      "metadata": {
        "id": "_9x1vM_wAVEE",
        "colab_type": "code",
        "colab": {
          "base_uri": "https://localhost:8080/",
          "height": 249
        },
        "outputId": "43356fe3-af1f-4fd9-de48-8f25f9dc9950"
      },
      "source": [
        "# Keras blog used for this block: https://blog.keras.io/building-autoencoders-in-keras.html\n",
        "\n",
        "encoded_imgs = encoder_2.predict(X_test)\n",
        "decoded_imgs = decoder_2.predict(encoded_imgs)\n",
        "\n",
        "import matplotlib.pyplot as plt\n",
        "n=5\n",
        "plt.figure(figsize=(10, 4))\n",
        "for i in range(5):\n",
        "    # display original\n",
        "    ax = plt.subplot(2, n, i + 1)\n",
        "    plt.imshow(X_test[i].reshape(28, 28))\n",
        "    plt.gray()\n",
        "    ax.get_xaxis().set_visible(False)\n",
        "    ax.get_yaxis().set_visible(False)\n",
        "\n",
        "    # display reconstruction\n",
        "    ax = plt.subplot(2, n, i + 1 + n)\n",
        "    plt.imshow(decoded_imgs[i].reshape(28, 28))\n",
        "    plt.gray()\n",
        "    ax.get_xaxis().set_visible(False)\n",
        "    ax.get_yaxis().set_visible(False)\n",
        "plt.show()"
      ],
      "execution_count": null,
      "outputs": [
        {
          "output_type": "display_data",
          "data": {
            "image/png": "[encoded data removed]",
            "text/plain": [
              "<Figure size 720x288 with 10 Axes>"
            ]
          },
          "metadata": {
            "tags": [],
            "needs_background": "light"
          }
        }
      ]
    },
    {
      "cell_type": "markdown",
      "metadata": {
        "id": "9mN0qlqdZCy1",
        "colab_type": "text"
      },
      "source": [
        "## HW 5: Q3"
      ]
    },
    {
      "cell_type": "code",
      "metadata": {
        "id": "hpi5VuqoZCy3",
        "colab_type": "code",
        "colab": {}
      },
      "source": [
        "stacked_encoder=keras.models.Sequential([\n",
        "    keras.layers.Conv2D(16,(3,3),activation='selu',input_shape=[28,28,1],padding='same'),\n",
        "    keras.layers.MaxPool2D((2,2)),\n",
        "    keras.layers.Conv2D(12,(2,2),activation='selu',padding='same'),\n",
        "    keras.layers.MaxPool2D((2,2)),\n",
        "    keras.layers.Conv2D(8,(2,2),activation='selu',padding='same'),\n",
        "    keras.layers.MaxPool2D((2,2))\n",
        "])"
      ],
      "execution_count": 33,
      "outputs": []
    },
    {
      "cell_type": "code",
      "metadata": {
        "id": "owPwd0VHZCzD",
        "colab_type": "code",
        "colab": {
          "base_uri": "https://localhost:8080/",
          "height": 381
        },
        "outputId": "fa64bc3b-4ef9-414e-a78b-80ec44580a39"
      },
      "source": [
        "stacked_encoder.summary()\n",
        "#stacked_encoder.shape"
      ],
      "execution_count": 34,
      "outputs": [
        {
          "output_type": "stream",
          "text": [
            "Model: \"sequential_10\"\n",
            "_________________________________________________________________\n",
            "Layer (type)                 Output Shape              Param #   \n",
            "=================================================================\n",
            "conv2d_4 (Conv2D)            (None, 28, 28, 16)        160       \n",
            "_________________________________________________________________\n",
            "max_pooling2d_4 (MaxPooling2 (None, 14, 14, 16)        0         \n",
            "_________________________________________________________________\n",
            "conv2d_5 (Conv2D)            (None, 14, 14, 12)        780       \n",
            "_________________________________________________________________\n",
            "max_pooling2d_5 (MaxPooling2 (None, 7, 7, 12)          0         \n",
            "_________________________________________________________________\n",
            "conv2d_6 (Conv2D)            (None, 7, 7, 8)           392       \n",
            "_________________________________________________________________\n",
            "max_pooling2d_6 (MaxPooling2 (None, 3, 3, 8)           0         \n",
            "=================================================================\n",
            "Total params: 1,332\n",
            "Trainable params: 1,332\n",
            "Non-trainable params: 0\n",
            "_________________________________________________________________\n"
          ],
          "name": "stdout"
        }
      ]
    },
    {
      "cell_type": "code",
      "metadata": {
        "id": "P3xZroLyZCzT",
        "colab_type": "code",
        "colab": {}
      },
      "source": [
        "stacked_decoder=keras.models.Sequential([\n",
        "    keras.layers.Conv2DTranspose(16,(3,3),strides=2,input_shape=[3,3,8], activation='selu',padding='valid'),\n",
        "    keras.layers.Conv2DTranspose(12,(3,3),strides=2, activation='selu',padding='same'),\n",
        "    keras.layers.Conv2DTranspose(12,(3,3),strides=1, activation='selu',padding='same'),\n",
        "    keras.layers.Conv2DTranspose(1,(3,3),strides=2, activation='sigmoid',padding='same'),\n",
        "    keras.layers.Reshape([28,28,1])\n",
        "])"
      ],
      "execution_count": 35,
      "outputs": []
    },
    {
      "cell_type": "code",
      "metadata": {
        "id": "kgv81tNhZCze",
        "colab_type": "code",
        "colab": {
          "base_uri": "https://localhost:8080/",
          "height": 345
        },
        "outputId": "2667a6c0-875c-44c0-b7b8-0aefe2b1389c"
      },
      "source": [
        "stacked_decoder.summary()\n",
        "#stacked_decoder.shape"
      ],
      "execution_count": 36,
      "outputs": [
        {
          "output_type": "stream",
          "text": [
            "Model: \"sequential_11\"\n",
            "_________________________________________________________________\n",
            "Layer (type)                 Output Shape              Param #   \n",
            "=================================================================\n",
            "conv2d_transpose_5 (Conv2DTr (None, 7, 7, 16)          1168      \n",
            "_________________________________________________________________\n",
            "conv2d_transpose_6 (Conv2DTr (None, 14, 14, 12)        1740      \n",
            "_________________________________________________________________\n",
            "conv2d_transpose_7 (Conv2DTr (None, 14, 14, 12)        1308      \n",
            "_________________________________________________________________\n",
            "conv2d_transpose_8 (Conv2DTr (None, 28, 28, 1)         109       \n",
            "_________________________________________________________________\n",
            "reshape_3 (Reshape)          (None, 28, 28, 1)         0         \n",
            "=================================================================\n",
            "Total params: 4,325\n",
            "Trainable params: 4,325\n",
            "Non-trainable params: 0\n",
            "_________________________________________________________________\n"
          ],
          "name": "stdout"
        }
      ]
    },
    {
      "cell_type": "code",
      "metadata": {
        "id": "raI_Cp8SZCzm",
        "colab_type": "code",
        "colab": {}
      },
      "source": [
        "conv_ae=keras.models.Sequential([stacked_encoder,stacked_decoder])\n",
        "conv_ae.compile(loss='binary_crossentropy',optimizer=optimizers.Adam(lr=0.001,beta_1=0.95,beta_2=0.99))"
      ],
      "execution_count": 37,
      "outputs": []
    },
    {
      "cell_type": "code",
      "metadata": {
        "id": "bzza_KgeZCzv",
        "colab_type": "code",
        "colab": {}
      },
      "source": [
        "from keras.datasets import mnist\n",
        "import numpy as np\n",
        "(X_train, y_train), (X_test, y_test) = mnist.load_data()"
      ],
      "execution_count": 38,
      "outputs": []
    },
    {
      "cell_type": "code",
      "metadata": {
        "id": "XiL7_MUvZCz3",
        "colab_type": "code",
        "colab": {
          "base_uri": "https://localhost:8080/",
          "height": 35
        },
        "outputId": "88dadbd2-b8ad-4253-8de1-b347654b7489"
      },
      "source": [
        "X_train.shape"
      ],
      "execution_count": 39,
      "outputs": [
        {
          "output_type": "execute_result",
          "data": {
            "text/plain": [
              "(60000, 28, 28)"
            ]
          },
          "metadata": {
            "tags": []
          },
          "execution_count": 39
        }
      ]
    },
    {
      "cell_type": "code",
      "metadata": {
        "id": "SZeHKc7hZC0D",
        "colab_type": "code",
        "colab": {}
      },
      "source": [
        "X_train = np.clip(X_train.astype('float32') / 255. + np.random.normal(loc=0.0,\n",
        "scale=0.5, size=X_train.shape),0.,1.)\n",
        "X_test = X_test.astype('float32') / 255.\n",
        "X_train = np.reshape(X_train, (len(X_train), 28, 28, 1))\n",
        "X_test = np.reshape(X_test, (len(X_test), 28, 28, 1))"
      ],
      "execution_count": 40,
      "outputs": []
    },
    {
      "cell_type": "code",
      "metadata": {
        "id": "H5k8zMqJZC0T",
        "colab_type": "code",
        "colab": {
          "base_uri": "https://localhost:8080/",
          "height": 727
        },
        "outputId": "b6a65a88-04e7-4f77-e59c-c201f6788922"
      },
      "source": [
        "from keras.callbacks import EarlyStopping, ModelCheckpoint\n",
        "\n",
        "callbacks = [EarlyStopping(monitor='val_loss', patience=3),\n",
        "             ModelCheckpoint(filepath='HW5_Q1.h5', monitor='val_loss')]\n",
        "\n",
        "history=conv_ae.fit(X_train, X_train,\n",
        "                epochs=100,\n",
        "                batch_size=128,\n",
        "                shuffle=True,\n",
        "                validation_data=[X_test, X_test],callbacks=callbacks)"
      ],
      "execution_count": 41,
      "outputs": [
        {
          "output_type": "stream",
          "text": [
            "Train on 60000 samples, validate on 10000 samples\n",
            "Epoch 1/100\n",
            "60000/60000 [==============================] - 8s 134us/step - loss: 0.5542 - val_loss: 0.2943\n",
            "Epoch 2/100\n",
            "60000/60000 [==============================] - 7s 125us/step - loss: 0.5271 - val_loss: 0.2607\n",
            "Epoch 3/100\n",
            "60000/60000 [==============================] - 7s 124us/step - loss: 0.5229 - val_loss: 0.2423\n",
            "Epoch 4/100\n",
            "60000/60000 [==============================] - 8s 125us/step - loss: 0.5210 - val_loss: 0.2368\n",
            "Epoch 5/100\n",
            "60000/60000 [==============================] - 8s 128us/step - loss: 0.5197 - val_loss: 0.2281\n",
            "Epoch 6/100\n",
            "60000/60000 [==============================] - 8s 125us/step - loss: 0.5188 - val_loss: 0.2217\n",
            "Epoch 7/100\n",
            "60000/60000 [==============================] - 7s 125us/step - loss: 0.5181 - val_loss: 0.2212\n",
            "Epoch 8/100\n",
            "60000/60000 [==============================] - 7s 125us/step - loss: 0.5175 - val_loss: 0.2196\n",
            "Epoch 9/100\n",
            "60000/60000 [==============================] - 8s 125us/step - loss: 0.5171 - val_loss: 0.2170\n",
            "Epoch 10/100\n",
            "60000/60000 [==============================] - 7s 125us/step - loss: 0.5167 - val_loss: 0.2161\n",
            "Epoch 11/100\n",
            "60000/60000 [==============================] - 8s 126us/step - loss: 0.5163 - val_loss: 0.2150\n",
            "Epoch 12/100\n",
            "60000/60000 [==============================] - 7s 125us/step - loss: 0.5160 - val_loss: 0.2157\n",
            "Epoch 13/100\n",
            "60000/60000 [==============================] - 8s 126us/step - loss: 0.5158 - val_loss: 0.2138\n",
            "Epoch 14/100\n",
            "60000/60000 [==============================] - 8s 125us/step - loss: 0.5155 - val_loss: 0.2134\n",
            "Epoch 15/100\n",
            "60000/60000 [==============================] - 8s 125us/step - loss: 0.5153 - val_loss: 0.2124\n",
            "Epoch 16/100\n",
            "60000/60000 [==============================] - 7s 125us/step - loss: 0.5151 - val_loss: 0.2093\n",
            "Epoch 17/100\n",
            "60000/60000 [==============================] - 8s 125us/step - loss: 0.5150 - val_loss: 0.2100\n",
            "Epoch 18/100\n",
            "60000/60000 [==============================] - 8s 125us/step - loss: 0.5148 - val_loss: 0.2095\n",
            "Epoch 19/100\n",
            "60000/60000 [==============================] - 8s 126us/step - loss: 0.5147 - val_loss: 0.2098\n"
          ],
          "name": "stdout"
        }
      ]
    },
    {
      "cell_type": "code",
      "metadata": {
        "id": "qOI-XtP9ZC0d",
        "colab_type": "code",
        "colab": {
          "base_uri": "https://localhost:8080/",
          "height": 1000
        },
        "outputId": "315eefc6-6ff7-4f91-a42f-7f45c29178aa"
      },
      "source": [
        "for i in range(5):\n",
        "    plt.imshow(np.clip(X_test[i].reshape(28, 28)+np.random.normal(loc=0.0,scale=0.5,size=(28, 28)),0.,1.))\n",
        "    plt.show()"
      ],
      "execution_count": 42,
      "outputs": [
        {
          "output_type": "display_data",
          "data": {
            "image/png": "[encoded data removed]",
            "text/plain": [
              "<Figure size 432x288 with 1 Axes>"
            ]
          },
          "metadata": {
            "tags": [],
            "needs_background": "light"
          }
        },
        {
          "output_type": "display_data",
          "data": {
            "image/png": "[encoded data removed]",
            "text/plain": [
              "<Figure size 432x288 with 1 Axes>"
            ]
          },
          "metadata": {
            "tags": [],
            "needs_background": "light"
          }
        },
        {
          "output_type": "display_data",
          "data": {
            "image/png": "[encoded data removed]",
            "text/plain": [
              "<Figure size 432x288 with 1 Axes>"
            ]
          },
          "metadata": {
            "tags": [],
            "needs_background": "light"
          }
        },
        {
          "output_type": "display_data",
          "data": {
            "image/png": "[encoded data removed]",
            "text/plain": [
              "<Figure size 432x288 with 1 Axes>"
            ]
          },
          "metadata": {
            "tags": [],
            "needs_background": "light"
          }
        },
        {
          "output_type": "display_data",
          "data": {
            "image/png": "[encoded data removed]",
            "text/plain": [
              "<Figure size 432x288 with 1 Axes>"
            ]
          },
          "metadata": {
            "tags": [],
            "needs_background": "light"
          }
        }
      ]
    },
    {
      "cell_type": "code",
      "metadata": {
        "id": "kGMKejr8ZC0m",
        "colab_type": "code",
        "colab": {
          "base_uri": "https://localhost:8080/",
          "height": 249
        },
        "outputId": "48f35bcf-cbf2-4430-c143-cc986b0e2636"
      },
      "source": [
        "# Keras blog used for this block: https://blog.keras.io/building-autoencoders-in-keras.html\n",
        "\n",
        "encoded_imgs = stacked_encoder.predict(X_test)\n",
        "decoded_imgs = stacked_decoder.predict(encoded_imgs)\n",
        "\n",
        "import matplotlib.pyplot as plt\n",
        "n=5\n",
        "plt.figure(figsize=(10, 4))\n",
        "for i in range(5):\n",
        "    # display original\n",
        "    ax = plt.subplot(2, n, i + 1)\n",
        "    plt.imshow(np.clip(X_test[i].reshape(28, 28)+np.random.normal(loc=0.0,scale=0.5,size=(28, 28)),0.,1.))\n",
        "    plt.gray()\n",
        "    ax.get_xaxis().set_visible(False)\n",
        "    ax.get_yaxis().set_visible(False)\n",
        "\n",
        "    # display reconstruction\n",
        "    ax = plt.subplot(2, n, i + 1 + n)\n",
        "    plt.imshow(decoded_imgs[i].reshape(28, 28))\n",
        "    plt.gray()\n",
        "    ax.get_xaxis().set_visible(False)\n",
        "    ax.get_yaxis().set_visible(False)\n",
        "plt.show()"
      ],
      "execution_count": 43,
      "outputs": [
        {
          "output_type": "display_data",
          "data": {
            "image/png": "[encoded data removed]",
            "text/plain": [
              "<Figure size 720x288 with 10 Axes>"
            ]
          },
          "metadata": {
            "tags": [],
            "needs_background": "light"
          }
        }
      ]
    },
    {
      "cell_type": "code",
      "metadata": {
        "id": "XprHarStZC0v",
        "colab_type": "code",
        "colab": {
          "base_uri": "https://localhost:8080/",
          "height": 35
        },
        "outputId": "390e9ba7-b050-4d06-ba95-dc97435b7fa1"
      },
      "source": [
        "X_train[0].shape"
      ],
      "execution_count": 44,
      "outputs": [
        {
          "output_type": "execute_result",
          "data": {
            "text/plain": [
              "(28, 28, 1)"
            ]
          },
          "metadata": {
            "tags": []
          },
          "execution_count": 44
        }
      ]
    },
    {
      "cell_type": "code",
      "metadata": {
        "id": "6Hqv8-22ZC04",
        "colab_type": "code",
        "colab": {}
      },
      "source": [
        ""
      ],
      "execution_count": null,
      "outputs": []
    }
  ]
}