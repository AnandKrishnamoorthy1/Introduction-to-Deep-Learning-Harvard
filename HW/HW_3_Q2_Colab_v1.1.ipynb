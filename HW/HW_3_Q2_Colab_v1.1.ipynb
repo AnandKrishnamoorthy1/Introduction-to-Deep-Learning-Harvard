{
 "cells": [
  {
   "cell_type": "code",
   "execution_count": 1,
   "metadata": {
    "colab": {
     "base_uri": "https://localhost:8080/",
     "height": 36
    },
    "colab_type": "code",
    "id": "VeDukggv6xJg",
    "outputId": "4edbe990-7611-44b6-865c-28184bf736c5"
   },
   "outputs": [
    {
     "name": "stderr",
     "output_type": "stream",
     "text": [
      "Using TensorFlow backend.\n"
     ]
    }
   ],
   "source": [
    "import keras"
   ]
  },
  {
   "cell_type": "markdown",
   "metadata": {
    "colab_type": "text",
    "id": "9Zow07ma7-SH"
   },
   "source": [
    "## Unzip data here"
   ]
  },
  {
   "cell_type": "code",
   "execution_count": 2,
   "metadata": {
    "colab": {
     "base_uri": "https://localhost:8080/",
     "height": 36
    },
    "colab_type": "code",
    "id": "NSJeksKN776n",
    "outputId": "dd2a979d-ee48-41a8-f411-9a8051714816"
   },
   "outputs": [
    {
     "name": "stdout",
     "output_type": "stream",
     "text": [
      "Extracted\n"
     ]
    }
   ],
   "source": [
    "from zipfile import ZipFile\n",
    "filename=\"cats_and_dogs_small.zip\"\n",
    "\n",
    "with ZipFile(filename,'r') as zip:\n",
    "  zip.extractall()\n",
    "  print(\"Extracted\")"
   ]
  },
  {
   "cell_type": "markdown",
   "metadata": {
    "colab_type": "text",
    "id": "wjxJcTiC8JLG"
   },
   "source": [
    "## Set train/validation and test directories"
   ]
  },
  {
   "cell_type": "code",
   "execution_count": 3,
   "metadata": {
    "colab": {},
    "colab_type": "code",
    "id": "7DDtLwo68QvM"
   },
   "outputs": [],
   "source": [
    "train_dir=\"cats_and_dogs_small/train\"\n",
    "validation_dir=\"cats_and_dogs_small/validation\"\n",
    "test_dir=\"cats_and_dogs_small/test\"\n",
    "\n",
    "train_cats_dir=\"cats_and_dogs_small/train/cats\"\n",
    "train_dogs_dir=\"cats_and_dogs_small/train/dogs\"\n",
    "\n",
    "validation_cats_dir=\"cats_and_dogs_small/validation/cats\"\n",
    "validation_dogs_dir=\"cats_and_dogs_small/validation/dogs\"\n",
    "\n",
    "test_cats_dir=\"cats_and_dogs_small/test/cats\"\n",
    "test_dogs_dir=\"cats_and_dogs_small/test/dogs\""
   ]
  },
  {
   "cell_type": "code",
   "execution_count": 4,
   "metadata": {
    "colab": {
     "base_uri": "https://localhost:8080/",
     "height": 36
    },
    "colab_type": "code",
    "id": "rmUelRWo8bhw",
    "outputId": "128a6395-4c85-41fa-9b8e-f5651ccb314b"
   },
   "outputs": [
    {
     "name": "stdout",
     "output_type": "stream",
     "text": [
      "total training cat images: 1000\n"
     ]
    }
   ],
   "source": [
    "import os, shutil\n",
    "print('total training cat images:', len(os.listdir(train_cats_dir)))"
   ]
  },
  {
   "cell_type": "code",
   "execution_count": 5,
   "metadata": {
    "colab": {
     "base_uri": "https://localhost:8080/",
     "height": 36
    },
    "colab_type": "code",
    "id": "6bJFtZHO8ef7",
    "outputId": "d372e97f-9166-4edf-e409-aa5261401410"
   },
   "outputs": [
    {
     "name": "stdout",
     "output_type": "stream",
     "text": [
      "total training dog images: 1000\n"
     ]
    }
   ],
   "source": [
    "print('total training dog images:', len(os.listdir(train_dogs_dir)))"
   ]
  },
  {
   "cell_type": "code",
   "execution_count": 6,
   "metadata": {
    "colab": {
     "base_uri": "https://localhost:8080/",
     "height": 36
    },
    "colab_type": "code",
    "id": "WmNlXkWn8g-y",
    "outputId": "729c7365-f73a-4287-e49a-d80986821710"
   },
   "outputs": [
    {
     "name": "stdout",
     "output_type": "stream",
     "text": [
      "total validation cat images: 500\n"
     ]
    }
   ],
   "source": [
    "print('total validation cat images:', len(os.listdir(validation_cats_dir)))"
   ]
  },
  {
   "cell_type": "code",
   "execution_count": 7,
   "metadata": {
    "colab": {
     "base_uri": "https://localhost:8080/",
     "height": 36
    },
    "colab_type": "code",
    "id": "JM8aGQq08ixR",
    "outputId": "0859addc-2f19-4350-bb27-a74693373919"
   },
   "outputs": [
    {
     "name": "stdout",
     "output_type": "stream",
     "text": [
      "total validation dog images: 500\n"
     ]
    }
   ],
   "source": [
    "print('total validation dog images:', len(os.listdir(validation_dogs_dir)))"
   ]
  },
  {
   "cell_type": "code",
   "execution_count": 8,
   "metadata": {
    "colab": {
     "base_uri": "https://localhost:8080/",
     "height": 36
    },
    "colab_type": "code",
    "id": "IGd0qwee8kiW",
    "outputId": "0a174e73-5c01-46af-d1dd-06c113a97e6a"
   },
   "outputs": [
    {
     "name": "stdout",
     "output_type": "stream",
     "text": [
      "total test cat images: 500\n"
     ]
    }
   ],
   "source": [
    "print('total test cat images:', len(os.listdir(test_cats_dir)))"
   ]
  },
  {
   "cell_type": "code",
   "execution_count": 9,
   "metadata": {
    "colab": {
     "base_uri": "https://localhost:8080/",
     "height": 36
    },
    "colab_type": "code",
    "id": "ENu7m_f98n1x",
    "outputId": "2af42617-a84a-4464-8b07-86b5e770e906"
   },
   "outputs": [
    {
     "name": "stdout",
     "output_type": "stream",
     "text": [
      "total test dog images: 500\n"
     ]
    }
   ],
   "source": [
    "print('total test dog images:', len(os.listdir(test_dogs_dir)))"
   ]
  },
  {
   "cell_type": "markdown",
   "metadata": {
    "colab_type": "text",
    "id": "fr9RupcV9hGH"
   },
   "source": [
    "## Defining NN architecture"
   ]
  },
  {
   "cell_type": "code",
   "execution_count": 10,
   "metadata": {
    "colab": {},
    "colab_type": "code",
    "id": "SFgQF02L9lyM"
   },
   "outputs": [],
   "source": [
    "from keras import layers\n",
    "from keras import models\n",
    "\n",
    "model1 = models.Sequential()\n",
    "model1.add(layers.Conv2D(32, (3, 3), activation='relu',\n",
    "                        input_shape=(150, 150, 3)))\n",
    "model1.add(layers.MaxPooling2D((2, 2)))\n",
    "model1.add(layers.Conv2D(64, (3, 3), activation='relu'))\n",
    "model1.add(layers.MaxPooling2D((2, 2)))\n",
    "model1.add(layers.Conv2D(128, (3, 3), activation='relu'))\n",
    "model1.add(layers.MaxPooling2D((2, 2)))\n",
    "model1.add(layers.Conv2D(128, (3, 3), activation='relu'))\n",
    "model1.add(layers.MaxPooling2D((2, 2)))\n",
    "model1.add(layers.Flatten())\n",
    "model1.add(layers.Dense(512, activation='relu'))\n",
    "model1.add(layers.Dense(1, activation='sigmoid'))"
   ]
  },
  {
   "cell_type": "code",
   "execution_count": 11,
   "metadata": {
    "colab": {},
    "colab_type": "code",
    "id": "-4aXouA0Bf_S"
   },
   "outputs": [],
   "source": [
    "model2 = models.Sequential()\n",
    "model2.add(layers.Conv2D(32, (3, 3), activation='relu',\n",
    "                        input_shape=(150, 150, 3)))\n",
    "model2.add(layers.MaxPooling2D((2, 2)))\n",
    "model2.add(layers.Conv2D(64, (3, 3), activation='relu'))\n",
    "model2.add(layers.MaxPooling2D((2, 2)))\n",
    "model2.add(layers.Conv2D(128, (3, 3), activation='relu'))\n",
    "model2.add(layers.MaxPooling2D((2, 2)))\n",
    "model2.add(layers.Conv2D(128, (3, 3), activation='relu'))\n",
    "model2.add(layers.MaxPooling2D((2, 2)))\n",
    "model2.add(layers.Flatten())\n",
    "model2.add(layers.Dense(512, activation='relu'))\n",
    "model2.add(layers.Dense(1, activation='sigmoid'))\n",
    "\n",
    "\n",
    "\n",
    "model3 = models.Sequential()\n",
    "model3.add(layers.Conv2D(32, (3, 3), activation='relu',\n",
    "                        input_shape=(150, 150, 3)))\n",
    "model3.add(layers.MaxPooling2D((2, 2)))\n",
    "model3.add(layers.Conv2D(64, (3, 3), activation='relu'))\n",
    "model3.add(layers.MaxPooling2D((2, 2)))\n",
    "model3.add(layers.Conv2D(128, (3, 3), activation='relu'))\n",
    "model3.add(layers.MaxPooling2D((2, 2)))\n",
    "model3.add(layers.Conv2D(128, (3, 3), activation='relu'))\n",
    "model3.add(layers.MaxPooling2D((2, 2)))\n",
    "model3.add(layers.Flatten())\n",
    "model3.add(layers.Dense(512, activation='relu'))\n",
    "model3.add(layers.Dense(1, activation='sigmoid'))\n",
    "\n",
    "\n",
    "\n",
    "\n",
    "\n",
    "model4 = models.Sequential()\n",
    "model4.add(layers.Conv2D(32, (3, 3), activation='relu',\n",
    "                        input_shape=(150, 150, 3)))\n",
    "model4.add(layers.MaxPooling2D((2, 2)))\n",
    "model4.add(layers.Conv2D(64, (3, 3), activation='relu'))\n",
    "model4.add(layers.MaxPooling2D((2, 2)))\n",
    "model4.add(layers.Conv2D(128, (3, 3), activation='relu'))\n",
    "model4.add(layers.MaxPooling2D((2, 2)))\n",
    "model4.add(layers.Conv2D(128, (3, 3), activation='relu'))\n",
    "model4.add(layers.MaxPooling2D((2, 2)))\n",
    "model4.add(layers.Flatten())\n",
    "model4.add(layers.Dense(512, activation='relu'))\n",
    "model4.add(layers.Dense(1, activation='sigmoid'))\n",
    "\n",
    "\n",
    "\n",
    "model5 = models.Sequential()\n",
    "model5.add(layers.Conv2D(32, (3, 3), activation='relu',\n",
    "                        input_shape=(150, 150, 3)))\n",
    "model5.add(layers.MaxPooling2D((2, 2)))\n",
    "model5.add(layers.Conv2D(64, (3, 3), activation='relu'))\n",
    "model5.add(layers.MaxPooling2D((2, 2)))\n",
    "model5.add(layers.Conv2D(128, (3, 3), activation='relu'))\n",
    "model5.add(layers.MaxPooling2D((2, 2)))\n",
    "model5.add(layers.Conv2D(128, (3, 3), activation='relu'))\n",
    "model5.add(layers.MaxPooling2D((2, 2)))\n",
    "model5.add(layers.Flatten())\n",
    "model5.add(layers.Dense(512, activation='relu'))\n",
    "model5.add(layers.Dense(1, activation='sigmoid'))\n",
    "\n",
    "\n",
    "\n",
    "model6 = models.Sequential()\n",
    "model6.add(layers.Conv2D(32, (3, 3), activation='relu',\n",
    "                        input_shape=(150, 150, 3)))\n",
    "model6.add(layers.MaxPooling2D((2, 2)))\n",
    "model6.add(layers.Conv2D(64, (3, 3), activation='relu'))\n",
    "model6.add(layers.MaxPooling2D((2, 2)))\n",
    "model6.add(layers.Conv2D(128, (3, 3), activation='relu'))\n",
    "model6.add(layers.MaxPooling2D((2, 2)))\n",
    "model6.add(layers.Conv2D(128, (3, 3), activation='relu'))\n",
    "model6.add(layers.MaxPooling2D((2, 2)))\n",
    "model6.add(layers.Flatten())\n",
    "model6.add(layers.Dense(512, activation='relu'))\n",
    "model6.add(layers.Dense(1, activation='sigmoid'))"
   ]
  },
  {
   "cell_type": "code",
   "execution_count": 12,
   "metadata": {
    "colab": {},
    "colab_type": "code",
    "id": "sTDi4WLrwwk7"
   },
   "outputs": [],
   "source": [
    "from keras import optimizers\n",
    "\n",
    "model1.compile(loss='binary_crossentropy',\n",
    "              optimizer=optimizers.RMSprop(learning_rate=0.00005),\n",
    "              metrics=['acc'])"
   ]
  },
  {
   "cell_type": "code",
   "execution_count": 13,
   "metadata": {
    "colab": {},
    "colab_type": "code",
    "id": "jgry8Q6pxztx"
   },
   "outputs": [],
   "source": [
    "model2.compile(loss='binary_crossentropy',\n",
    "              optimizer=optimizers.RMSprop(learning_rate=0.0002,rho=0.8),\n",
    "              metrics=['acc'])"
   ]
  },
  {
   "cell_type": "code",
   "execution_count": 14,
   "metadata": {
    "colab": {},
    "colab_type": "code",
    "id": "1amT_Y4PjMW_"
   },
   "outputs": [],
   "source": [
    "model3.compile(loss='binary_crossentropy',\n",
    "              optimizer=keras.optimizers.Adam(learning_rate=0.0001),\n",
    "              metrics=['acc'])"
   ]
  },
  {
   "cell_type": "code",
   "execution_count": 15,
   "metadata": {
    "colab": {},
    "colab_type": "code",
    "id": "0mjaQMnildKn"
   },
   "outputs": [],
   "source": [
    "model4.compile(loss='binary_crossentropy',\n",
    "              optimizer=keras.optimizers.Adam(learning_rate=0.00005,beta_1=0.8),\n",
    "              metrics=['acc'])"
   ]
  },
  {
   "cell_type": "code",
   "execution_count": 16,
   "metadata": {
    "colab": {},
    "colab_type": "code",
    "id": "AJUkcJ42CGoD"
   },
   "outputs": [],
   "source": [
    "model5.compile(loss='binary_crossentropy',\n",
    "              optimizer=keras.optimizers.Adam(learning_rate=0.00005,beta_1=0.8,beta_2=0.98),               \n",
    "              metrics=['acc'])"
   ]
  },
  {
   "cell_type": "code",
   "execution_count": 17,
   "metadata": {
    "colab": {},
    "colab_type": "code",
    "id": "NV_0ao-q-8O4"
   },
   "outputs": [],
   "source": [
    "model6.compile(loss='binary_crossentropy',\n",
    "              optimizer=keras.optimizers.Adam(learning_rate=0.00002,beta_1=0.7,beta_2=0.85),               \n",
    "              metrics=['acc'])"
   ]
  },
  {
   "cell_type": "markdown",
   "metadata": {
    "colab_type": "text",
    "id": "7WDEvgFbEEPm"
   },
   "source": [
    "##Data preprocessing"
   ]
  },
  {
   "cell_type": "code",
   "execution_count": 18,
   "metadata": {
    "colab": {
     "base_uri": "https://localhost:8080/",
     "height": 54
    },
    "colab_type": "code",
    "id": "LIoC2GDeEGc2",
    "outputId": "711016ff-9aca-49f8-fe52-48496017a076"
   },
   "outputs": [
    {
     "name": "stdout",
     "output_type": "stream",
     "text": [
      "Found 2000 images belonging to 2 classes.\n",
      "Found 1000 images belonging to 2 classes.\n"
     ]
    }
   ],
   "source": [
    "from keras.preprocessing.image import ImageDataGenerator\n",
    "\n",
    "# All images will be rescaled by 1./255\n",
    "train_datagen = ImageDataGenerator(rescale=1./255)\n",
    "test_datagen = ImageDataGenerator(rescale=1./255)\n",
    "\n",
    "train_generator = train_datagen.flow_from_directory(\n",
    "        # This is the target directory\n",
    "        train_dir,\n",
    "        # All images will be resized to 150x150\n",
    "        target_size=(150, 150),\n",
    "        batch_size=20,\n",
    "        # Since we use binary_crossentropy loss, we need binary labels\n",
    "        class_mode='binary')\n",
    "\n",
    "validation_generator = test_datagen.flow_from_directory(\n",
    "        validation_dir,\n",
    "        target_size=(150, 150),\n",
    "        batch_size=20,\n",
    "        class_mode='binary')"
   ]
  },
  {
   "cell_type": "code",
   "execution_count": 19,
   "metadata": {
    "colab": {
     "base_uri": "https://localhost:8080/",
     "height": 54
    },
    "colab_type": "code",
    "id": "PT7QguyoEc-O",
    "outputId": "b42fb5a4-b38e-4e88-87bc-c5ed6d5824cb"
   },
   "outputs": [
    {
     "name": "stdout",
     "output_type": "stream",
     "text": [
      "data batch shape: (20, 150, 150, 3)\n",
      "labels batch shape: (20,)\n"
     ]
    }
   ],
   "source": [
    "for data_batch, labels_batch in train_generator:\n",
    "    print('data batch shape:', data_batch.shape)\n",
    "    print('labels batch shape:', labels_batch.shape)\n",
    "    break"
   ]
  },
  {
   "cell_type": "code",
   "execution_count": 20,
   "metadata": {
    "colab": {
     "base_uri": "https://localhost:8080/",
     "height": 1000
    },
    "colab_type": "code",
    "id": "bXEGjvtZynkE",
    "outputId": "70a96dd8-f7bb-414a-d38d-5471e9f758ca"
   },
   "outputs": [
    {
     "name": "stdout",
     "output_type": "stream",
     "text": [
      "Epoch 1/64\n",
      "100/100 [==============================] - 11s 108ms/step - loss: 0.6872 - acc: 0.5310 - val_loss: 0.6351 - val_acc: 0.5090\n",
      "Epoch 2/64\n",
      "100/100 [==============================] - 8s 78ms/step - loss: 0.6709 - acc: 0.5815 - val_loss: 0.7106 - val_acc: 0.5740\n",
      "Epoch 3/64\n",
      "100/100 [==============================] - 8s 79ms/step - loss: 0.6497 - acc: 0.6105 - val_loss: 0.6402 - val_acc: 0.6210\n",
      "Epoch 4/64\n",
      "100/100 [==============================] - 8s 79ms/step - loss: 0.6395 - acc: 0.6205 - val_loss: 0.6229 - val_acc: 0.6280\n",
      "Epoch 5/64\n",
      "100/100 [==============================] - 8s 78ms/step - loss: 0.6217 - acc: 0.6470 - val_loss: 0.7286 - val_acc: 0.5730\n",
      "Epoch 6/64\n",
      "100/100 [==============================] - 8s 78ms/step - loss: 0.6023 - acc: 0.6715 - val_loss: 0.7618 - val_acc: 0.5810\n",
      "Epoch 7/64\n",
      "100/100 [==============================] - 8s 78ms/step - loss: 0.5816 - acc: 0.6810 - val_loss: 0.5618 - val_acc: 0.6650\n",
      "Epoch 8/64\n",
      "100/100 [==============================] - 8s 78ms/step - loss: 0.5587 - acc: 0.7020 - val_loss: 0.5828 - val_acc: 0.6740\n",
      "Epoch 9/64\n",
      "100/100 [==============================] - 8s 79ms/step - loss: 0.5334 - acc: 0.7325 - val_loss: 0.5044 - val_acc: 0.6450\n",
      "Epoch 10/64\n",
      "100/100 [==============================] - 8s 78ms/step - loss: 0.5120 - acc: 0.7505 - val_loss: 0.4227 - val_acc: 0.6820\n",
      "Epoch 11/64\n",
      "100/100 [==============================] - 8s 78ms/step - loss: 0.4925 - acc: 0.7570 - val_loss: 0.5715 - val_acc: 0.6980\n",
      "Epoch 12/64\n",
      "100/100 [==============================] - 8s 78ms/step - loss: 0.4698 - acc: 0.7730 - val_loss: 0.5835 - val_acc: 0.6970\n",
      "Epoch 13/64\n",
      "100/100 [==============================] - 8s 79ms/step - loss: 0.4577 - acc: 0.7820 - val_loss: 0.6626 - val_acc: 0.7180\n",
      "Epoch 14/64\n",
      "100/100 [==============================] - 8s 81ms/step - loss: 0.4408 - acc: 0.7905 - val_loss: 0.6498 - val_acc: 0.6970\n",
      "Epoch 15/64\n",
      "100/100 [==============================] - 8s 82ms/step - loss: 0.4273 - acc: 0.8025 - val_loss: 0.4718 - val_acc: 0.7280\n",
      "Epoch 16/64\n",
      "100/100 [==============================] - 8s 80ms/step - loss: 0.4156 - acc: 0.8075 - val_loss: 0.4234 - val_acc: 0.7230\n",
      "Epoch 17/64\n",
      "100/100 [==============================] - 8s 80ms/step - loss: 0.4016 - acc: 0.8130 - val_loss: 0.3927 - val_acc: 0.7350\n",
      "Epoch 18/64\n",
      "100/100 [==============================] - 8s 79ms/step - loss: 0.3855 - acc: 0.8335 - val_loss: 0.6129 - val_acc: 0.7350\n",
      "Epoch 19/64\n",
      "100/100 [==============================] - 8s 80ms/step - loss: 0.3750 - acc: 0.8350 - val_loss: 0.3178 - val_acc: 0.7340\n",
      "Epoch 20/64\n",
      "100/100 [==============================] - 8s 79ms/step - loss: 0.3618 - acc: 0.8400 - val_loss: 0.5142 - val_acc: 0.7210\n",
      "Epoch 21/64\n",
      "100/100 [==============================] - 8s 79ms/step - loss: 0.3462 - acc: 0.8560 - val_loss: 0.4996 - val_acc: 0.7190\n",
      "Epoch 22/64\n",
      "100/100 [==============================] - 8s 79ms/step - loss: 0.3389 - acc: 0.8550 - val_loss: 0.7172 - val_acc: 0.7170\n",
      "Epoch 23/64\n",
      "100/100 [==============================] - 8s 80ms/step - loss: 0.3232 - acc: 0.8635 - val_loss: 0.9364 - val_acc: 0.7290\n",
      "Epoch 24/64\n",
      "100/100 [==============================] - 8s 80ms/step - loss: 0.3104 - acc: 0.8815 - val_loss: 0.8347 - val_acc: 0.7130\n",
      "Epoch 25/64\n",
      "100/100 [==============================] - 8s 79ms/step - loss: 0.3071 - acc: 0.8680 - val_loss: 0.6013 - val_acc: 0.7070\n",
      "Epoch 26/64\n",
      "100/100 [==============================] - 8s 79ms/step - loss: 0.2931 - acc: 0.8825 - val_loss: 0.5428 - val_acc: 0.7380\n",
      "Epoch 27/64\n",
      "100/100 [==============================] - 8s 80ms/step - loss: 0.2751 - acc: 0.8950 - val_loss: 0.7116 - val_acc: 0.7400\n",
      "Epoch 28/64\n",
      "100/100 [==============================] - 8s 78ms/step - loss: 0.2685 - acc: 0.8890 - val_loss: 0.2475 - val_acc: 0.7290\n",
      "Epoch 29/64\n",
      "100/100 [==============================] - 8s 80ms/step - loss: 0.2510 - acc: 0.9030 - val_loss: 0.4793 - val_acc: 0.7390\n",
      "Epoch 30/64\n",
      "100/100 [==============================] - 8s 79ms/step - loss: 0.2459 - acc: 0.8995 - val_loss: 0.5680 - val_acc: 0.7350\n",
      "Epoch 31/64\n",
      "100/100 [==============================] - 8s 80ms/step - loss: 0.2282 - acc: 0.9140 - val_loss: 0.8075 - val_acc: 0.7370\n",
      "Epoch 32/64\n",
      "100/100 [==============================] - 8s 79ms/step - loss: 0.2219 - acc: 0.9150 - val_loss: 0.5886 - val_acc: 0.7150\n",
      "Epoch 33/64\n",
      "100/100 [==============================] - 8s 80ms/step - loss: 0.2102 - acc: 0.9260 - val_loss: 0.3781 - val_acc: 0.7380\n",
      "Epoch 34/64\n",
      "100/100 [==============================] - 8s 80ms/step - loss: 0.1952 - acc: 0.9325 - val_loss: 0.4771 - val_acc: 0.7360\n",
      "Epoch 35/64\n",
      "100/100 [==============================] - 8s 79ms/step - loss: 0.1853 - acc: 0.9385 - val_loss: 0.6427 - val_acc: 0.7410\n",
      "Epoch 36/64\n",
      "100/100 [==============================] - 8s 79ms/step - loss: 0.1764 - acc: 0.9340 - val_loss: 0.4928 - val_acc: 0.7350\n",
      "Epoch 37/64\n",
      "100/100 [==============================] - 8s 80ms/step - loss: 0.1672 - acc: 0.9420 - val_loss: 0.5181 - val_acc: 0.7450\n",
      "Epoch 38/64\n",
      "100/100 [==============================] - 8s 79ms/step - loss: 0.1554 - acc: 0.9490 - val_loss: 0.5299 - val_acc: 0.7370\n",
      "Epoch 39/64\n",
      "100/100 [==============================] - 8s 79ms/step - loss: 0.1463 - acc: 0.9520 - val_loss: 0.7973 - val_acc: 0.7410\n",
      "Epoch 40/64\n",
      "100/100 [==============================] - 8s 79ms/step - loss: 0.1389 - acc: 0.9510 - val_loss: 0.2121 - val_acc: 0.7400\n",
      "Epoch 41/64\n",
      "100/100 [==============================] - 8s 78ms/step - loss: 0.1263 - acc: 0.9635 - val_loss: 0.8449 - val_acc: 0.7430\n",
      "Epoch 42/64\n",
      "100/100 [==============================] - 8s 79ms/step - loss: 0.1214 - acc: 0.9620 - val_loss: 0.4291 - val_acc: 0.7450\n",
      "Epoch 43/64\n",
      "100/100 [==============================] - 8s 79ms/step - loss: 0.1101 - acc: 0.9660 - val_loss: 0.3110 - val_acc: 0.7190\n",
      "Epoch 44/64\n",
      "100/100 [==============================] - 8s 80ms/step - loss: 0.0951 - acc: 0.9760 - val_loss: 1.1811 - val_acc: 0.7260\n",
      "Epoch 45/64\n",
      "100/100 [==============================] - 8s 79ms/step - loss: 0.0925 - acc: 0.9785 - val_loss: 0.4405 - val_acc: 0.7320\n",
      "Epoch 46/64\n",
      "100/100 [==============================] - 8s 79ms/step - loss: 0.0857 - acc: 0.9765 - val_loss: 0.9638 - val_acc: 0.7190\n",
      "Epoch 47/64\n",
      "100/100 [==============================] - 8s 78ms/step - loss: 0.0833 - acc: 0.9765 - val_loss: 0.7074 - val_acc: 0.7350\n",
      "Epoch 48/64\n",
      "100/100 [==============================] - 8s 79ms/step - loss: 0.0706 - acc: 0.9860 - val_loss: 0.8491 - val_acc: 0.7230\n",
      "Epoch 49/64\n",
      "100/100 [==============================] - 8s 79ms/step - loss: 0.0712 - acc: 0.9820 - val_loss: 0.3708 - val_acc: 0.7350\n",
      "Epoch 50/64\n",
      "100/100 [==============================] - 8s 79ms/step - loss: 0.0589 - acc: 0.9870 - val_loss: 0.6633 - val_acc: 0.7210\n",
      "Epoch 51/64\n",
      "100/100 [==============================] - 8s 78ms/step - loss: 0.0546 - acc: 0.9885 - val_loss: 0.7814 - val_acc: 0.7380\n",
      "Epoch 52/64\n",
      "100/100 [==============================] - 8s 79ms/step - loss: 0.0472 - acc: 0.9895 - val_loss: 0.8060 - val_acc: 0.7390\n",
      "Epoch 53/64\n",
      "100/100 [==============================] - 8s 80ms/step - loss: 0.0423 - acc: 0.9935 - val_loss: 1.1146 - val_acc: 0.7370\n",
      "Epoch 54/64\n",
      "100/100 [==============================] - 8s 80ms/step - loss: 0.0398 - acc: 0.9920 - val_loss: 0.8168 - val_acc: 0.7260\n",
      "Epoch 55/64\n",
      "100/100 [==============================] - 8s 79ms/step - loss: 0.0340 - acc: 0.9960 - val_loss: 0.2396 - val_acc: 0.7330\n",
      "Epoch 56/64\n",
      "100/100 [==============================] - 8s 79ms/step - loss: 0.0372 - acc: 0.9905 - val_loss: 0.9389 - val_acc: 0.7200\n",
      "Epoch 57/64\n",
      "100/100 [==============================] - 8s 79ms/step - loss: 0.0324 - acc: 0.9925 - val_loss: 0.5916 - val_acc: 0.7410\n",
      "Epoch 58/64\n",
      "100/100 [==============================] - 8s 79ms/step - loss: 0.0292 - acc: 0.9925 - val_loss: 0.6783 - val_acc: 0.7250\n",
      "Epoch 59/64\n",
      "100/100 [==============================] - 8s 78ms/step - loss: 0.0260 - acc: 0.9960 - val_loss: 0.2704 - val_acc: 0.7310\n",
      "Epoch 60/64\n",
      "100/100 [==============================] - 8s 79ms/step - loss: 0.0232 - acc: 0.9950 - val_loss: 0.6648 - val_acc: 0.7340\n",
      "Epoch 61/64\n",
      "100/100 [==============================] - 8s 79ms/step - loss: 0.0223 - acc: 0.9930 - val_loss: 1.1965 - val_acc: 0.7200\n",
      "Epoch 62/64\n",
      "100/100 [==============================] - 8s 78ms/step - loss: 0.0173 - acc: 0.9980 - val_loss: 0.5133 - val_acc: 0.7330\n",
      "Epoch 63/64\n",
      "100/100 [==============================] - 8s 79ms/step - loss: 0.0164 - acc: 0.9975 - val_loss: 2.0194 - val_acc: 0.7370\n",
      "Epoch 64/64\n",
      "100/100 [==============================] - 8s 79ms/step - loss: 0.0174 - acc: 0.9965 - val_loss: 0.8145 - val_acc: 0.7310\n",
      "Epoch 1/64\n",
      "100/100 [==============================] - 9s 88ms/step - loss: 0.6904 - acc: 0.5380 - val_loss: 0.6465 - val_acc: 0.5920\n",
      "Epoch 2/64\n",
      "100/100 [==============================] - 8s 79ms/step - loss: 0.6448 - acc: 0.6345 - val_loss: 0.7547 - val_acc: 0.6500\n",
      "Epoch 3/64\n",
      "100/100 [==============================] - 8s 79ms/step - loss: 0.5798 - acc: 0.6960 - val_loss: 0.6500 - val_acc: 0.6730\n",
      "Epoch 4/64\n",
      "100/100 [==============================] - 8s 79ms/step - loss: 0.5454 - acc: 0.7245 - val_loss: 0.4095 - val_acc: 0.6820\n",
      "Epoch 5/64\n",
      "100/100 [==============================] - 8s 79ms/step - loss: 0.4968 - acc: 0.7580 - val_loss: 0.7701 - val_acc: 0.6840\n",
      "Epoch 6/64\n",
      "100/100 [==============================] - 8s 79ms/step - loss: 0.4595 - acc: 0.7900 - val_loss: 0.5273 - val_acc: 0.7320\n",
      "Epoch 7/64\n",
      "100/100 [==============================] - 8s 78ms/step - loss: 0.4206 - acc: 0.7980 - val_loss: 0.7497 - val_acc: 0.6950\n",
      "Epoch 8/64\n",
      "100/100 [==============================] - 8s 78ms/step - loss: 0.3875 - acc: 0.8200 - val_loss: 0.6660 - val_acc: 0.7380\n",
      "Epoch 9/64\n",
      "100/100 [==============================] - 8s 79ms/step - loss: 0.3537 - acc: 0.8425 - val_loss: 0.8647 - val_acc: 0.7180\n",
      "Epoch 10/64\n",
      "100/100 [==============================] - 8s 79ms/step - loss: 0.3106 - acc: 0.8630 - val_loss: 0.4111 - val_acc: 0.7170\n",
      "Epoch 11/64\n",
      "100/100 [==============================] - 8s 80ms/step - loss: 0.2888 - acc: 0.8730 - val_loss: 1.1162 - val_acc: 0.7220\n",
      "Epoch 12/64\n",
      "100/100 [==============================] - 8s 79ms/step - loss: 0.2486 - acc: 0.8940 - val_loss: 0.1297 - val_acc: 0.7380\n",
      "Epoch 13/64\n",
      "100/100 [==============================] - 8s 79ms/step - loss: 0.2149 - acc: 0.9170 - val_loss: 0.6536 - val_acc: 0.7360\n",
      "Epoch 14/64\n",
      "100/100 [==============================] - 8s 78ms/step - loss: 0.1817 - acc: 0.9330 - val_loss: 1.6038 - val_acc: 0.7290\n",
      "Epoch 15/64\n",
      "100/100 [==============================] - 8s 79ms/step - loss: 0.1637 - acc: 0.9405 - val_loss: 0.9992 - val_acc: 0.7160\n",
      "Epoch 16/64\n",
      "100/100 [==============================] - 8s 78ms/step - loss: 0.1368 - acc: 0.9475 - val_loss: 0.3223 - val_acc: 0.7370\n",
      "Epoch 17/64\n",
      "100/100 [==============================] - 8s 78ms/step - loss: 0.1076 - acc: 0.9595 - val_loss: 0.7040 - val_acc: 0.7270\n",
      "Epoch 18/64\n",
      "100/100 [==============================] - 8s 78ms/step - loss: 0.0957 - acc: 0.9660 - val_loss: 1.2686 - val_acc: 0.7260\n",
      "Epoch 19/64\n",
      "100/100 [==============================] - 8s 79ms/step - loss: 0.0786 - acc: 0.9690 - val_loss: 0.8872 - val_acc: 0.7320\n",
      "Epoch 20/64\n",
      "100/100 [==============================] - 8s 80ms/step - loss: 0.0619 - acc: 0.9810 - val_loss: 0.8648 - val_acc: 0.7390\n",
      "Epoch 21/64\n",
      "100/100 [==============================] - 8s 79ms/step - loss: 0.0515 - acc: 0.9835 - val_loss: 1.7743 - val_acc: 0.7260\n",
      "Epoch 22/64\n",
      "100/100 [==============================] - 8s 79ms/step - loss: 0.0405 - acc: 0.9845 - val_loss: 0.6806 - val_acc: 0.7160\n",
      "Epoch 23/64\n",
      "100/100 [==============================] - 8s 78ms/step - loss: 0.0391 - acc: 0.9875 - val_loss: 1.5686 - val_acc: 0.7420\n",
      "Epoch 24/64\n",
      "100/100 [==============================] - 8s 78ms/step - loss: 0.0314 - acc: 0.9900 - val_loss: 2.0442 - val_acc: 0.6920\n",
      "Epoch 25/64\n",
      "100/100 [==============================] - 8s 78ms/step - loss: 0.0262 - acc: 0.9930 - val_loss: 1.2181 - val_acc: 0.7280\n",
      "Epoch 26/64\n",
      "100/100 [==============================] - 8s 79ms/step - loss: 0.0230 - acc: 0.9930 - val_loss: 2.4565 - val_acc: 0.7190\n",
      "Epoch 27/64\n",
      "100/100 [==============================] - 8s 80ms/step - loss: 0.0167 - acc: 0.9945 - val_loss: 1.9703 - val_acc: 0.7310\n",
      "Epoch 28/64\n",
      "100/100 [==============================] - 8s 79ms/step - loss: 0.0204 - acc: 0.9945 - val_loss: 0.5877 - val_acc: 0.7440\n",
      "Epoch 29/64\n",
      "100/100 [==============================] - 8s 81ms/step - loss: 0.0126 - acc: 0.9950 - val_loss: 1.2329 - val_acc: 0.7200\n",
      "Epoch 30/64\n",
      "100/100 [==============================] - 8s 79ms/step - loss: 0.0161 - acc: 0.9950 - val_loss: 0.8718 - val_acc: 0.7300\n",
      "Epoch 31/64\n",
      "100/100 [==============================] - 8s 79ms/step - loss: 0.0153 - acc: 0.9965 - val_loss: 0.9904 - val_acc: 0.7210\n",
      "Epoch 32/64\n",
      "100/100 [==============================] - 8s 79ms/step - loss: 0.0143 - acc: 0.9965 - val_loss: 0.3865 - val_acc: 0.7330\n",
      "Epoch 33/64\n",
      "100/100 [==============================] - 8s 79ms/step - loss: 0.0159 - acc: 0.9955 - val_loss: 3.9606 - val_acc: 0.7310\n",
      "Epoch 34/64\n",
      "100/100 [==============================] - 8s 79ms/step - loss: 0.0128 - acc: 0.9950 - val_loss: 3.1776 - val_acc: 0.6990\n",
      "Epoch 35/64\n",
      "100/100 [==============================] - 8s 80ms/step - loss: 0.0151 - acc: 0.9945 - val_loss: 1.2487 - val_acc: 0.7490\n",
      "Epoch 36/64\n",
      "100/100 [==============================] - 8s 78ms/step - loss: 0.0103 - acc: 0.9970 - val_loss: 1.3125 - val_acc: 0.7400\n",
      "Epoch 37/64\n",
      "100/100 [==============================] - 8s 78ms/step - loss: 0.0152 - acc: 0.9960 - val_loss: 2.3085 - val_acc: 0.7110\n",
      "Epoch 38/64\n",
      "100/100 [==============================] - 8s 78ms/step - loss: 0.0094 - acc: 0.9975 - val_loss: 1.9206 - val_acc: 0.7460\n",
      "Epoch 39/64\n",
      "100/100 [==============================] - 8s 78ms/step - loss: 0.0106 - acc: 0.9970 - val_loss: 2.0043 - val_acc: 0.7350\n",
      "Epoch 40/64\n",
      "100/100 [==============================] - 8s 79ms/step - loss: 0.0119 - acc: 0.9945 - val_loss: 2.8906 - val_acc: 0.7360\n",
      "Epoch 41/64\n",
      "100/100 [==============================] - 8s 80ms/step - loss: 0.0144 - acc: 0.9985 - val_loss: 0.6099 - val_acc: 0.7300\n",
      "Epoch 42/64\n",
      "100/100 [==============================] - 8s 79ms/step - loss: 0.0147 - acc: 0.9970 - val_loss: 1.3039 - val_acc: 0.7260\n",
      "Epoch 43/64\n",
      "100/100 [==============================] - 8s 79ms/step - loss: 0.0067 - acc: 0.9975 - val_loss: 2.9202 - val_acc: 0.7290\n",
      "Epoch 44/64\n",
      "100/100 [==============================] - 8s 79ms/step - loss: 0.0105 - acc: 0.9950 - val_loss: 3.7666 - val_acc: 0.7330\n",
      "Epoch 45/64\n",
      "100/100 [==============================] - 8s 79ms/step - loss: 0.0079 - acc: 0.9975 - val_loss: 4.9414 - val_acc: 0.7400\n",
      "Epoch 46/64\n",
      "100/100 [==============================] - 8s 78ms/step - loss: 0.0067 - acc: 0.9975 - val_loss: 2.0846 - val_acc: 0.7330\n",
      "Epoch 47/64\n",
      "100/100 [==============================] - 8s 78ms/step - loss: 0.0111 - acc: 0.9975 - val_loss: 3.2259 - val_acc: 0.7350\n",
      "Epoch 48/64\n",
      "100/100 [==============================] - 8s 78ms/step - loss: 0.0102 - acc: 0.9980 - val_loss: 2.1422 - val_acc: 0.7410\n",
      "Epoch 49/64\n",
      "100/100 [==============================] - 8s 79ms/step - loss: 0.0048 - acc: 0.9980 - val_loss: 0.2336 - val_acc: 0.7460\n",
      "Epoch 50/64\n",
      "100/100 [==============================] - 8s 79ms/step - loss: 0.0024 - acc: 0.9995 - val_loss: 0.9823 - val_acc: 0.7440\n",
      "Epoch 51/64\n",
      "100/100 [==============================] - 8s 79ms/step - loss: 0.0043 - acc: 0.9990 - val_loss: 5.9749 - val_acc: 0.7490\n",
      "Epoch 52/64\n",
      "100/100 [==============================] - 8s 79ms/step - loss: 0.0202 - acc: 0.9955 - val_loss: 0.6885 - val_acc: 0.7250\n",
      "Epoch 53/64\n",
      "100/100 [==============================] - 8s 79ms/step - loss: 0.0078 - acc: 0.9985 - val_loss: 0.8722 - val_acc: 0.7190\n",
      "Epoch 54/64\n",
      "100/100 [==============================] - 8s 78ms/step - loss: 0.0076 - acc: 0.9970 - val_loss: 1.9313 - val_acc: 0.7320\n",
      "Epoch 55/64\n",
      "100/100 [==============================] - 8s 79ms/step - loss: 0.0095 - acc: 0.9960 - val_loss: 2.3039 - val_acc: 0.7350\n",
      "Epoch 56/64\n",
      "100/100 [==============================] - 8s 78ms/step - loss: 0.0022 - acc: 0.9985 - val_loss: 4.3884 - val_acc: 0.7390\n",
      "Epoch 57/64\n",
      "100/100 [==============================] - 8s 79ms/step - loss: 0.0048 - acc: 0.9990 - val_loss: 2.3134 - val_acc: 0.7460\n",
      "Epoch 58/64\n",
      "100/100 [==============================] - 8s 79ms/step - loss: 0.0065 - acc: 0.9975 - val_loss: 3.0029 - val_acc: 0.7170\n",
      "Epoch 59/64\n",
      "100/100 [==============================] - 8s 78ms/step - loss: 0.0012 - acc: 1.0000 - val_loss: 3.5909 - val_acc: 0.7390\n",
      "Epoch 60/64\n",
      "100/100 [==============================] - 8s 78ms/step - loss: 5.8329e-04 - acc: 1.0000 - val_loss: 2.6398 - val_acc: 0.7420\n",
      "Epoch 61/64\n",
      "100/100 [==============================] - 8s 79ms/step - loss: 0.0124 - acc: 0.9980 - val_loss: 1.3962 - val_acc: 0.7040\n",
      "Epoch 62/64\n",
      "100/100 [==============================] - 8s 79ms/step - loss: 0.0073 - acc: 0.9985 - val_loss: 2.9881 - val_acc: 0.7530\n",
      "Epoch 63/64\n",
      "100/100 [==============================] - 8s 79ms/step - loss: 0.0131 - acc: 0.9975 - val_loss: 2.3336 - val_acc: 0.7260\n",
      "Epoch 64/64\n",
      "100/100 [==============================] - 8s 79ms/step - loss: 1.7259e-04 - acc: 1.0000 - val_loss: 3.7930 - val_acc: 0.7170\n",
      "Epoch 1/64\n",
      "100/100 [==============================] - 9s 87ms/step - loss: 0.6943 - acc: 0.5180 - val_loss: 0.6934 - val_acc: 0.5250\n",
      "Epoch 2/64\n",
      "100/100 [==============================] - 8s 79ms/step - loss: 0.6755 - acc: 0.5710 - val_loss: 0.5949 - val_acc: 0.5080\n",
      "Epoch 3/64\n",
      "100/100 [==============================] - 8s 79ms/step - loss: 0.6268 - acc: 0.6520 - val_loss: 0.6464 - val_acc: 0.6480\n",
      "Epoch 4/64\n",
      "100/100 [==============================] - 8s 81ms/step - loss: 0.5702 - acc: 0.7065 - val_loss: 0.5250 - val_acc: 0.6800\n",
      "Epoch 5/64\n",
      "100/100 [==============================] - 8s 81ms/step - loss: 0.5249 - acc: 0.7460 - val_loss: 0.5454 - val_acc: 0.6490\n",
      "Epoch 6/64\n",
      "100/100 [==============================] - 8s 79ms/step - loss: 0.4768 - acc: 0.7680 - val_loss: 0.6392 - val_acc: 0.6800\n",
      "Epoch 7/64\n",
      "100/100 [==============================] - 8s 79ms/step - loss: 0.4408 - acc: 0.7910 - val_loss: 0.5846 - val_acc: 0.7210\n",
      "Epoch 8/64\n",
      "100/100 [==============================] - 8s 81ms/step - loss: 0.4020 - acc: 0.8220 - val_loss: 0.7773 - val_acc: 0.7120\n",
      "Epoch 9/64\n",
      "100/100 [==============================] - 8s 79ms/step - loss: 0.3583 - acc: 0.8380 - val_loss: 0.5749 - val_acc: 0.7260\n",
      "Epoch 10/64\n",
      "100/100 [==============================] - 8s 79ms/step - loss: 0.3169 - acc: 0.8680 - val_loss: 0.9228 - val_acc: 0.7290\n",
      "Epoch 11/64\n",
      "100/100 [==============================] - 8s 79ms/step - loss: 0.2843 - acc: 0.8750 - val_loss: 0.9135 - val_acc: 0.7150\n",
      "Epoch 12/64\n",
      "100/100 [==============================] - 8s 80ms/step - loss: 0.2471 - acc: 0.9020 - val_loss: 0.5334 - val_acc: 0.7360\n",
      "Epoch 13/64\n",
      "100/100 [==============================] - 8s 78ms/step - loss: 0.2158 - acc: 0.9165 - val_loss: 1.3429 - val_acc: 0.7340\n",
      "Epoch 14/64\n",
      "100/100 [==============================] - 8s 78ms/step - loss: 0.1816 - acc: 0.9385 - val_loss: 0.5495 - val_acc: 0.7040\n",
      "Epoch 15/64\n",
      "100/100 [==============================] - 8s 78ms/step - loss: 0.1669 - acc: 0.9480 - val_loss: 0.5852 - val_acc: 0.7400\n",
      "Epoch 16/64\n",
      "100/100 [==============================] - 8s 80ms/step - loss: 0.1276 - acc: 0.9625 - val_loss: 1.3282 - val_acc: 0.7190\n",
      "Epoch 17/64\n",
      "100/100 [==============================] - 8s 80ms/step - loss: 0.1118 - acc: 0.9710 - val_loss: 0.1793 - val_acc: 0.7250\n",
      "Epoch 18/64\n",
      "100/100 [==============================] - 8s 80ms/step - loss: 0.0877 - acc: 0.9760 - val_loss: 0.3800 - val_acc: 0.7410\n",
      "Epoch 19/64\n",
      "100/100 [==============================] - 8s 79ms/step - loss: 0.0664 - acc: 0.9865 - val_loss: 0.7284 - val_acc: 0.7320\n",
      "Epoch 20/64\n",
      "100/100 [==============================] - 8s 79ms/step - loss: 0.0608 - acc: 0.9885 - val_loss: 0.6524 - val_acc: 0.7260\n",
      "Epoch 21/64\n",
      "100/100 [==============================] - 8s 79ms/step - loss: 0.0412 - acc: 0.9930 - val_loss: 1.2286 - val_acc: 0.7300\n",
      "Epoch 22/64\n",
      "100/100 [==============================] - 8s 77ms/step - loss: 0.0460 - acc: 0.9905 - val_loss: 0.9042 - val_acc: 0.7330\n",
      "Epoch 23/64\n",
      "100/100 [==============================] - 8s 79ms/step - loss: 0.0294 - acc: 0.9965 - val_loss: 1.2512 - val_acc: 0.7430\n",
      "Epoch 24/64\n",
      "100/100 [==============================] - 8s 79ms/step - loss: 0.0212 - acc: 0.9975 - val_loss: 0.8020 - val_acc: 0.7260\n",
      "Epoch 25/64\n",
      "100/100 [==============================] - 8s 79ms/step - loss: 0.0134 - acc: 0.9995 - val_loss: 1.1454 - val_acc: 0.7270\n",
      "Epoch 26/64\n",
      "100/100 [==============================] - 8s 79ms/step - loss: 0.0106 - acc: 1.0000 - val_loss: 0.7730 - val_acc: 0.7270\n",
      "Epoch 27/64\n",
      "100/100 [==============================] - 8s 79ms/step - loss: 0.0072 - acc: 1.0000 - val_loss: 1.6318 - val_acc: 0.7330\n",
      "Epoch 28/64\n",
      "100/100 [==============================] - 8s 80ms/step - loss: 0.0053 - acc: 1.0000 - val_loss: 1.6576 - val_acc: 0.7330\n",
      "Epoch 29/64\n",
      "100/100 [==============================] - 8s 79ms/step - loss: 0.0044 - acc: 1.0000 - val_loss: 0.8781 - val_acc: 0.7310\n",
      "Epoch 30/64\n",
      "100/100 [==============================] - 8s 79ms/step - loss: 0.0035 - acc: 1.0000 - val_loss: 0.4443 - val_acc: 0.7270\n",
      "Epoch 31/64\n",
      "100/100 [==============================] - 8s 79ms/step - loss: 0.0029 - acc: 1.0000 - val_loss: 2.0633 - val_acc: 0.7320\n",
      "Epoch 32/64\n",
      "100/100 [==============================] - 8s 79ms/step - loss: 0.0025 - acc: 1.0000 - val_loss: 1.7297 - val_acc: 0.7280\n",
      "Epoch 33/64\n",
      "100/100 [==============================] - 8s 78ms/step - loss: 0.0022 - acc: 1.0000 - val_loss: 2.0614 - val_acc: 0.7300\n",
      "Epoch 34/64\n",
      "100/100 [==============================] - 8s 78ms/step - loss: 0.0019 - acc: 1.0000 - val_loss: 0.8643 - val_acc: 0.7290\n",
      "Epoch 35/64\n",
      "100/100 [==============================] - 8s 79ms/step - loss: 0.0016 - acc: 1.0000 - val_loss: 1.0877 - val_acc: 0.7260\n",
      "Epoch 36/64\n",
      "100/100 [==============================] - 8s 79ms/step - loss: 0.0014 - acc: 1.0000 - val_loss: 0.8296 - val_acc: 0.7340\n",
      "Epoch 37/64\n",
      "100/100 [==============================] - 8s 79ms/step - loss: 0.0013 - acc: 1.0000 - val_loss: 0.8672 - val_acc: 0.7280\n",
      "Epoch 38/64\n",
      "100/100 [==============================] - 8s 80ms/step - loss: 0.0011 - acc: 1.0000 - val_loss: 1.5271 - val_acc: 0.7280\n",
      "Epoch 39/64\n",
      "100/100 [==============================] - 8s 79ms/step - loss: 9.7554e-04 - acc: 1.0000 - val_loss: 1.0726 - val_acc: 0.7240\n",
      "Epoch 40/64\n",
      "100/100 [==============================] - 8s 78ms/step - loss: 8.9573e-04 - acc: 1.0000 - val_loss: 2.4152 - val_acc: 0.7280\n",
      "Epoch 41/64\n",
      "100/100 [==============================] - 8s 79ms/step - loss: 7.7610e-04 - acc: 1.0000 - val_loss: 1.3802 - val_acc: 0.7320\n",
      "Epoch 42/64\n",
      "100/100 [==============================] - 8s 78ms/step - loss: 7.2457e-04 - acc: 1.0000 - val_loss: 1.5249 - val_acc: 0.7230\n",
      "Epoch 43/64\n",
      "100/100 [==============================] - 8s 80ms/step - loss: 6.6173e-04 - acc: 1.0000 - val_loss: 1.8669 - val_acc: 0.7290\n",
      "Epoch 44/64\n",
      "100/100 [==============================] - 8s 79ms/step - loss: 5.6574e-04 - acc: 1.0000 - val_loss: 3.0709 - val_acc: 0.7240\n",
      "Epoch 45/64\n",
      "100/100 [==============================] - 8s 79ms/step - loss: 5.3123e-04 - acc: 1.0000 - val_loss: 1.3484 - val_acc: 0.7220\n",
      "Epoch 46/64\n",
      "100/100 [==============================] - 8s 79ms/step - loss: 4.8514e-04 - acc: 1.0000 - val_loss: 2.3373 - val_acc: 0.7260\n",
      "Epoch 47/64\n",
      "100/100 [==============================] - 8s 79ms/step - loss: 4.3754e-04 - acc: 1.0000 - val_loss: 2.3116 - val_acc: 0.7300\n",
      "Epoch 48/64\n",
      "100/100 [==============================] - 8s 80ms/step - loss: 3.9997e-04 - acc: 1.0000 - val_loss: 1.5674 - val_acc: 0.7240\n",
      "Epoch 49/64\n",
      "100/100 [==============================] - 8s 79ms/step - loss: 3.5682e-04 - acc: 1.0000 - val_loss: 2.1651 - val_acc: 0.7240\n",
      "Epoch 50/64\n",
      "100/100 [==============================] - 8s 80ms/step - loss: 3.2906e-04 - acc: 1.0000 - val_loss: 0.9907 - val_acc: 0.7220\n",
      "Epoch 51/64\n",
      "100/100 [==============================] - 8s 79ms/step - loss: 3.0935e-04 - acc: 1.0000 - val_loss: 0.6985 - val_acc: 0.7290\n",
      "Epoch 52/64\n",
      "100/100 [==============================] - 8s 79ms/step - loss: 2.8053e-04 - acc: 1.0000 - val_loss: 1.0832 - val_acc: 0.7240\n",
      "Epoch 53/64\n",
      "100/100 [==============================] - 8s 78ms/step - loss: 2.5477e-04 - acc: 1.0000 - val_loss: 0.9618 - val_acc: 0.7220\n",
      "Epoch 54/64\n",
      "100/100 [==============================] - 8s 80ms/step - loss: 2.3207e-04 - acc: 1.0000 - val_loss: 1.6172 - val_acc: 0.7270\n",
      "Epoch 55/64\n",
      "100/100 [==============================] - 8s 80ms/step - loss: 2.1897e-04 - acc: 1.0000 - val_loss: 0.8856 - val_acc: 0.7230\n",
      "Epoch 56/64\n",
      "100/100 [==============================] - 8s 79ms/step - loss: 1.9743e-04 - acc: 1.0000 - val_loss: 1.6349 - val_acc: 0.7250\n",
      "Epoch 57/64\n",
      "100/100 [==============================] - 8s 79ms/step - loss: 1.8484e-04 - acc: 1.0000 - val_loss: 1.2796 - val_acc: 0.7240\n",
      "Epoch 58/64\n",
      "100/100 [==============================] - 8s 80ms/step - loss: 1.7221e-04 - acc: 1.0000 - val_loss: 1.9309 - val_acc: 0.7240\n",
      "Epoch 59/64\n",
      "100/100 [==============================] - 8s 79ms/step - loss: 1.5683e-04 - acc: 1.0000 - val_loss: 3.1164 - val_acc: 0.7280\n",
      "Epoch 60/64\n",
      "100/100 [==============================] - 8s 79ms/step - loss: 1.4692e-04 - acc: 1.0000 - val_loss: 2.1750 - val_acc: 0.7260\n",
      "Epoch 61/64\n",
      "100/100 [==============================] - 8s 78ms/step - loss: 1.3272e-04 - acc: 1.0000 - val_loss: 1.3780 - val_acc: 0.7230\n",
      "Epoch 62/64\n",
      "100/100 [==============================] - 8s 79ms/step - loss: 1.2714e-04 - acc: 1.0000 - val_loss: 1.5849 - val_acc: 0.7250\n",
      "Epoch 63/64\n",
      "100/100 [==============================] - 8s 78ms/step - loss: 1.1697e-04 - acc: 1.0000 - val_loss: 1.9026 - val_acc: 0.7260\n",
      "Epoch 64/64\n",
      "100/100 [==============================] - 8s 79ms/step - loss: 1.0750e-04 - acc: 1.0000 - val_loss: 1.6770 - val_acc: 0.7300\n",
      "Epoch 1/64\n",
      "100/100 [==============================] - 9s 86ms/step - loss: 0.6916 - acc: 0.5055 - val_loss: 0.6881 - val_acc: 0.5540\n",
      "Epoch 2/64\n",
      "100/100 [==============================] - 8s 78ms/step - loss: 0.6683 - acc: 0.5945 - val_loss: 0.6186 - val_acc: 0.6070\n",
      "Epoch 3/64\n",
      "100/100 [==============================] - 8s 78ms/step - loss: 0.6230 - acc: 0.6560 - val_loss: 0.6773 - val_acc: 0.6640\n",
      "Epoch 4/64\n",
      "100/100 [==============================] - 8s 79ms/step - loss: 0.5765 - acc: 0.7080 - val_loss: 0.5975 - val_acc: 0.6650\n",
      "Epoch 5/64\n",
      "100/100 [==============================] - 8s 80ms/step - loss: 0.5390 - acc: 0.7265 - val_loss: 0.6107 - val_acc: 0.6710\n",
      "Epoch 6/64\n",
      "100/100 [==============================] - 8s 78ms/step - loss: 0.5171 - acc: 0.7465 - val_loss: 0.6141 - val_acc: 0.6600\n",
      "Epoch 7/64\n",
      "100/100 [==============================] - 8s 79ms/step - loss: 0.4948 - acc: 0.7605 - val_loss: 0.5755 - val_acc: 0.6830\n",
      "Epoch 8/64\n",
      "100/100 [==============================] - 8s 79ms/step - loss: 0.4764 - acc: 0.7635 - val_loss: 0.5384 - val_acc: 0.6850\n",
      "Epoch 9/64\n",
      "100/100 [==============================] - 8s 78ms/step - loss: 0.4572 - acc: 0.7875 - val_loss: 0.6672 - val_acc: 0.7110\n",
      "Epoch 10/64\n",
      "100/100 [==============================] - 8s 79ms/step - loss: 0.4267 - acc: 0.8025 - val_loss: 0.5132 - val_acc: 0.7080\n",
      "Epoch 11/64\n",
      "100/100 [==============================] - 8s 79ms/step - loss: 0.4138 - acc: 0.8105 - val_loss: 0.6939 - val_acc: 0.6870\n",
      "Epoch 12/64\n",
      "100/100 [==============================] - 8s 78ms/step - loss: 0.3843 - acc: 0.8405 - val_loss: 0.8720 - val_acc: 0.7270\n",
      "Epoch 13/64\n",
      "100/100 [==============================] - 8s 78ms/step - loss: 0.3663 - acc: 0.8390 - val_loss: 0.5942 - val_acc: 0.7080\n",
      "Epoch 14/64\n",
      "100/100 [==============================] - 8s 79ms/step - loss: 0.3453 - acc: 0.8635 - val_loss: 0.5629 - val_acc: 0.7120\n",
      "Epoch 15/64\n",
      "100/100 [==============================] - 8s 80ms/step - loss: 0.3269 - acc: 0.8710 - val_loss: 0.6268 - val_acc: 0.7070\n",
      "Epoch 16/64\n",
      "100/100 [==============================] - 8s 79ms/step - loss: 0.3097 - acc: 0.8740 - val_loss: 0.5775 - val_acc: 0.7230\n",
      "Epoch 17/64\n",
      "100/100 [==============================] - 8s 78ms/step - loss: 0.2947 - acc: 0.8790 - val_loss: 0.8679 - val_acc: 0.7330\n",
      "Epoch 18/64\n",
      "100/100 [==============================] - 8s 80ms/step - loss: 0.2766 - acc: 0.8890 - val_loss: 0.6025 - val_acc: 0.7120\n",
      "Epoch 19/64\n",
      "100/100 [==============================] - 8s 80ms/step - loss: 0.2573 - acc: 0.8990 - val_loss: 0.6254 - val_acc: 0.7270\n",
      "Epoch 20/64\n",
      "100/100 [==============================] - 8s 79ms/step - loss: 0.2419 - acc: 0.9135 - val_loss: 0.7765 - val_acc: 0.7310\n",
      "Epoch 21/64\n",
      "100/100 [==============================] - 8s 79ms/step - loss: 0.2168 - acc: 0.9280 - val_loss: 0.4163 - val_acc: 0.7230\n",
      "Epoch 22/64\n",
      "100/100 [==============================] - 8s 79ms/step - loss: 0.2017 - acc: 0.9315 - val_loss: 0.4027 - val_acc: 0.7300\n",
      "Epoch 23/64\n",
      "100/100 [==============================] - 8s 79ms/step - loss: 0.1921 - acc: 0.9350 - val_loss: 0.5298 - val_acc: 0.7170\n",
      "Epoch 24/64\n",
      "100/100 [==============================] - 8s 78ms/step - loss: 0.1737 - acc: 0.9480 - val_loss: 0.4883 - val_acc: 0.7240\n",
      "Epoch 25/64\n",
      "100/100 [==============================] - 8s 79ms/step - loss: 0.1574 - acc: 0.9490 - val_loss: 0.5903 - val_acc: 0.7340\n",
      "Epoch 26/64\n",
      "100/100 [==============================] - 8s 79ms/step - loss: 0.1411 - acc: 0.9615 - val_loss: 0.8508 - val_acc: 0.7280\n",
      "Epoch 27/64\n",
      "100/100 [==============================] - 8s 79ms/step - loss: 0.1361 - acc: 0.9600 - val_loss: 0.9546 - val_acc: 0.7330\n",
      "Epoch 28/64\n",
      "100/100 [==============================] - 8s 79ms/step - loss: 0.1244 - acc: 0.9625 - val_loss: 0.7044 - val_acc: 0.7390\n",
      "Epoch 29/64\n",
      "100/100 [==============================] - 8s 79ms/step - loss: 0.1071 - acc: 0.9740 - val_loss: 0.9748 - val_acc: 0.7350\n",
      "Epoch 30/64\n",
      "100/100 [==============================] - 8s 79ms/step - loss: 0.0959 - acc: 0.9750 - val_loss: 0.5864 - val_acc: 0.7250\n",
      "Epoch 31/64\n",
      "100/100 [==============================] - 8s 79ms/step - loss: 0.0874 - acc: 0.9835 - val_loss: 0.6135 - val_acc: 0.7240\n",
      "Epoch 32/64\n",
      "100/100 [==============================] - 8s 78ms/step - loss: 0.0746 - acc: 0.9875 - val_loss: 0.7547 - val_acc: 0.7350\n",
      "Epoch 33/64\n",
      "100/100 [==============================] - 8s 79ms/step - loss: 0.0693 - acc: 0.9870 - val_loss: 0.5073 - val_acc: 0.7310\n",
      "Epoch 34/64\n",
      "100/100 [==============================] - 8s 79ms/step - loss: 0.0571 - acc: 0.9910 - val_loss: 0.9060 - val_acc: 0.7290\n",
      "Epoch 35/64\n",
      "100/100 [==============================] - 8s 79ms/step - loss: 0.0487 - acc: 0.9930 - val_loss: 1.0487 - val_acc: 0.7280\n",
      "Epoch 36/64\n",
      "100/100 [==============================] - 8s 79ms/step - loss: 0.0444 - acc: 0.9935 - val_loss: 1.3906 - val_acc: 0.7230\n",
      "Epoch 37/64\n",
      "100/100 [==============================] - 8s 78ms/step - loss: 0.0340 - acc: 0.9980 - val_loss: 1.2987 - val_acc: 0.7440\n",
      "Epoch 38/64\n",
      "100/100 [==============================] - 8s 79ms/step - loss: 0.0321 - acc: 0.9960 - val_loss: 1.0360 - val_acc: 0.7300\n",
      "Epoch 39/64\n",
      "100/100 [==============================] - 8s 79ms/step - loss: 0.0274 - acc: 0.9990 - val_loss: 1.1861 - val_acc: 0.7250\n",
      "Epoch 40/64\n",
      "100/100 [==============================] - 8s 79ms/step - loss: 0.0233 - acc: 0.9990 - val_loss: 0.6702 - val_acc: 0.7400\n",
      "Epoch 41/64\n",
      "100/100 [==============================] - 8s 79ms/step - loss: 0.0199 - acc: 1.0000 - val_loss: 0.1387 - val_acc: 0.7270\n",
      "Epoch 42/64\n",
      "100/100 [==============================] - 8s 79ms/step - loss: 0.0181 - acc: 0.9995 - val_loss: 0.8173 - val_acc: 0.7290\n",
      "Epoch 43/64\n",
      "100/100 [==============================] - 8s 79ms/step - loss: 0.0218 - acc: 0.9995 - val_loss: 1.3598 - val_acc: 0.7300\n",
      "Epoch 44/64\n",
      "100/100 [==============================] - 8s 78ms/step - loss: 0.0128 - acc: 1.0000 - val_loss: 0.2915 - val_acc: 0.7320\n",
      "Epoch 45/64\n",
      "100/100 [==============================] - 8s 80ms/step - loss: 0.0113 - acc: 1.0000 - val_loss: 1.8579 - val_acc: 0.7330\n",
      "Epoch 46/64\n",
      "100/100 [==============================] - 8s 79ms/step - loss: 0.0102 - acc: 1.0000 - val_loss: 1.2095 - val_acc: 0.7400\n",
      "Epoch 47/64\n",
      "100/100 [==============================] - 8s 78ms/step - loss: 0.0089 - acc: 1.0000 - val_loss: 0.9664 - val_acc: 0.7270\n",
      "Epoch 48/64\n",
      "100/100 [==============================] - 8s 78ms/step - loss: 0.0072 - acc: 1.0000 - val_loss: 1.5280 - val_acc: 0.7360\n",
      "Epoch 49/64\n",
      "100/100 [==============================] - 8s 78ms/step - loss: 0.0066 - acc: 1.0000 - val_loss: 1.2321 - val_acc: 0.7330\n",
      "Epoch 50/64\n",
      "100/100 [==============================] - 8s 78ms/step - loss: 0.0059 - acc: 1.0000 - val_loss: 1.2291 - val_acc: 0.7390\n",
      "Epoch 51/64\n",
      "100/100 [==============================] - 8s 79ms/step - loss: 0.0051 - acc: 1.0000 - val_loss: 1.0070 - val_acc: 0.7340\n",
      "Epoch 52/64\n",
      "100/100 [==============================] - 8s 79ms/step - loss: 0.0046 - acc: 1.0000 - val_loss: 1.3176 - val_acc: 0.7340\n",
      "Epoch 53/64\n",
      "100/100 [==============================] - 8s 78ms/step - loss: 0.0040 - acc: 1.0000 - val_loss: 0.5000 - val_acc: 0.7310\n",
      "Epoch 54/64\n",
      "100/100 [==============================] - 8s 79ms/step - loss: 0.0038 - acc: 1.0000 - val_loss: 0.6836 - val_acc: 0.7350\n",
      "Epoch 55/64\n",
      "100/100 [==============================] - 8s 79ms/step - loss: 0.0032 - acc: 1.0000 - val_loss: 1.8249 - val_acc: 0.7370\n",
      "Epoch 56/64\n",
      "100/100 [==============================] - 8s 79ms/step - loss: 0.0031 - acc: 1.0000 - val_loss: 1.6081 - val_acc: 0.7310\n",
      "Epoch 57/64\n",
      "100/100 [==============================] - 8s 80ms/step - loss: 0.0027 - acc: 1.0000 - val_loss: 1.8985 - val_acc: 0.7270\n",
      "Epoch 58/64\n",
      "100/100 [==============================] - 8s 81ms/step - loss: 0.0026 - acc: 1.0000 - val_loss: 1.2368 - val_acc: 0.7360\n",
      "Epoch 59/64\n",
      "100/100 [==============================] - 8s 80ms/step - loss: 0.0022 - acc: 1.0000 - val_loss: 1.6172 - val_acc: 0.7350\n",
      "Epoch 60/64\n",
      "100/100 [==============================] - 8s 79ms/step - loss: 0.0018 - acc: 1.0000 - val_loss: 2.6661 - val_acc: 0.7280\n",
      "Epoch 61/64\n",
      "100/100 [==============================] - 8s 79ms/step - loss: 0.0017 - acc: 1.0000 - val_loss: 1.1771 - val_acc: 0.7370\n",
      "Epoch 62/64\n",
      "100/100 [==============================] - 8s 80ms/step - loss: 0.0016 - acc: 1.0000 - val_loss: 1.1715 - val_acc: 0.7310\n",
      "Epoch 63/64\n",
      "100/100 [==============================] - 8s 79ms/step - loss: 0.0014 - acc: 1.0000 - val_loss: 0.2728 - val_acc: 0.7270\n",
      "Epoch 64/64\n",
      "100/100 [==============================] - 8s 80ms/step - loss: 0.0013 - acc: 1.0000 - val_loss: 0.4523 - val_acc: 0.7360\n",
      "Epoch 1/64\n",
      "100/100 [==============================] - 9s 88ms/step - loss: 0.6912 - acc: 0.5150 - val_loss: 0.6861 - val_acc: 0.5030\n",
      "Epoch 2/64\n",
      "100/100 [==============================] - 8s 79ms/step - loss: 0.6703 - acc: 0.6000 - val_loss: 0.6599 - val_acc: 0.6320\n",
      "Epoch 3/64\n",
      "100/100 [==============================] - 8s 79ms/step - loss: 0.6395 - acc: 0.6235 - val_loss: 0.6408 - val_acc: 0.5860\n",
      "Epoch 4/64\n",
      "100/100 [==============================] - 8s 80ms/step - loss: 0.6179 - acc: 0.6645 - val_loss: 0.6372 - val_acc: 0.6530\n",
      "Epoch 5/64\n",
      "100/100 [==============================] - 8s 79ms/step - loss: 0.5821 - acc: 0.6990 - val_loss: 0.4893 - val_acc: 0.6420\n",
      "Epoch 6/64\n",
      "100/100 [==============================] - 8s 78ms/step - loss: 0.5671 - acc: 0.7015 - val_loss: 0.4996 - val_acc: 0.6840\n",
      "Epoch 7/64\n",
      "100/100 [==============================] - 8s 78ms/step - loss: 0.5440 - acc: 0.7250 - val_loss: 0.6192 - val_acc: 0.6580\n",
      "Epoch 8/64\n",
      "100/100 [==============================] - 8s 79ms/step - loss: 0.5179 - acc: 0.7505 - val_loss: 0.5724 - val_acc: 0.6970\n",
      "Epoch 9/64\n",
      "100/100 [==============================] - 8s 79ms/step - loss: 0.4941 - acc: 0.7600 - val_loss: 0.6712 - val_acc: 0.7000\n",
      "Epoch 10/64\n",
      "100/100 [==============================] - 8s 78ms/step - loss: 0.4757 - acc: 0.7860 - val_loss: 0.5252 - val_acc: 0.7110\n",
      "Epoch 11/64\n",
      "100/100 [==============================] - 8s 80ms/step - loss: 0.4508 - acc: 0.8005 - val_loss: 0.4517 - val_acc: 0.7030\n",
      "Epoch 12/64\n",
      "100/100 [==============================] - 8s 79ms/step - loss: 0.4324 - acc: 0.8090 - val_loss: 0.4353 - val_acc: 0.7130\n",
      "Epoch 13/64\n",
      "100/100 [==============================] - 8s 78ms/step - loss: 0.4139 - acc: 0.8130 - val_loss: 0.8800 - val_acc: 0.7120\n",
      "Epoch 14/64\n",
      "100/100 [==============================] - 8s 80ms/step - loss: 0.4031 - acc: 0.8190 - val_loss: 0.3396 - val_acc: 0.7140\n",
      "Epoch 15/64\n",
      "100/100 [==============================] - 8s 79ms/step - loss: 0.3818 - acc: 0.8310 - val_loss: 0.5181 - val_acc: 0.7190\n",
      "Epoch 16/64\n",
      "100/100 [==============================] - 8s 78ms/step - loss: 0.3793 - acc: 0.8365 - val_loss: 0.5036 - val_acc: 0.7170\n",
      "Epoch 17/64\n",
      "100/100 [==============================] - 8s 78ms/step - loss: 0.3479 - acc: 0.8610 - val_loss: 0.5006 - val_acc: 0.7160\n",
      "Epoch 18/64\n",
      "100/100 [==============================] - 8s 78ms/step - loss: 0.3410 - acc: 0.8495 - val_loss: 0.6063 - val_acc: 0.7220\n",
      "Epoch 19/64\n",
      "100/100 [==============================] - 8s 79ms/step - loss: 0.3293 - acc: 0.8675 - val_loss: 0.5215 - val_acc: 0.7150\n",
      "Epoch 20/64\n",
      "100/100 [==============================] - 8s 79ms/step - loss: 0.3058 - acc: 0.8740 - val_loss: 0.3809 - val_acc: 0.7250\n",
      "Epoch 21/64\n",
      "100/100 [==============================] - 8s 80ms/step - loss: 0.2914 - acc: 0.8820 - val_loss: 0.3910 - val_acc: 0.7290\n",
      "Epoch 22/64\n",
      "100/100 [==============================] - 8s 79ms/step - loss: 0.2738 - acc: 0.8965 - val_loss: 0.5495 - val_acc: 0.7270\n",
      "Epoch 23/64\n",
      "100/100 [==============================] - 8s 79ms/step - loss: 0.2573 - acc: 0.9025 - val_loss: 0.6371 - val_acc: 0.7230\n",
      "Epoch 24/64\n",
      "100/100 [==============================] - 8s 80ms/step - loss: 0.2486 - acc: 0.9035 - val_loss: 0.6339 - val_acc: 0.7200\n",
      "Epoch 25/64\n",
      "100/100 [==============================] - 8s 79ms/step - loss: 0.2325 - acc: 0.9085 - val_loss: 0.5836 - val_acc: 0.7210\n",
      "Epoch 26/64\n",
      "100/100 [==============================] - 8s 79ms/step - loss: 0.2114 - acc: 0.9265 - val_loss: 0.7564 - val_acc: 0.7250\n",
      "Epoch 27/64\n",
      "100/100 [==============================] - 8s 79ms/step - loss: 0.2071 - acc: 0.9275 - val_loss: 0.3780 - val_acc: 0.7370\n",
      "Epoch 28/64\n",
      "100/100 [==============================] - 8s 78ms/step - loss: 0.1836 - acc: 0.9430 - val_loss: 0.4752 - val_acc: 0.7180\n",
      "Epoch 29/64\n",
      "100/100 [==============================] - 8s 79ms/step - loss: 0.1697 - acc: 0.9430 - val_loss: 0.5941 - val_acc: 0.7180\n",
      "Epoch 30/64\n",
      "100/100 [==============================] - 8s 79ms/step - loss: 0.1590 - acc: 0.9520 - val_loss: 0.4397 - val_acc: 0.7210\n",
      "Epoch 31/64\n",
      "100/100 [==============================] - 8s 80ms/step - loss: 0.1599 - acc: 0.9420 - val_loss: 0.4889 - val_acc: 0.7270\n",
      "Epoch 32/64\n",
      "100/100 [==============================] - 8s 82ms/step - loss: 0.1325 - acc: 0.9575 - val_loss: 1.0392 - val_acc: 0.7050\n",
      "Epoch 33/64\n",
      "100/100 [==============================] - 8s 81ms/step - loss: 0.1254 - acc: 0.9615 - val_loss: 0.4476 - val_acc: 0.7200\n",
      "Epoch 34/64\n",
      "100/100 [==============================] - 8s 79ms/step - loss: 0.1140 - acc: 0.9680 - val_loss: 0.7904 - val_acc: 0.7200\n",
      "Epoch 35/64\n",
      "100/100 [==============================] - 8s 79ms/step - loss: 0.1062 - acc: 0.9675 - val_loss: 1.2067 - val_acc: 0.7260\n",
      "Epoch 36/64\n",
      "100/100 [==============================] - 8s 80ms/step - loss: 0.0921 - acc: 0.9740 - val_loss: 0.9016 - val_acc: 0.7240\n",
      "Epoch 37/64\n",
      "100/100 [==============================] - 8s 80ms/step - loss: 0.0871 - acc: 0.9765 - val_loss: 0.7112 - val_acc: 0.7210\n",
      "Epoch 38/64\n",
      "100/100 [==============================] - 8s 79ms/step - loss: 0.0759 - acc: 0.9830 - val_loss: 0.7804 - val_acc: 0.7140\n",
      "Epoch 39/64\n",
      "100/100 [==============================] - 8s 79ms/step - loss: 0.0617 - acc: 0.9895 - val_loss: 0.8916 - val_acc: 0.7190\n",
      "Epoch 40/64\n",
      "100/100 [==============================] - 8s 80ms/step - loss: 0.0589 - acc: 0.9885 - val_loss: 0.9764 - val_acc: 0.7130\n",
      "Epoch 41/64\n",
      "100/100 [==============================] - 8s 80ms/step - loss: 0.0563 - acc: 0.9905 - val_loss: 0.5426 - val_acc: 0.7320\n",
      "Epoch 42/64\n",
      "100/100 [==============================] - 8s 80ms/step - loss: 0.0453 - acc: 0.9930 - val_loss: 1.5131 - val_acc: 0.7260\n",
      "Epoch 43/64\n",
      "100/100 [==============================] - 8s 79ms/step - loss: 0.0365 - acc: 0.9940 - val_loss: 0.4062 - val_acc: 0.7330\n",
      "Epoch 44/64\n",
      "100/100 [==============================] - 8s 79ms/step - loss: 0.0374 - acc: 0.9945 - val_loss: 0.5206 - val_acc: 0.7190\n",
      "Epoch 45/64\n",
      "100/100 [==============================] - 8s 79ms/step - loss: 0.0327 - acc: 0.9965 - val_loss: 0.5220 - val_acc: 0.7130\n",
      "Epoch 46/64\n",
      "100/100 [==============================] - 8s 79ms/step - loss: 0.0241 - acc: 0.9980 - val_loss: 0.7380 - val_acc: 0.7210\n",
      "Epoch 47/64\n",
      "100/100 [==============================] - 8s 80ms/step - loss: 0.0346 - acc: 0.9925 - val_loss: 0.5445 - val_acc: 0.7180\n",
      "Epoch 48/64\n",
      "100/100 [==============================] - 8s 79ms/step - loss: 0.0146 - acc: 1.0000 - val_loss: 0.3913 - val_acc: 0.7190\n",
      "Epoch 49/64\n",
      "100/100 [==============================] - 8s 79ms/step - loss: 0.0224 - acc: 0.9965 - val_loss: 1.9193 - val_acc: 0.7260\n",
      "Epoch 50/64\n",
      "100/100 [==============================] - 8s 79ms/step - loss: 0.0115 - acc: 1.0000 - val_loss: 1.4664 - val_acc: 0.7170\n",
      "Epoch 51/64\n",
      "100/100 [==============================] - 8s 79ms/step - loss: 0.0123 - acc: 1.0000 - val_loss: 2.2997 - val_acc: 0.7210\n",
      "Epoch 52/64\n",
      "100/100 [==============================] - 8s 80ms/step - loss: 0.0112 - acc: 0.9995 - val_loss: 1.7537 - val_acc: 0.6980\n",
      "Epoch 53/64\n",
      "100/100 [==============================] - 8s 79ms/step - loss: 0.0292 - acc: 0.9915 - val_loss: 1.3227 - val_acc: 0.7240\n",
      "Epoch 54/64\n",
      "100/100 [==============================] - 8s 79ms/step - loss: 0.0051 - acc: 1.0000 - val_loss: 0.5418 - val_acc: 0.7180\n",
      "Epoch 55/64\n",
      "100/100 [==============================] - 8s 80ms/step - loss: 0.0060 - acc: 1.0000 - val_loss: 0.5437 - val_acc: 0.7220\n",
      "Epoch 56/64\n",
      "100/100 [==============================] - 8s 79ms/step - loss: 0.0181 - acc: 0.9960 - val_loss: 1.3483 - val_acc: 0.7120\n",
      "Epoch 57/64\n",
      "100/100 [==============================] - 8s 79ms/step - loss: 0.0045 - acc: 1.0000 - val_loss: 2.1278 - val_acc: 0.7240\n",
      "Epoch 58/64\n",
      "100/100 [==============================] - 8s 79ms/step - loss: 0.0039 - acc: 1.0000 - val_loss: 2.0010 - val_acc: 0.7170\n",
      "Epoch 59/64\n",
      "100/100 [==============================] - 8s 79ms/step - loss: 0.0191 - acc: 0.9940 - val_loss: 1.6038 - val_acc: 0.7090\n",
      "Epoch 60/64\n",
      "100/100 [==============================] - 8s 79ms/step - loss: 0.0023 - acc: 1.0000 - val_loss: 0.8767 - val_acc: 0.7250\n",
      "Epoch 61/64\n",
      "100/100 [==============================] - 8s 79ms/step - loss: 0.0019 - acc: 1.0000 - val_loss: 2.8337 - val_acc: 0.7170\n",
      "Epoch 62/64\n",
      "100/100 [==============================] - 8s 80ms/step - loss: 0.0147 - acc: 0.9955 - val_loss: 0.6277 - val_acc: 0.7010\n",
      "Epoch 63/64\n",
      "100/100 [==============================] - 8s 79ms/step - loss: 0.0025 - acc: 1.0000 - val_loss: 1.7322 - val_acc: 0.7100\n",
      "Epoch 64/64\n",
      "100/100 [==============================] - 8s 79ms/step - loss: 0.0012 - acc: 1.0000 - val_loss: 0.9523 - val_acc: 0.7160\n",
      "Epoch 1/64\n",
      "100/100 [==============================] - 9s 86ms/step - loss: 0.6925 - acc: 0.5245 - val_loss: 0.6976 - val_acc: 0.5020\n",
      "Epoch 2/64\n",
      "100/100 [==============================] - 8s 78ms/step - loss: 0.6852 - acc: 0.5610 - val_loss: 0.6665 - val_acc: 0.6110\n",
      "Epoch 3/64\n",
      "100/100 [==============================] - 8s 80ms/step - loss: 0.6767 - acc: 0.5740 - val_loss: 0.6766 - val_acc: 0.6190\n",
      "Epoch 4/64\n",
      "100/100 [==============================] - 8s 79ms/step - loss: 0.6649 - acc: 0.6070 - val_loss: 0.6385 - val_acc: 0.5700\n",
      "Epoch 5/64\n",
      "100/100 [==============================] - 8s 80ms/step - loss: 0.6570 - acc: 0.6155 - val_loss: 0.6785 - val_acc: 0.6230\n",
      "Epoch 6/64\n",
      "100/100 [==============================] - 8s 80ms/step - loss: 0.6456 - acc: 0.6400 - val_loss: 0.6078 - val_acc: 0.6220\n",
      "Epoch 7/64\n",
      "100/100 [==============================] - 8s 80ms/step - loss: 0.6353 - acc: 0.6520 - val_loss: 0.5762 - val_acc: 0.5950\n",
      "Epoch 8/64\n",
      "100/100 [==============================] - 8s 81ms/step - loss: 0.6239 - acc: 0.6650 - val_loss: 0.6624 - val_acc: 0.5680\n",
      "Epoch 9/64\n",
      "100/100 [==============================] - 8s 80ms/step - loss: 0.6138 - acc: 0.6625 - val_loss: 0.5742 - val_acc: 0.6400\n",
      "Epoch 10/64\n",
      "100/100 [==============================] - 8s 79ms/step - loss: 0.6075 - acc: 0.6705 - val_loss: 0.5665 - val_acc: 0.6470\n",
      "Epoch 11/64\n",
      "100/100 [==============================] - 8s 79ms/step - loss: 0.5992 - acc: 0.6895 - val_loss: 0.6129 - val_acc: 0.6480\n",
      "Epoch 12/64\n",
      "100/100 [==============================] - 8s 79ms/step - loss: 0.5885 - acc: 0.6915 - val_loss: 0.5851 - val_acc: 0.6650\n",
      "Epoch 13/64\n",
      "100/100 [==============================] - 8s 80ms/step - loss: 0.5808 - acc: 0.6990 - val_loss: 0.5706 - val_acc: 0.6610\n",
      "Epoch 14/64\n",
      "100/100 [==============================] - 8s 79ms/step - loss: 0.5675 - acc: 0.7070 - val_loss: 0.6455 - val_acc: 0.6590\n",
      "Epoch 15/64\n",
      "100/100 [==============================] - 8s 79ms/step - loss: 0.5607 - acc: 0.7170 - val_loss: 0.5981 - val_acc: 0.6740\n",
      "Epoch 16/64\n",
      "100/100 [==============================] - 8s 79ms/step - loss: 0.5532 - acc: 0.7230 - val_loss: 0.4881 - val_acc: 0.6680\n",
      "Epoch 17/64\n",
      "100/100 [==============================] - 8s 80ms/step - loss: 0.5395 - acc: 0.7290 - val_loss: 0.5520 - val_acc: 0.6650\n",
      "Epoch 18/64\n",
      "100/100 [==============================] - 8s 80ms/step - loss: 0.5334 - acc: 0.7375 - val_loss: 0.5897 - val_acc: 0.6790\n",
      "Epoch 19/64\n",
      "100/100 [==============================] - 8s 79ms/step - loss: 0.5252 - acc: 0.7415 - val_loss: 0.5675 - val_acc: 0.6700\n",
      "Epoch 20/64\n",
      "100/100 [==============================] - 8s 79ms/step - loss: 0.5174 - acc: 0.7505 - val_loss: 0.4616 - val_acc: 0.6900\n",
      "Epoch 21/64\n",
      "100/100 [==============================] - 8s 80ms/step - loss: 0.5067 - acc: 0.7535 - val_loss: 0.5912 - val_acc: 0.6910\n",
      "Epoch 22/64\n",
      "100/100 [==============================] - 8s 79ms/step - loss: 0.4988 - acc: 0.7570 - val_loss: 0.4727 - val_acc: 0.6650\n",
      "Epoch 23/64\n",
      "100/100 [==============================] - 8s 80ms/step - loss: 0.4946 - acc: 0.7605 - val_loss: 0.3961 - val_acc: 0.6980\n",
      "Epoch 24/64\n",
      "100/100 [==============================] - 8s 79ms/step - loss: 0.4825 - acc: 0.7855 - val_loss: 0.4343 - val_acc: 0.6830\n",
      "Epoch 25/64\n",
      "100/100 [==============================] - 8s 79ms/step - loss: 0.4796 - acc: 0.7740 - val_loss: 0.5528 - val_acc: 0.6940\n",
      "Epoch 26/64\n",
      "100/100 [==============================] - 8s 79ms/step - loss: 0.4702 - acc: 0.7825 - val_loss: 0.5286 - val_acc: 0.7030\n",
      "Epoch 27/64\n",
      "100/100 [==============================] - 8s 79ms/step - loss: 0.4684 - acc: 0.7920 - val_loss: 0.5730 - val_acc: 0.6740\n",
      "Epoch 28/64\n",
      "100/100 [==============================] - 8s 80ms/step - loss: 0.4572 - acc: 0.7980 - val_loss: 0.6498 - val_acc: 0.6770\n",
      "Epoch 29/64\n",
      "100/100 [==============================] - 8s 80ms/step - loss: 0.4521 - acc: 0.7980 - val_loss: 0.7723 - val_acc: 0.6990\n",
      "Epoch 30/64\n",
      "100/100 [==============================] - 8s 79ms/step - loss: 0.4468 - acc: 0.8035 - val_loss: 0.6254 - val_acc: 0.7090\n",
      "Epoch 31/64\n",
      "100/100 [==============================] - 8s 80ms/step - loss: 0.4397 - acc: 0.8065 - val_loss: 0.7512 - val_acc: 0.6810\n",
      "Epoch 32/64\n",
      "100/100 [==============================] - 8s 79ms/step - loss: 0.4378 - acc: 0.8155 - val_loss: 0.6775 - val_acc: 0.6920\n",
      "Epoch 33/64\n",
      "100/100 [==============================] - 8s 78ms/step - loss: 0.4275 - acc: 0.8100 - val_loss: 0.6227 - val_acc: 0.7020\n",
      "Epoch 34/64\n",
      "100/100 [==============================] - 8s 78ms/step - loss: 0.4238 - acc: 0.8105 - val_loss: 0.5226 - val_acc: 0.6970\n",
      "Epoch 35/64\n",
      "100/100 [==============================] - 8s 79ms/step - loss: 0.4175 - acc: 0.8110 - val_loss: 0.5542 - val_acc: 0.6840\n",
      "Epoch 36/64\n",
      "100/100 [==============================] - 8s 80ms/step - loss: 0.4160 - acc: 0.8155 - val_loss: 0.4674 - val_acc: 0.7110\n",
      "Epoch 37/64\n",
      "100/100 [==============================] - 8s 79ms/step - loss: 0.4170 - acc: 0.8170 - val_loss: 0.6012 - val_acc: 0.7230\n",
      "Epoch 38/64\n",
      "100/100 [==============================] - 8s 79ms/step - loss: 0.4052 - acc: 0.8235 - val_loss: 0.7597 - val_acc: 0.7170\n",
      "Epoch 39/64\n",
      "100/100 [==============================] - 8s 80ms/step - loss: 0.3921 - acc: 0.8255 - val_loss: 0.7353 - val_acc: 0.7190\n",
      "Epoch 40/64\n",
      "100/100 [==============================] - 8s 79ms/step - loss: 0.3893 - acc: 0.8425 - val_loss: 0.9648 - val_acc: 0.7190\n",
      "Epoch 41/64\n",
      "100/100 [==============================] - 8s 78ms/step - loss: 0.3854 - acc: 0.8325 - val_loss: 0.4233 - val_acc: 0.7190\n",
      "Epoch 42/64\n",
      "100/100 [==============================] - 8s 79ms/step - loss: 0.3828 - acc: 0.8370 - val_loss: 0.5280 - val_acc: 0.6960\n",
      "Epoch 43/64\n",
      "100/100 [==============================] - 8s 80ms/step - loss: 0.3779 - acc: 0.8465 - val_loss: 0.7661 - val_acc: 0.6700\n",
      "Epoch 44/64\n",
      "100/100 [==============================] - 8s 80ms/step - loss: 0.3789 - acc: 0.8405 - val_loss: 0.3712 - val_acc: 0.7230\n",
      "Epoch 45/64\n",
      "100/100 [==============================] - 8s 79ms/step - loss: 0.3693 - acc: 0.8520 - val_loss: 0.6655 - val_acc: 0.7260\n",
      "Epoch 46/64\n",
      "100/100 [==============================] - 8s 79ms/step - loss: 0.3633 - acc: 0.8490 - val_loss: 0.7264 - val_acc: 0.7230\n",
      "Epoch 47/64\n",
      "100/100 [==============================] - 8s 81ms/step - loss: 0.3561 - acc: 0.8500 - val_loss: 0.8921 - val_acc: 0.6940\n",
      "Epoch 48/64\n",
      "100/100 [==============================] - 8s 80ms/step - loss: 0.3534 - acc: 0.8545 - val_loss: 0.6397 - val_acc: 0.7250\n",
      "Epoch 49/64\n",
      "100/100 [==============================] - 8s 79ms/step - loss: 0.3403 - acc: 0.8660 - val_loss: 0.8591 - val_acc: 0.7300\n",
      "Epoch 50/64\n",
      "100/100 [==============================] - 8s 78ms/step - loss: 0.3389 - acc: 0.8675 - val_loss: 0.5935 - val_acc: 0.7290\n",
      "Epoch 51/64\n",
      "100/100 [==============================] - 8s 80ms/step - loss: 0.3316 - acc: 0.8710 - val_loss: 0.7166 - val_acc: 0.7250\n",
      "Epoch 52/64\n",
      "100/100 [==============================] - 8s 79ms/step - loss: 0.3315 - acc: 0.8650 - val_loss: 0.4857 - val_acc: 0.7050\n",
      "Epoch 53/64\n",
      "100/100 [==============================] - 8s 78ms/step - loss: 0.3257 - acc: 0.8735 - val_loss: 0.4990 - val_acc: 0.7320\n",
      "Epoch 54/64\n",
      "100/100 [==============================] - 8s 79ms/step - loss: 0.3236 - acc: 0.8715 - val_loss: 0.4198 - val_acc: 0.7350\n",
      "Epoch 55/64\n",
      "100/100 [==============================] - 8s 79ms/step - loss: 0.3111 - acc: 0.8820 - val_loss: 0.7561 - val_acc: 0.7250\n",
      "Epoch 56/64\n",
      "100/100 [==============================] - 8s 80ms/step - loss: 0.3046 - acc: 0.8845 - val_loss: 0.4734 - val_acc: 0.7300\n",
      "Epoch 57/64\n",
      "100/100 [==============================] - 8s 79ms/step - loss: 0.3050 - acc: 0.8795 - val_loss: 0.4022 - val_acc: 0.7390\n",
      "Epoch 58/64\n",
      "100/100 [==============================] - 8s 80ms/step - loss: 0.2934 - acc: 0.8870 - val_loss: 0.3848 - val_acc: 0.7160\n",
      "Epoch 59/64\n",
      "100/100 [==============================] - 8s 80ms/step - loss: 0.2888 - acc: 0.8905 - val_loss: 0.6287 - val_acc: 0.7350\n",
      "Epoch 60/64\n",
      "100/100 [==============================] - 8s 79ms/step - loss: 0.2882 - acc: 0.8830 - val_loss: 0.3852 - val_acc: 0.7360\n",
      "Epoch 61/64\n",
      "100/100 [==============================] - 8s 79ms/step - loss: 0.2784 - acc: 0.8910 - val_loss: 0.3334 - val_acc: 0.7280\n",
      "Epoch 62/64\n",
      "100/100 [==============================] - 8s 78ms/step - loss: 0.2815 - acc: 0.8880 - val_loss: 0.6706 - val_acc: 0.7350\n",
      "Epoch 63/64\n",
      "100/100 [==============================] - 8s 79ms/step - loss: 0.2779 - acc: 0.8870 - val_loss: 0.3700 - val_acc: 0.7150\n",
      "Epoch 64/64\n",
      "100/100 [==============================] - 8s 79ms/step - loss: 0.2700 - acc: 0.8945 - val_loss: 0.3773 - val_acc: 0.7230\n"
     ]
    }
   ],
   "source": [
    " from keras import backend as K\n",
    "history={}\n",
    "\n",
    "for i in range(1,7):\n",
    "  exec(\"history[\"+str(i)+\"] = model\"+str(i)+\".fit_generator(train_generator,steps_per_epoch=100,epochs=64,validation_data=validation_generator,validation_steps=50)\")"
   ]
  },
  {
   "cell_type": "code",
   "execution_count": 21,
   "metadata": {
    "colab": {},
    "colab_type": "code",
    "id": "zEOfTnw0IHqC"
   },
   "outputs": [],
   "source": [
    "for i in range(1,7):\n",
    "  exec(\"model\"+str(i)+\".save('cats_and_dogs_small_ Q2_\"+str(i)+\".h5')\")"
   ]
  },
  {
   "cell_type": "code",
   "execution_count": 22,
   "metadata": {
    "colab": {
     "base_uri": "https://localhost:8080/",
     "height": 1000
    },
    "colab_type": "code",
    "id": "HdGCzii4IRsj",
    "outputId": "4c41a8a5-2cbc-444e-d8e7-c06c68868abc"
   },
   "outputs": [
    {
     "data": {
      "image/png": "[encoded data removed]",
      "text/plain": [
       "<Figure size 432x288 with 1 Axes>"
      ]
     },
     "metadata": {
      "needs_background": "light",
      "tags": []
     },
     "output_type": "display_data"
    },
    {
     "data": {
      "image/png": "[encoded data removed]",
      "text/plain": [
       "<Figure size 432x288 with 1 Axes>"
      ]
     },
     "metadata": {
      "needs_background": "light",
      "tags": []
     },
     "output_type": "display_data"
    },
    {
     "data": {
      "image/png": "[encoded data removed]",
      "text/plain": [
       "<Figure size 432x288 with 1 Axes>"
      ]
     },
     "metadata": {
      "needs_background": "light",
      "tags": []
     },
     "output_type": "display_data"
    },
    {
     "data": {
      "image/png": "[encoded data removed]",
      "text/plain": [
       "<Figure size 432x288 with 1 Axes>"
      ]
     },
     "metadata": {
      "needs_background": "light",
      "tags": []
     },
     "output_type": "display_data"
    },
    {
     "data": {
      "image/png": "[encoded data removed]",
      "text/plain": [
       "<Figure size 432x288 with 1 Axes>"
      ]
     },
     "metadata": {
      "needs_background": "light",
      "tags": []
     },
     "output_type": "display_data"
    },
    {
     "data": {
      "image/png": "[encoded data removed]",
      "text/plain": [
       "<Figure size 432x288 with 1 Axes>"
      ]
     },
     "metadata": {
      "needs_background": "light",
      "tags": []
     },
     "output_type": "display_data"
    }
   ],
   "source": [
    "import matplotlib.pyplot as plt\n",
    "max_val_acc={}\n",
    "for i in range(1,7):\n",
    "  acc = history[i].history['acc']\n",
    "  val_acc = history[i].history['val_acc']\n",
    "  loss = history[i].history['loss']\n",
    "  val_loss = history[i].history['val_loss']\n",
    "\n",
    "  epochs = range(len(acc))\n",
    "  plt.figure()\n",
    "  _=plt.plot(epochs, acc, 'bo', label='Training acc')\n",
    "  _=plt.plot(epochs, val_acc, 'r', label='Validation acc')\n",
    "  plt.title('Train and validation acc - model '+str(i)+' (Max. Val. Accuracy = '+str(round(max(val_acc)*100,2))+' %)')\n",
    "  plt.xlabel('Epochs')\n",
    "  plt.ylabel('Accuracy')\n",
    "  max_val_acc[i]=round(max(val_acc)*100,2)\n",
    "  plt.legend()"
   ]
  },
  {
   "cell_type": "markdown",
   "metadata": {
    "colab_type": "text",
    "id": "iEFmmW23qIUB"
   },
   "source": [
    "## Optimizer vs Validation accuracy table"
   ]
  },
  {
   "cell_type": "code",
   "execution_count": 23,
   "metadata": {
    "colab": {},
    "colab_type": "code",
    "id": "fHdqhF9st9qO"
   },
   "outputs": [],
   "source": [
    "import pandas as pd\n",
    "model_df=pd.DataFrame([[\"Model 1\",\"RMSProp\",\"lr=0.00005\",max_val_acc[1]],\n",
    "                       [\"Model 2\",\"RMSProp\",\"lr=0.0002,rho=0.8\",max_val_acc[2]],\n",
    "                       [\"Model 3\",\"Adam\",\"lr=0.0001\",max_val_acc[3]],\n",
    "                       [\"Model 4\",\"Adam\",\"lr=0.00005,beta_1=0.8\",max_val_acc[4]],\n",
    "                       [\"Model 5\",\"Adam\",\"lr=0.00005,beta_1=0.8,beta_2=0.98\",max_val_acc[5]],\n",
    "                       [\"Model 6\",\"Adam\",\"lr=0.00002,beta_1=0.7,beta_2=0.85\",max_val_acc[6]]],\n",
    "                      columns=[\"Model #\",\"Optimizer\",\"Hyperparameters\",\"Max. Val. Accuracy\"])"
   ]
  },
  {
   "cell_type": "code",
   "execution_count": 24,
   "metadata": {
    "colab": {
     "base_uri": "https://localhost:8080/",
     "height": 237
    },
    "colab_type": "code",
    "id": "IlVc0_1NDtiG",
    "outputId": "a52060c2-d5a5-4d87-ee1e-cd365d3846d3"
   },
   "outputs": [
    {
     "data": {
      "text/html": [
       "<div>\n",
       "<style scoped>\n",
       "    .dataframe tbody tr th:only-of-type {\n",
       "        vertical-align: middle;\n",
       "    }\n",
       "\n",
       "    .dataframe tbody tr th {\n",
       "        vertical-align: top;\n",
       "    }\n",
       "\n",
       "    .dataframe thead th {\n",
       "        text-align: right;\n",
       "    }\n",
       "</style>\n",
       "<table border=\"1\" class=\"dataframe\">\n",
       "  <thead>\n",
       "    <tr style=\"text-align: right;\">\n",
       "      <th></th>\n",
       "      <th>Model #</th>\n",
       "      <th>Optimizer</th>\n",
       "      <th>Hyperparameters</th>\n",
       "      <th>Max. Val. Accuracy</th>\n",
       "    </tr>\n",
       "  </thead>\n",
       "  <tbody>\n",
       "    <tr>\n",
       "      <th>0</th>\n",
       "      <td>Model 1</td>\n",
       "      <td>RMSProp</td>\n",
       "      <td>lr=0.00005</td>\n",
       "      <td>74.5</td>\n",
       "    </tr>\n",
       "    <tr>\n",
       "      <th>1</th>\n",
       "      <td>Model 2</td>\n",
       "      <td>RMSProp</td>\n",
       "      <td>lr=0.0002,rho=0.8</td>\n",
       "      <td>75.3</td>\n",
       "    </tr>\n",
       "    <tr>\n",
       "      <th>2</th>\n",
       "      <td>Model 3</td>\n",
       "      <td>Adam</td>\n",
       "      <td>lr=0.0001</td>\n",
       "      <td>74.3</td>\n",
       "    </tr>\n",
       "    <tr>\n",
       "      <th>3</th>\n",
       "      <td>Model 4</td>\n",
       "      <td>Adam</td>\n",
       "      <td>lr=0.00005,beta_1=0.8</td>\n",
       "      <td>74.4</td>\n",
       "    </tr>\n",
       "    <tr>\n",
       "      <th>4</th>\n",
       "      <td>Model 5</td>\n",
       "      <td>Adam</td>\n",
       "      <td>lr=0.00005,beta_1=0.8,beta_2=0.98</td>\n",
       "      <td>73.7</td>\n",
       "    </tr>\n",
       "    <tr>\n",
       "      <th>5</th>\n",
       "      <td>Model 6</td>\n",
       "      <td>Adam</td>\n",
       "      <td>lr=0.00002,beta_1=0.7,beta_2=0.85</td>\n",
       "      <td>73.9</td>\n",
       "    </tr>\n",
       "  </tbody>\n",
       "</table>\n",
       "</div>"
      ],
      "text/plain": [
       "   Model # Optimizer                    Hyperparameters  Max. Val. Accuracy\n",
       "0  Model 1   RMSProp                         lr=0.00005                74.5\n",
       "1  Model 2   RMSProp                  lr=0.0002,rho=0.8                75.3\n",
       "2  Model 3      Adam                          lr=0.0001                74.3\n",
       "3  Model 4      Adam              lr=0.00005,beta_1=0.8                74.4\n",
       "4  Model 5      Adam  lr=0.00005,beta_1=0.8,beta_2=0.98                73.7\n",
       "5  Model 6      Adam  lr=0.00002,beta_1=0.7,beta_2=0.85                73.9"
      ]
     },
     "execution_count": 24,
     "metadata": {
      "tags": []
     },
     "output_type": "execute_result"
    }
   ],
   "source": [
    "model_df"
   ]
  }
 ],
 "metadata": {
  "accelerator": "GPU",
  "colab": {
   "collapsed_sections": [],
   "name": "HW 3-Q2.ipynb",
   "provenance": []
  },
  "kernelspec": {
   "display_name": "Python 3",
   "language": "python",
   "name": "python3"
  },
  "language_info": {
   "codemirror_mode": {
    "name": "ipython",
    "version": 3
   },
   "file_extension": ".py",
   "mimetype": "text/x-python",
   "name": "python",
   "nbconvert_exporter": "python",
   "pygments_lexer": "ipython3",
   "version": "3.6.4"
  }
 },
 "nbformat": 4,
 "nbformat_minor": 1
}
