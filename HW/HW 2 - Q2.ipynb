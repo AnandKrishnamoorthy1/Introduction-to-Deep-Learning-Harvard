{
 "cells": [
  {
   "cell_type": "markdown",
   "metadata": {},
   "source": [
    "# HW2 - Q2"
   ]
  },
  {
   "cell_type": "code",
   "execution_count": 1,
   "metadata": {},
   "outputs": [
    {
     "name": "stderr",
     "output_type": "stream",
     "text": [
      "Using TensorFlow backend.\n",
      "C:\\Users\\anand\\AppData\\Roaming\\Python\\Python36\\site-packages\\tensorflow\\python\\framework\\dtypes.py:526: FutureWarning: Passing (type, 1) or '1type' as a synonym of type is deprecated; in a future version of numpy, it will be understood as (type, (1,)) / '(1,)type'.\n",
      "  _np_qint8 = np.dtype([(\"qint8\", np.int8, 1)])\n",
      "C:\\Users\\anand\\AppData\\Roaming\\Python\\Python36\\site-packages\\tensorflow\\python\\framework\\dtypes.py:527: FutureWarning: Passing (type, 1) or '1type' as a synonym of type is deprecated; in a future version of numpy, it will be understood as (type, (1,)) / '(1,)type'.\n",
      "  _np_quint8 = np.dtype([(\"quint8\", np.uint8, 1)])\n",
      "C:\\Users\\anand\\AppData\\Roaming\\Python\\Python36\\site-packages\\tensorflow\\python\\framework\\dtypes.py:528: FutureWarning: Passing (type, 1) or '1type' as a synonym of type is deprecated; in a future version of numpy, it will be understood as (type, (1,)) / '(1,)type'.\n",
      "  _np_qint16 = np.dtype([(\"qint16\", np.int16, 1)])\n",
      "C:\\Users\\anand\\AppData\\Roaming\\Python\\Python36\\site-packages\\tensorflow\\python\\framework\\dtypes.py:529: FutureWarning: Passing (type, 1) or '1type' as a synonym of type is deprecated; in a future version of numpy, it will be understood as (type, (1,)) / '(1,)type'.\n",
      "  _np_quint16 = np.dtype([(\"quint16\", np.uint16, 1)])\n",
      "C:\\Users\\anand\\AppData\\Roaming\\Python\\Python36\\site-packages\\tensorflow\\python\\framework\\dtypes.py:530: FutureWarning: Passing (type, 1) or '1type' as a synonym of type is deprecated; in a future version of numpy, it will be understood as (type, (1,)) / '(1,)type'.\n",
      "  _np_qint32 = np.dtype([(\"qint32\", np.int32, 1)])\n",
      "C:\\Users\\anand\\AppData\\Roaming\\Python\\Python36\\site-packages\\tensorflow\\python\\framework\\dtypes.py:535: FutureWarning: Passing (type, 1) or '1type' as a synonym of type is deprecated; in a future version of numpy, it will be understood as (type, (1,)) / '(1,)type'.\n",
      "  np_resource = np.dtype([(\"resource\", np.ubyte, 1)])\n"
     ]
    }
   ],
   "source": [
    "import keras\n",
    "from keras.datasets import reuters\n",
    "import matplotlib.pyplot as plt\n",
    "import matplotlib.ticker\n",
    "\n",
    "import warnings\n",
    "warnings.filterwarnings('ignore')"
   ]
  },
  {
   "cell_type": "code",
   "execution_count": 2,
   "metadata": {},
   "outputs": [],
   "source": [
    "import numpy as np\n",
    "# save np.load\n",
    "np_load_old = np.load\n",
    "\n",
    "# modify the default parameters of np.load\n",
    "np.load = lambda *a,**k: np_load_old(*a, allow_pickle=True, **k)\n",
    "\n",
    "(train_data, train_labels), (test_data, test_labels) = reuters.load_data(num_words=10000)\n",
    "np.load = np_load_old"
   ]
  },
  {
   "cell_type": "code",
   "execution_count": 3,
   "metadata": {},
   "outputs": [],
   "source": [
    "word_index = reuters.get_word_index()\n",
    "reverse_word_index = dict([(value, key) for (key, value) in word_index.items()])\n",
    "# Note that our indices were offset by 3\n",
    "# because 0, 1 and 2 are reserved indices for \"padding\", \"start of sequence\", and \"unknown\".\n",
    "decoded_newswire = ' '.join([reverse_word_index.get(i - 3, '?') for i in train_data[0]])"
   ]
  },
  {
   "cell_type": "code",
   "execution_count": 4,
   "metadata": {},
   "outputs": [
    {
     "data": {
      "text/plain": [
       "'? ? ? said as a result of its december acquisition of space co it expects earnings per share in 1987 of 1 15 to 1 30 dlrs per share up from 70 cts in 1986 the company said pretax net should rise to nine to 10 mln dlrs from six mln dlrs in 1986 and rental operation revenues to 19 to 22 mln dlrs from 12 5 mln dlrs it said cash flow per share this year should be 2 50 to three dlrs reuter 3'"
      ]
     },
     "execution_count": 4,
     "metadata": {},
     "output_type": "execute_result"
    }
   ],
   "source": [
    "decoded_newswire"
   ]
  },
  {
   "cell_type": "code",
   "execution_count": 5,
   "metadata": {},
   "outputs": [
    {
     "data": {
      "text/plain": [
       "3"
      ]
     },
     "execution_count": 5,
     "metadata": {},
     "output_type": "execute_result"
    }
   ],
   "source": [
    "train_labels[10]"
   ]
  },
  {
   "cell_type": "markdown",
   "metadata": {},
   "source": [
    "## Preparing the Data"
   ]
  },
  {
   "cell_type": "code",
   "execution_count": 6,
   "metadata": {},
   "outputs": [],
   "source": [
    "import numpy as np\n",
    "\n",
    "def vectorize_sequences(sequences, dimension=10000):\n",
    "    results = np.zeros((len(sequences), dimension))\n",
    "    for i, sequence in enumerate(sequences):\n",
    "        results[i, sequence] = 1.\n",
    "    return results\n",
    "\n",
    "# Our vectorized training data\n",
    "x_train = vectorize_sequences(train_data)\n",
    "# Our vectorized test data\n",
    "x_test = vectorize_sequences(test_data)"
   ]
  },
  {
   "cell_type": "code",
   "execution_count": 7,
   "metadata": {},
   "outputs": [
    {
     "data": {
      "text/plain": [
       "10000"
      ]
     },
     "execution_count": 7,
     "metadata": {},
     "output_type": "execute_result"
    }
   ],
   "source": [
    "len(x_train[0])"
   ]
  },
  {
   "cell_type": "code",
   "execution_count": 8,
   "metadata": {},
   "outputs": [],
   "source": [
    "def to_one_hot(labels, dimension=46):\n",
    "    results = np.zeros((len(labels), dimension))\n",
    "    for i, label in enumerate(labels):\n",
    "        results[i, label] = 1.\n",
    "    return results\n",
    "\n",
    "# Our vectorized training labels\n",
    "one_hot_train_labels = to_one_hot(train_labels)\n",
    "# Our vectorized test labels\n",
    "one_hot_test_labels = to_one_hot(test_labels)"
   ]
  },
  {
   "cell_type": "code",
   "execution_count": 9,
   "metadata": {},
   "outputs": [],
   "source": [
    "from keras.utils.np_utils import to_categorical\n",
    "\n",
    "one_hot_train_labels = to_categorical(train_labels)\n",
    "one_hot_test_labels = to_categorical(test_labels)"
   ]
  },
  {
   "cell_type": "markdown",
   "metadata": {},
   "source": [
    "## Building the NN"
   ]
  },
  {
   "cell_type": "code",
   "execution_count": 10,
   "metadata": {},
   "outputs": [],
   "source": [
    "from keras import models\n",
    "from keras import layers,regularizers\n",
    "\n",
    "lambdas=[0.01,0.005,0.001,0.0001,0.00005,0.00001,0.000001]"
   ]
  },
  {
   "cell_type": "markdown",
   "metadata": {},
   "source": [
    "# Lambda 0"
   ]
  },
  {
   "cell_type": "code",
   "execution_count": 11,
   "metadata": {},
   "outputs": [
    {
     "name": "stdout",
     "output_type": "stream",
     "text": [
      "WARNING:tensorflow:From C:\\Users\\anand\\AppData\\Roaming\\Python\\Python36\\site-packages\\tensorflow\\python\\framework\\op_def_library.py:263: colocate_with (from tensorflow.python.framework.ops) is deprecated and will be removed in a future version.\n",
      "Instructions for updating:\n",
      "Colocations handled automatically by placer.\n"
     ]
    }
   ],
   "source": [
    "model = models.Sequential()\n",
    "model.add(layers.Dense(64,kernel_regularizer= regularizers.l2(lambdas[0]), activation='relu', input_shape=(10000,)))\n",
    "model.add(layers.Dense(64,kernel_regularizer= regularizers.l2(lambdas[0]) , activation='relu'))\n",
    "model.add(layers.Dense(46, kernel_regularizer= regularizers.l2(lambdas[0]), activation='softmax'))"
   ]
  },
  {
   "cell_type": "code",
   "execution_count": 12,
   "metadata": {},
   "outputs": [],
   "source": [
    "model.compile(optimizer='rmsprop',\n",
    "              loss='categorical_crossentropy',\n",
    "              metrics=['accuracy'])"
   ]
  },
  {
   "cell_type": "markdown",
   "metadata": {},
   "source": [
    "## Validating our approach"
   ]
  },
  {
   "cell_type": "markdown",
   "metadata": {},
   "source": [
    "Setting apart 2,000 samples in our training data to use as a validation set:"
   ]
  },
  {
   "cell_type": "code",
   "execution_count": 13,
   "metadata": {},
   "outputs": [],
   "source": [
    "x_val = x_train[:2000]\n",
    "partial_x_train = x_train[2000:]\n",
    "\n",
    "y_val = one_hot_train_labels[:2000]\n",
    "partial_y_train = one_hot_train_labels[2000:]"
   ]
  },
  {
   "cell_type": "code",
   "execution_count": 14,
   "metadata": {},
   "outputs": [
    {
     "name": "stdout",
     "output_type": "stream",
     "text": [
      "WARNING:tensorflow:From C:\\Users\\anand\\AppData\\Roaming\\Python\\Python36\\site-packages\\tensorflow\\python\\ops\\math_ops.py:3066: to_int32 (from tensorflow.python.ops.math_ops) is deprecated and will be removed in a future version.\n",
      "Instructions for updating:\n",
      "Use tf.cast instead.\n",
      "Train on 6982 samples, validate on 2000 samples\n",
      "Epoch 1/35\n",
      "6982/6982 [==============================] - 3s 411us/step - loss: 4.3232 - acc: 0.4613 - val_loss: 3.2089 - val_acc: 0.5520\n",
      "Epoch 2/35\n",
      "6982/6982 [==============================] - 2s 279us/step - loss: 2.8758 - acc: 0.6091 - val_loss: 2.7115 - val_acc: 0.6400\n",
      "Epoch 3/35\n",
      "6982/6982 [==============================] - 2s 279us/step - loss: 2.5221 - acc: 0.6696 - val_loss: 2.4942 - val_acc: 0.6685\n",
      "Epoch 4/35\n",
      "6982/6982 [==============================] - 2s 280us/step - loss: 2.3279 - acc: 0.7004 - val_loss: 2.3549 - val_acc: 0.6875\n",
      "Epoch 5/35\n",
      "6982/6982 [==============================] - 2s 286us/step - loss: 2.1914 - acc: 0.7140 - val_loss: 2.2686 - val_acc: 0.6810\n",
      "Epoch 6/35\n",
      "6982/6982 [==============================] - 2s 285us/step - loss: 2.0847 - acc: 0.7203 - val_loss: 2.1711 - val_acc: 0.6730\n",
      "Epoch 7/35\n",
      "6982/6982 [==============================] - 2s 278us/step - loss: 2.0001 - acc: 0.7259 - val_loss: 2.1045 - val_acc: 0.6915\n",
      "Epoch 8/35\n",
      "6982/6982 [==============================] - 2s 274us/step - loss: 1.9340 - acc: 0.7329 - val_loss: 2.0308 - val_acc: 0.7040\n",
      "Epoch 9/35\n",
      "6982/6982 [==============================] - 2s 283us/step - loss: 1.8735 - acc: 0.7378 - val_loss: 1.9795 - val_acc: 0.7065\n",
      "Epoch 10/35\n",
      "6982/6982 [==============================] - 2s 283us/step - loss: 1.8249 - acc: 0.7388 - val_loss: 1.9514 - val_acc: 0.7015\n",
      "Epoch 11/35\n",
      "6982/6982 [==============================] - 2s 286us/step - loss: 1.7859 - acc: 0.7442 - val_loss: 1.9078 - val_acc: 0.7075\n",
      "Epoch 12/35\n",
      "6982/6982 [==============================] - 2s 281us/step - loss: 1.7557 - acc: 0.7448 - val_loss: 1.8860 - val_acc: 0.7110\n",
      "Epoch 13/35\n",
      "6982/6982 [==============================] - 2s 285us/step - loss: 1.7255 - acc: 0.7469 - val_loss: 1.8783 - val_acc: 0.7055\n",
      "Epoch 14/35\n",
      "6982/6982 [==============================] - 2s 292us/step - loss: 1.7060 - acc: 0.7492 - val_loss: 1.8456 - val_acc: 0.7105\n",
      "Epoch 15/35\n",
      "6982/6982 [==============================] - 2s 297us/step - loss: 1.6891 - acc: 0.7485 - val_loss: 1.8417 - val_acc: 0.7105\n",
      "Epoch 16/35\n",
      "6982/6982 [==============================] - 2s 283us/step - loss: 1.6725 - acc: 0.7529 - val_loss: 1.8182 - val_acc: 0.7170\n",
      "Epoch 17/35\n",
      "6982/6982 [==============================] - 2s 289us/step - loss: 1.6620 - acc: 0.7541 - val_loss: 1.8100 - val_acc: 0.7085\n",
      "Epoch 18/35\n",
      "6982/6982 [==============================] - 2s 282us/step - loss: 1.6465 - acc: 0.7545 - val_loss: 1.8001 - val_acc: 0.7160\n",
      "Epoch 19/35\n",
      "6982/6982 [==============================] - 2s 287us/step - loss: 1.6366 - acc: 0.7549 - val_loss: 1.7964 - val_acc: 0.7110\n",
      "Epoch 20/35\n",
      "6982/6982 [==============================] - 2s 287us/step - loss: 1.6264 - acc: 0.7569 - val_loss: 1.7809 - val_acc: 0.7185\n",
      "Epoch 21/35\n",
      "6982/6982 [==============================] - 2s 307us/step - loss: 1.6185 - acc: 0.7569 - val_loss: 1.7992 - val_acc: 0.7145\n",
      "Epoch 22/35\n",
      "6982/6982 [==============================] - 2s 286us/step - loss: 1.6146 - acc: 0.7564 - val_loss: 1.7836 - val_acc: 0.7195\n"
     ]
    }
   ],
   "source": [
    "from keras.callbacks import EarlyStopping, ModelCheckpoint\n",
    "\n",
    "callbacks = [EarlyStopping(monitor='val_loss', patience=2),\n",
    "             ModelCheckpoint(filepath='HW2_Q2_lam0.h5', monitor='val_loss', save_best_only=True)]\n",
    "\n",
    "history = model.fit(partial_x_train,\n",
    "                    partial_y_train,\n",
    "                    epochs=35,\n",
    "                    batch_size=512,\n",
    "                    validation_data=(x_val, y_val),callbacks=callbacks)"
   ]
  },
  {
   "cell_type": "code",
   "execution_count": 15,
   "metadata": {},
   "outputs": [
    {
     "data": {
      "image/png": "[encoded data removed]",
      "text/plain": [
       "<matplotlib.figure.Figure at 0x1efc95ecb38>"
      ]
     },
     "metadata": {},
     "output_type": "display_data"
    }
   ],
   "source": [
    "plt.clf()   # clear figure\n",
    "ax=plt.gca()\n",
    "\n",
    "acc = history.history['acc']\n",
    "val_acc_0 = history.history['val_acc']\n",
    "epochs = range(1, len(acc) + 1)\n",
    "\n",
    "plt.plot(epochs, acc, 'bo', label='Training acc')\n",
    "plt.plot(epochs, val_acc_0, 'r', label='Validation acc')\n",
    "plt.title('Train and validation acc (Max. Val. Accuracy = '+str(round(max(val_acc_0)*100,2))+' %)')\n",
    "ax.xaxis.set_major_locator(matplotlib.ticker.MultipleLocator(4))\n",
    "plt.xlabel('Epochs')\n",
    "plt.ylabel('Accuracy')\n",
    "plt.legend()\n",
    "\n",
    "plt.show()"
   ]
  },
  {
   "cell_type": "code",
   "execution_count": 16,
   "metadata": {},
   "outputs": [
    {
     "name": "stdout",
     "output_type": "stream",
     "text": [
      "Best epoch:  22\n"
     ]
    }
   ],
   "source": [
    "best_epoch_0=val_acc_0.index(max(val_acc_0))+1\n",
    "print(\"Best epoch: \",best_epoch_0)"
   ]
  },
  {
   "cell_type": "code",
   "execution_count": 17,
   "metadata": {},
   "outputs": [],
   "source": [
    "from keras import backend as K\n",
    "K.clear_session()"
   ]
  },
  {
   "cell_type": "markdown",
   "metadata": {},
   "source": [
    "# Lambda 1"
   ]
  },
  {
   "cell_type": "code",
   "execution_count": 18,
   "metadata": {},
   "outputs": [],
   "source": [
    "model = models.Sequential()\n",
    "model.add(layers.Dense(64,kernel_regularizer= regularizers.l2(lambdas[1]), activation='relu', input_shape=(10000,)))\n",
    "model.add(layers.Dense(64,kernel_regularizer= regularizers.l2(lambdas[1]) , activation='relu'))\n",
    "model.add(layers.Dense(46, kernel_regularizer= regularizers.l2(lambdas[1]), activation='softmax'))"
   ]
  },
  {
   "cell_type": "code",
   "execution_count": 19,
   "metadata": {},
   "outputs": [],
   "source": [
    "model.compile(optimizer='rmsprop',\n",
    "              loss='categorical_crossentropy',\n",
    "              metrics=['accuracy'])"
   ]
  },
  {
   "cell_type": "code",
   "execution_count": 20,
   "metadata": {},
   "outputs": [
    {
     "name": "stdout",
     "output_type": "stream",
     "text": [
      "Train on 6982 samples, validate on 2000 samples\n",
      "Epoch 1/30\n",
      "6982/6982 [==============================] - 3s 384us/step - loss: 3.5626 - acc: 0.5190 - val_loss: 2.6261 - val_acc: 0.6025\n",
      "Epoch 2/30\n",
      "6982/6982 [==============================] - 2s 288us/step - loss: 2.2791 - acc: 0.6608 - val_loss: 2.1796 - val_acc: 0.6735\n",
      "Epoch 3/30\n",
      "6982/6982 [==============================] - 2s 279us/step - loss: 1.9440 - acc: 0.7140 - val_loss: 2.0084 - val_acc: 0.6955\n",
      "Epoch 4/30\n",
      "6982/6982 [==============================] - 2s 282us/step - loss: 1.7835 - acc: 0.7442 - val_loss: 1.9196 - val_acc: 0.7075\n",
      "Epoch 5/30\n",
      "6982/6982 [==============================] - 2s 290us/step - loss: 1.6761 - acc: 0.7685 - val_loss: 1.8384 - val_acc: 0.7190\n",
      "Epoch 6/30\n",
      "6982/6982 [==============================] - 2s 292us/step - loss: 1.6031 - acc: 0.7797 - val_loss: 1.7980 - val_acc: 0.7255\n",
      "Epoch 7/30\n",
      "6982/6982 [==============================] - 2s 289us/step - loss: 1.5485 - acc: 0.7915 - val_loss: 1.7647 - val_acc: 0.7290\n",
      "Epoch 8/30\n",
      "6982/6982 [==============================] - 2s 294us/step - loss: 1.4947 - acc: 0.8013 - val_loss: 1.7417 - val_acc: 0.7360\n",
      "Epoch 9/30\n",
      "6982/6982 [==============================] - 2s 290us/step - loss: 1.4605 - acc: 0.8071 - val_loss: 1.7045 - val_acc: 0.7555\n",
      "Epoch 10/30\n",
      "6982/6982 [==============================] - 2s 283us/step - loss: 1.4321 - acc: 0.8124 - val_loss: 1.7185 - val_acc: 0.7370\n",
      "Epoch 11/30\n",
      "6982/6982 [==============================] - 2s 286us/step - loss: 1.4117 - acc: 0.8151 - val_loss: 1.6880 - val_acc: 0.7540\n",
      "Epoch 12/30\n",
      "6982/6982 [==============================] - 2s 288us/step - loss: 1.3874 - acc: 0.8221 - val_loss: 1.6701 - val_acc: 0.7530\n",
      "Epoch 13/30\n",
      "6982/6982 [==============================] - 2s 278us/step - loss: 1.3670 - acc: 0.8234 - val_loss: 1.6796 - val_acc: 0.7565\n",
      "Epoch 14/30\n",
      "6982/6982 [==============================] - 2s 320us/step - loss: 1.3452 - acc: 0.8294 - val_loss: 1.6502 - val_acc: 0.7585\n",
      "Epoch 15/30\n",
      "6982/6982 [==============================] - 2s 296us/step - loss: 1.3332 - acc: 0.8333 - val_loss: 1.6652 - val_acc: 0.7510\n",
      "Epoch 16/30\n",
      "6982/6982 [==============================] - 2s 287us/step - loss: 1.3364 - acc: 0.8290 - val_loss: 1.6433 - val_acc: 0.7585\n",
      "Epoch 17/30\n",
      "6982/6982 [==============================] - 2s 294us/step - loss: 1.3054 - acc: 0.8390 - val_loss: 1.6384 - val_acc: 0.7660\n",
      "Epoch 18/30\n",
      "6982/6982 [==============================] - 2s 289us/step - loss: 1.3037 - acc: 0.8376 - val_loss: 1.6437 - val_acc: 0.7600\n",
      "Epoch 19/30\n",
      "6982/6982 [==============================] - 2s 291us/step - loss: 1.2910 - acc: 0.8397 - val_loss: 1.6379 - val_acc: 0.7575\n",
      "Epoch 20/30\n",
      "6982/6982 [==============================] - 2s 287us/step - loss: 1.2934 - acc: 0.8396 - val_loss: 1.6267 - val_acc: 0.7605\n",
      "Epoch 21/30\n",
      "6982/6982 [==============================] - 2s 287us/step - loss: 1.2734 - acc: 0.8417 - val_loss: 1.6507 - val_acc: 0.7530\n",
      "Epoch 22/30\n",
      "6982/6982 [==============================] - 2s 282us/step - loss: 1.2695 - acc: 0.8435 - val_loss: 1.6480 - val_acc: 0.7625\n"
     ]
    }
   ],
   "source": [
    "callbacks = [EarlyStopping(monitor='val_loss', patience=2),\n",
    "             ModelCheckpoint(filepath='HW2_Q2_lam1.h5', monitor='val_loss', save_best_only=True)]\n",
    "history = model.fit(partial_x_train,\n",
    "                    partial_y_train,\n",
    "                    epochs=30,\n",
    "                    batch_size=512,\n",
    "                    validation_data=(x_val, y_val),callbacks = callbacks)"
   ]
  },
  {
   "cell_type": "code",
   "execution_count": 21,
   "metadata": {},
   "outputs": [
    {
     "data": {
      "image/png": "[encoded data removed]",
      "text/plain": [
       "<matplotlib.figure.Figure at 0x1efc952cbe0>"
      ]
     },
     "metadata": {},
     "output_type": "display_data"
    }
   ],
   "source": [
    "plt.clf()   # clear figure\n",
    "ax=plt.gca()\n",
    "\n",
    "acc = history.history['acc']\n",
    "val_acc_1 = history.history['val_acc']\n",
    "epochs = range(1, len(acc) + 1)\n",
    "\n",
    "plt.plot(epochs, acc, 'bo', label='Training acc')\n",
    "plt.plot(epochs, val_acc_1, 'r', label='Validation acc')\n",
    "plt.title('Train and validation acc (Max. Val. Accuracy = '+str(round(max(val_acc_1)*100,2))+' %)')\n",
    "ax.xaxis.set_major_locator(matplotlib.ticker.MultipleLocator(3))\n",
    "plt.xlabel('Epochs')\n",
    "plt.ylabel('Accuracy')\n",
    "plt.legend()\n",
    "\n",
    "plt.show()"
   ]
  },
  {
   "cell_type": "code",
   "execution_count": 22,
   "metadata": {},
   "outputs": [
    {
     "name": "stdout",
     "output_type": "stream",
     "text": [
      "Best epoch:  17\n"
     ]
    }
   ],
   "source": [
    "best_epoch_1=val_acc_1.index(max(val_acc_1))+1\n",
    "print(\"Best epoch: \",best_epoch_1)\n",
    "K.clear_session()"
   ]
  },
  {
   "cell_type": "markdown",
   "metadata": {},
   "source": [
    "# Lambda 2"
   ]
  },
  {
   "cell_type": "code",
   "execution_count": 23,
   "metadata": {},
   "outputs": [],
   "source": [
    "model = models.Sequential()\n",
    "model.add(layers.Dense(64,kernel_regularizer= regularizers.l2(lambdas[2]), activation='relu', input_shape=(10000,)))\n",
    "model.add(layers.Dense(64,kernel_regularizer= regularizers.l2(lambdas[2]) , activation='relu'))\n",
    "model.add(layers.Dense(46, kernel_regularizer= regularizers.l2(lambdas[2]), activation='softmax'))"
   ]
  },
  {
   "cell_type": "code",
   "execution_count": 24,
   "metadata": {},
   "outputs": [],
   "source": [
    "model.compile(optimizer='rmsprop',\n",
    "              loss='categorical_crossentropy',\n",
    "              metrics=['accuracy'])"
   ]
  },
  {
   "cell_type": "code",
   "execution_count": 25,
   "metadata": {},
   "outputs": [
    {
     "name": "stdout",
     "output_type": "stream",
     "text": [
      "Train on 6982 samples, validate on 2000 samples\n",
      "Epoch 1/25\n",
      "6982/6982 [==============================] - 3s 376us/step - loss: 3.1405 - acc: 0.5010 - val_loss: 2.2793 - val_acc: 0.6300\n",
      "Epoch 2/25\n",
      "6982/6982 [==============================] - 2s 284us/step - loss: 1.8511 - acc: 0.6835 - val_loss: 1.7040 - val_acc: 0.6790\n",
      "Epoch 3/25\n",
      "6982/6982 [==============================] - 2s 292us/step - loss: 1.4131 - acc: 0.7382 - val_loss: 1.5016 - val_acc: 0.7115\n",
      "Epoch 4/25\n",
      "6982/6982 [==============================] - 2s 281us/step - loss: 1.1949 - acc: 0.7872 - val_loss: 1.3986 - val_acc: 0.7375\n",
      "Epoch 5/25\n",
      "6982/6982 [==============================] - 2s 280us/step - loss: 1.0528 - acc: 0.8227 - val_loss: 1.3341 - val_acc: 0.7590\n",
      "Epoch 6/25\n",
      "6982/6982 [==============================] - 2s 332us/step - loss: 0.9475 - acc: 0.8485 - val_loss: 1.3196 - val_acc: 0.7705\n",
      "Epoch 7/25\n",
      "6982/6982 [==============================] - 2s 280us/step - loss: 0.8698 - acc: 0.8721 - val_loss: 1.2802 - val_acc: 0.7750\n",
      "Epoch 8/25\n",
      "6982/6982 [==============================] - 2s 282us/step - loss: 0.8008 - acc: 0.8864 - val_loss: 1.2623 - val_acc: 0.7820\n",
      "Epoch 9/25\n",
      "6982/6982 [==============================] - 2s 280us/step - loss: 0.7507 - acc: 0.9022 - val_loss: 1.2483 - val_acc: 0.7915\n",
      "Epoch 10/25\n",
      "6982/6982 [==============================] - 2s 283us/step - loss: 0.7057 - acc: 0.9123 - val_loss: 1.2455 - val_acc: 0.7860\n",
      "Epoch 11/25\n",
      "6982/6982 [==============================] - 2s 285us/step - loss: 0.6775 - acc: 0.9171 - val_loss: 1.2298 - val_acc: 0.7915\n",
      "Epoch 12/25\n",
      "6982/6982 [==============================] - 2s 285us/step - loss: 0.6457 - acc: 0.9268 - val_loss: 1.2588 - val_acc: 0.7895\n",
      "Epoch 13/25\n",
      "6982/6982 [==============================] - 2s 288us/step - loss: 0.6213 - acc: 0.9321 - val_loss: 1.2450 - val_acc: 0.7920\n"
     ]
    }
   ],
   "source": [
    "callbacks = [EarlyStopping(monitor='val_loss', patience=2),\n",
    "             ModelCheckpoint(filepath='HW2_Q2_lam2.h5', monitor='val_loss', save_best_only=True)]\n",
    "history = model.fit(partial_x_train,\n",
    "                    partial_y_train,\n",
    "                    epochs=25,\n",
    "                    batch_size=512,\n",
    "                    validation_data=(x_val, y_val),callbacks = callbacks)"
   ]
  },
  {
   "cell_type": "code",
   "execution_count": 26,
   "metadata": {},
   "outputs": [
    {
     "data": {
      "image/png": "[encoded data removed]",
      "text/plain": [
       "<matplotlib.figure.Figure at 0x1ef8abf6390>"
      ]
     },
     "metadata": {},
     "output_type": "display_data"
    }
   ],
   "source": [
    "plt.clf()   # clear figure\n",
    "ax=plt.gca()\n",
    "\n",
    "acc = history.history['acc']\n",
    "val_acc_2 = history.history['val_acc']\n",
    "epochs = range(1, len(acc) + 1)\n",
    "\n",
    "plt.plot(epochs, acc, 'bo', label='Training acc')\n",
    "plt.plot(epochs, val_acc_2, 'r', label='Validation acc')\n",
    "plt.title('Train and validation acc (Max. Val. Accuracy = '+str(round(max(val_acc_2)*100,2))+' %)')\n",
    "ax.xaxis.set_major_locator(matplotlib.ticker.MultipleLocator(3))\n",
    "plt.xlabel('Epochs')\n",
    "plt.ylabel('Accuracy')\n",
    "plt.legend()\n",
    "\n",
    "plt.show()"
   ]
  },
  {
   "cell_type": "code",
   "execution_count": 27,
   "metadata": {},
   "outputs": [
    {
     "name": "stdout",
     "output_type": "stream",
     "text": [
      "Best epoch:  13\n"
     ]
    }
   ],
   "source": [
    "best_epoch_2=val_acc_2.index(max(val_acc_2))+1\n",
    "print(\"Best epoch: \",best_epoch_2)\n",
    "K.clear_session()"
   ]
  },
  {
   "cell_type": "markdown",
   "metadata": {},
   "source": [
    "# Lambda 3 "
   ]
  },
  {
   "cell_type": "code",
   "execution_count": 28,
   "metadata": {},
   "outputs": [],
   "source": [
    "model = models.Sequential()\n",
    "model.add(layers.Dense(64,kernel_regularizer= regularizers.l2(lambdas[3]), activation='relu', input_shape=(10000,)))\n",
    "model.add(layers.Dense(64,kernel_regularizer= regularizers.l2(lambdas[3]) , activation='relu'))\n",
    "model.add(layers.Dense(46, kernel_regularizer= regularizers.l2(lambdas[3]), activation='softmax'))"
   ]
  },
  {
   "cell_type": "code",
   "execution_count": 29,
   "metadata": {},
   "outputs": [],
   "source": [
    "model.compile(optimizer='rmsprop',\n",
    "              loss='categorical_crossentropy',\n",
    "              metrics=['accuracy'])"
   ]
  },
  {
   "cell_type": "code",
   "execution_count": 30,
   "metadata": {},
   "outputs": [
    {
     "name": "stdout",
     "output_type": "stream",
     "text": [
      "Train on 6982 samples, validate on 2000 samples\n",
      "Epoch 1/25\n",
      "6982/6982 [==============================] - 3s 360us/step - loss: 2.9824 - acc: 0.4971 - val_loss: 2.0731 - val_acc: 0.6200\n",
      "Epoch 2/25\n",
      "6982/6982 [==============================] - 2s 279us/step - loss: 1.6449 - acc: 0.6909 - val_loss: 1.5059 - val_acc: 0.7040\n",
      "Epoch 3/25\n",
      "6982/6982 [==============================] - 2s 284us/step - loss: 1.1863 - acc: 0.7625 - val_loss: 1.2972 - val_acc: 0.7380\n",
      "Epoch 4/25\n",
      "6982/6982 [==============================] - 2s 278us/step - loss: 0.9413 - acc: 0.8092 - val_loss: 1.2093 - val_acc: 0.7520\n",
      "Epoch 5/25\n",
      "6982/6982 [==============================] - 2s 280us/step - loss: 0.7700 - acc: 0.8489 - val_loss: 1.1225 - val_acc: 0.7620\n",
      "Epoch 6/25\n",
      "6982/6982 [==============================] - 2s 290us/step - loss: 0.6358 - acc: 0.8781 - val_loss: 1.0720 - val_acc: 0.7845\n",
      "Epoch 7/25\n",
      "6982/6982 [==============================] - 2s 284us/step - loss: 0.5292 - acc: 0.9010 - val_loss: 1.0478 - val_acc: 0.7865\n",
      "Epoch 8/25\n",
      "6982/6982 [==============================] - 2s 285us/step - loss: 0.4483 - acc: 0.9202 - val_loss: 1.0308 - val_acc: 0.7895\n",
      "Epoch 9/25\n",
      "6982/6982 [==============================] - 2s 295us/step - loss: 0.3805 - acc: 0.9331 - val_loss: 1.0244 - val_acc: 0.7890\n",
      "Epoch 10/25\n",
      "6982/6982 [==============================] - 2s 285us/step - loss: 0.3317 - acc: 0.9431 - val_loss: 1.0130 - val_acc: 0.7975\n",
      "Epoch 11/25\n",
      "6982/6982 [==============================] - 2s 287us/step - loss: 0.2972 - acc: 0.9486 - val_loss: 1.0353 - val_acc: 0.7975\n",
      "Epoch 12/25\n",
      "6982/6982 [==============================] - 2s 281us/step - loss: 0.2662 - acc: 0.9545 - val_loss: 1.0349 - val_acc: 0.7945\n"
     ]
    }
   ],
   "source": [
    "callbacks = [EarlyStopping(monitor='val_loss', patience=2),\n",
    "             ModelCheckpoint(filepath='HW2_Q2_lam3.h5', monitor='val_loss', save_best_only=True)]\n",
    "history = model.fit(partial_x_train,\n",
    "                    partial_y_train,\n",
    "                    epochs=25,\n",
    "                    batch_size=512,\n",
    "                    validation_data=(x_val, y_val),callbacks = callbacks)"
   ]
  },
  {
   "cell_type": "code",
   "execution_count": 31,
   "metadata": {},
   "outputs": [
    {
     "data": {
      "image/png": "[encoded data removed]",
      "text/plain": [
       "<matplotlib.figure.Figure at 0x1efc79effd0>"
      ]
     },
     "metadata": {},
     "output_type": "display_data"
    }
   ],
   "source": [
    "plt.clf()   # clear figure\n",
    "ax=plt.gca()\n",
    "\n",
    "acc = history.history['acc']\n",
    "val_acc_3 = history.history['val_acc']\n",
    "epochs = range(1, len(acc) + 1)\n",
    "\n",
    "plt.plot(epochs, acc, 'bo', label='Training acc')\n",
    "plt.plot(epochs, val_acc_3, 'r', label='Validation acc')\n",
    "plt.title('Train and validation acc (Max. Val. Accuracy = '+str(round(max(val_acc_3)*100,2))+' %)')\n",
    "ax.xaxis.set_major_locator(matplotlib.ticker.MultipleLocator(3))\n",
    "plt.xlabel('Epochs')\n",
    "plt.ylabel('Accuracy')\n",
    "plt.legend()\n",
    "\n",
    "plt.show()"
   ]
  },
  {
   "cell_type": "code",
   "execution_count": 32,
   "metadata": {},
   "outputs": [
    {
     "name": "stdout",
     "output_type": "stream",
     "text": [
      "Best epoch:  11\n"
     ]
    }
   ],
   "source": [
    "best_epoch_3=val_acc_3.index(max(val_acc_3))+1\n",
    "print(\"Best epoch: \",best_epoch_3)\n",
    "\n",
    "K.clear_session()"
   ]
  },
  {
   "cell_type": "markdown",
   "metadata": {},
   "source": [
    "# Lambda 4"
   ]
  },
  {
   "cell_type": "code",
   "execution_count": 33,
   "metadata": {},
   "outputs": [],
   "source": [
    "model = models.Sequential()\n",
    "model.add(layers.Dense(64,kernel_regularizer= regularizers.l2(lambdas[4]), activation='relu', input_shape=(10000,)))\n",
    "model.add(layers.Dense(64,kernel_regularizer= regularizers.l2(lambdas[4]) , activation='relu'))\n",
    "model.add(layers.Dense(46, kernel_regularizer= regularizers.l2(lambdas[4]), activation='softmax'))"
   ]
  },
  {
   "cell_type": "code",
   "execution_count": 34,
   "metadata": {},
   "outputs": [],
   "source": [
    "model.compile(optimizer='rmsprop',\n",
    "              loss='categorical_crossentropy',\n",
    "              metrics=['accuracy'])"
   ]
  },
  {
   "cell_type": "code",
   "execution_count": 35,
   "metadata": {},
   "outputs": [
    {
     "name": "stdout",
     "output_type": "stream",
     "text": [
      "Train on 6982 samples, validate on 2000 samples\n",
      "Epoch 1/20\n",
      "6982/6982 [==============================] - 3s 371us/step - loss: 2.7242 - acc: 0.5302 - val_loss: 1.8413 - val_acc: 0.6185\n",
      "Epoch 2/20\n",
      "6982/6982 [==============================] - 2s 287us/step - loss: 1.4828 - acc: 0.6906 - val_loss: 1.4339 - val_acc: 0.6860\n",
      "Epoch 3/20\n",
      "6982/6982 [==============================] - 2s 286us/step - loss: 1.1169 - acc: 0.7621 - val_loss: 1.2726 - val_acc: 0.7240\n",
      "Epoch 4/20\n",
      "6982/6982 [==============================] - 2s 284us/step - loss: 0.8980 - acc: 0.8129 - val_loss: 1.1767 - val_acc: 0.7465\n",
      "Epoch 5/20\n",
      "6982/6982 [==============================] - 2s 287us/step - loss: 0.7319 - acc: 0.8509 - val_loss: 1.0952 - val_acc: 0.7675\n",
      "Epoch 6/20\n",
      "6982/6982 [==============================] - 2s 285us/step - loss: 0.5993 - acc: 0.8774 - val_loss: 1.1373 - val_acc: 0.7450\n",
      "Epoch 7/20\n",
      "6982/6982 [==============================] - 2s 285us/step - loss: 0.4957 - acc: 0.9015 - val_loss: 1.0368 - val_acc: 0.7815\n",
      "Epoch 8/20\n",
      "6982/6982 [==============================] - 2s 278us/step - loss: 0.4121 - acc: 0.9198 - val_loss: 1.0259 - val_acc: 0.7860\n",
      "Epoch 9/20\n",
      "6982/6982 [==============================] - 2s 285us/step - loss: 0.3487 - acc: 0.9341 - val_loss: 0.9968 - val_acc: 0.7970\n",
      "Epoch 10/20\n",
      "6982/6982 [==============================] - 2s 281us/step - loss: 0.2998 - acc: 0.9433 - val_loss: 1.0112 - val_acc: 0.7955\n",
      "Epoch 11/20\n",
      "6982/6982 [==============================] - 2s 301us/step - loss: 0.2582 - acc: 0.9483 - val_loss: 0.9883 - val_acc: 0.8000\n",
      "Epoch 12/20\n",
      "6982/6982 [==============================] - 2s 291us/step - loss: 0.2301 - acc: 0.9533 - val_loss: 1.0120 - val_acc: 0.7960\n",
      "Epoch 13/20\n",
      "6982/6982 [==============================] - 2s 288us/step - loss: 0.2101 - acc: 0.9545 - val_loss: 1.0137 - val_acc: 0.7970\n"
     ]
    }
   ],
   "source": [
    "callbacks = [EarlyStopping(monitor='val_loss', patience=2),\n",
    "             ModelCheckpoint(filepath='HW2_Q2_lam4.h5', monitor='val_loss', save_best_only=True)]\n",
    "history = model.fit(partial_x_train,\n",
    "                    partial_y_train,\n",
    "                    epochs=20,\n",
    "                    batch_size=512,\n",
    "                    validation_data=(x_val, y_val),callbacks = callbacks)"
   ]
  },
  {
   "cell_type": "code",
   "execution_count": 36,
   "metadata": {},
   "outputs": [
    {
     "data": {
      "image/png": "[encoded data removed]",
      "text/plain": [
       "<matplotlib.figure.Figure at 0x1efc7c0c3c8>"
      ]
     },
     "metadata": {},
     "output_type": "display_data"
    }
   ],
   "source": [
    "plt.clf()   # clear figure\n",
    "ax=plt.gca()\n",
    "\n",
    "acc = history.history['acc']\n",
    "val_acc_4 = history.history['val_acc']\n",
    "epochs = range(1, len(acc) + 1)\n",
    "\n",
    "plt.plot(epochs, acc, 'bo', label='Training acc')\n",
    "plt.plot(epochs, val_acc_4, 'r', label='Validation acc')\n",
    "plt.title('Train and validation acc (Max. Val. Accuracy = '+str(round(max(val_acc_4)*100,2))+' %)')\n",
    "ax.xaxis.set_major_locator(matplotlib.ticker.MultipleLocator(3))\n",
    "plt.xlabel('Epochs')\n",
    "plt.ylabel('Accuracy')\n",
    "plt.legend()\n",
    "\n",
    "plt.show()"
   ]
  },
  {
   "cell_type": "code",
   "execution_count": 37,
   "metadata": {},
   "outputs": [
    {
     "name": "stdout",
     "output_type": "stream",
     "text": [
      "Best epoch:  11\n"
     ]
    }
   ],
   "source": [
    "best_epoch_4=val_acc_4.index(max(val_acc_4))+1\n",
    "print(\"Best epoch: \",best_epoch_4)\n",
    "K.clear_session()"
   ]
  },
  {
   "cell_type": "markdown",
   "metadata": {},
   "source": [
    "# Lambda 5"
   ]
  },
  {
   "cell_type": "code",
   "execution_count": 38,
   "metadata": {},
   "outputs": [],
   "source": [
    "model = models.Sequential()\n",
    "model.add(layers.Dense(64,kernel_regularizer= regularizers.l2(lambdas[5]), activation='relu', input_shape=(10000,)))\n",
    "model.add(layers.Dense(64,kernel_regularizer= regularizers.l2(lambdas[5]) , activation='relu'))\n",
    "model.add(layers.Dense(46, kernel_regularizer= regularizers.l2(lambdas[5]), activation='softmax'))"
   ]
  },
  {
   "cell_type": "code",
   "execution_count": 39,
   "metadata": {},
   "outputs": [],
   "source": [
    "model.compile(optimizer='rmsprop',\n",
    "              loss='categorical_crossentropy',\n",
    "              metrics=['accuracy'])"
   ]
  },
  {
   "cell_type": "code",
   "execution_count": 40,
   "metadata": {},
   "outputs": [
    {
     "name": "stdout",
     "output_type": "stream",
     "text": [
      "Train on 6982 samples, validate on 2000 samples\n",
      "Epoch 1/20\n",
      "6982/6982 [==============================] - 3s 391us/step - loss: 2.7596 - acc: 0.5162 - val_loss: 1.8948 - val_acc: 0.6185\n",
      "Epoch 2/20\n",
      "6982/6982 [==============================] - 2s 299us/step - loss: 1.5199 - acc: 0.7009 - val_loss: 1.4508 - val_acc: 0.6955\n",
      "Epoch 3/20\n",
      "6982/6982 [==============================] - 2s 284us/step - loss: 1.1163 - acc: 0.7716 - val_loss: 1.2599 - val_acc: 0.7350\n",
      "Epoch 4/20\n",
      "6982/6982 [==============================] - 2s 299us/step - loss: 0.8816 - acc: 0.8182 - val_loss: 1.1523 - val_acc: 0.7560\n",
      "Epoch 5/20\n",
      "6982/6982 [==============================] - 2s 287us/step - loss: 0.7033 - acc: 0.8553 - val_loss: 1.0824 - val_acc: 0.7705\n",
      "Epoch 6/20\n",
      "6982/6982 [==============================] - 2s 278us/step - loss: 0.5690 - acc: 0.8831 - val_loss: 1.0500 - val_acc: 0.7785\n",
      "Epoch 7/20\n",
      "6982/6982 [==============================] - 2s 282us/step - loss: 0.4618 - acc: 0.9069 - val_loss: 0.9966 - val_acc: 0.7935\n",
      "Epoch 8/20\n",
      "6982/6982 [==============================] - 2s 287us/step - loss: 0.3768 - acc: 0.9254 - val_loss: 1.0082 - val_acc: 0.7940\n",
      "Epoch 9/20\n",
      "6982/6982 [==============================] - 2s 281us/step - loss: 0.3152 - acc: 0.9370 - val_loss: 0.9837 - val_acc: 0.8000\n",
      "Epoch 10/20\n",
      "6982/6982 [==============================] - 2s 286us/step - loss: 0.2621 - acc: 0.9454 - val_loss: 0.9982 - val_acc: 0.8020\n",
      "Epoch 11/20\n",
      "6982/6982 [==============================] - 2s 282us/step - loss: 0.2279 - acc: 0.9482 - val_loss: 1.0046 - val_acc: 0.7980\n"
     ]
    }
   ],
   "source": [
    "callbacks = [EarlyStopping(monitor='val_loss', patience=2),\n",
    "             ModelCheckpoint(filepath='HW2_Q2_lam5.h5', monitor='val_loss', save_best_only=True)]\n",
    "history = model.fit(partial_x_train,\n",
    "                    partial_y_train,\n",
    "                    epochs=20,\n",
    "                    batch_size=512,\n",
    "                    validation_data=(x_val, y_val),callbacks = callbacks)"
   ]
  },
  {
   "cell_type": "code",
   "execution_count": 41,
   "metadata": {},
   "outputs": [
    {
     "data": {
      "image/png": "[encoded data removed]",
      "text/plain": [
       "<matplotlib.figure.Figure at 0x1ef8c185160>"
      ]
     },
     "metadata": {},
     "output_type": "display_data"
    }
   ],
   "source": [
    "plt.clf()   # clear figure\n",
    "ax=plt.gca()\n",
    "\n",
    "acc = history.history['acc']\n",
    "val_acc_5 = history.history['val_acc']\n",
    "epochs = range(1, len(acc) + 1)\n",
    "\n",
    "plt.plot(epochs, acc, 'bo', label='Training acc')\n",
    "plt.plot(epochs, val_acc_5, 'r', label='Validation acc')\n",
    "plt.title('Train and validation acc (Max. Val. Accuracy = '+str(round(max(val_acc_5)*100,2))+' %)')\n",
    "ax.xaxis.set_major_locator(matplotlib.ticker.MultipleLocator(3))\n",
    "plt.xlabel('Epochs')\n",
    "plt.ylabel('Accuracy')\n",
    "plt.legend()\n",
    "\n",
    "plt.show()"
   ]
  },
  {
   "cell_type": "code",
   "execution_count": 42,
   "metadata": {},
   "outputs": [
    {
     "name": "stdout",
     "output_type": "stream",
     "text": [
      "Best epoch:  10\n"
     ]
    }
   ],
   "source": [
    "best_epoch_5=val_acc_5.index(max(val_acc_5))+1\n",
    "print(\"Best epoch: \",best_epoch_5)\n",
    "K.clear_session()"
   ]
  },
  {
   "cell_type": "markdown",
   "metadata": {},
   "source": [
    "# Lambda 6"
   ]
  },
  {
   "cell_type": "code",
   "execution_count": 43,
   "metadata": {},
   "outputs": [],
   "source": [
    "model = models.Sequential()\n",
    "model.add(layers.Dense(64,kernel_regularizer= regularizers.l2(lambdas[6]), activation='relu', input_shape=(10000,)))\n",
    "model.add(layers.Dense(64,kernel_regularizer= regularizers.l2(lambdas[6]) , activation='relu'))\n",
    "model.add(layers.Dense(46, kernel_regularizer= regularizers.l2(lambdas[6]), activation='softmax'))"
   ]
  },
  {
   "cell_type": "code",
   "execution_count": 44,
   "metadata": {},
   "outputs": [],
   "source": [
    "model.compile(optimizer='rmsprop',\n",
    "              loss='categorical_crossentropy',\n",
    "              metrics=['accuracy'])"
   ]
  },
  {
   "cell_type": "code",
   "execution_count": 45,
   "metadata": {},
   "outputs": [
    {
     "name": "stdout",
     "output_type": "stream",
     "text": [
      "Train on 6982 samples, validate on 2000 samples\n",
      "Epoch 1/20\n",
      "6982/6982 [==============================] - 3s 377us/step - loss: 2.6699 - acc: 0.5115 - val_loss: 1.8437 - val_acc: 0.6165\n",
      "Epoch 2/20\n",
      "6982/6982 [==============================] - 2s 283us/step - loss: 1.5027 - acc: 0.6828 - val_loss: 1.4490 - val_acc: 0.6905\n",
      "Epoch 3/20\n",
      "6982/6982 [==============================] - 2s 280us/step - loss: 1.1318 - acc: 0.7579 - val_loss: 1.2697 - val_acc: 0.7150\n",
      "Epoch 4/20\n",
      "6982/6982 [==============================] - 2s 287us/step - loss: 0.8898 - acc: 0.8062 - val_loss: 1.1677 - val_acc: 0.7465\n",
      "Epoch 5/20\n",
      "6982/6982 [==============================] - 2s 286us/step - loss: 0.7074 - acc: 0.8525 - val_loss: 1.1040 - val_acc: 0.7610\n",
      "Epoch 6/20\n",
      "6982/6982 [==============================] - 2s 288us/step - loss: 0.5634 - acc: 0.8867 - val_loss: 1.0397 - val_acc: 0.7705\n",
      "Epoch 7/20\n",
      "6982/6982 [==============================] - 2s 295us/step - loss: 0.4562 - acc: 0.9089 - val_loss: 1.0593 - val_acc: 0.7765\n",
      "Epoch 8/20\n",
      "6982/6982 [==============================] - 2s 285us/step - loss: 0.3695 - acc: 0.9282 - val_loss: 1.0122 - val_acc: 0.7885\n",
      "Epoch 9/20\n",
      "6982/6982 [==============================] - 2s 300us/step - loss: 0.3020 - acc: 0.9373 - val_loss: 1.0241 - val_acc: 0.7880\n",
      "Epoch 10/20\n",
      "6982/6982 [==============================] - 2s 290us/step - loss: 0.2517 - acc: 0.9486 - val_loss: 1.0296 - val_acc: 0.7850\n"
     ]
    }
   ],
   "source": [
    "callbacks = [EarlyStopping(monitor='val_loss', patience=2),\n",
    "             ModelCheckpoint(filepath='HW2_Q2_lam6.h5', monitor='val_loss', save_best_only=True)]\n",
    "history = model.fit(partial_x_train,\n",
    "                    partial_y_train,\n",
    "                    epochs=20,\n",
    "                    batch_size=512,\n",
    "                    validation_data=(x_val, y_val),callbacks = callbacks)"
   ]
  },
  {
   "cell_type": "code",
   "execution_count": 46,
   "metadata": {},
   "outputs": [
    {
     "data": {
      "image/png": "[encoded data removed]",
      "text/plain": [
       "<matplotlib.figure.Figure at 0x1efc9762588>"
      ]
     },
     "metadata": {},
     "output_type": "display_data"
    }
   ],
   "source": [
    "plt.clf()   # clear figure\n",
    "ax=plt.gca()\n",
    "\n",
    "acc = history.history['acc']\n",
    "val_acc_6 = history.history['val_acc']\n",
    "epochs = range(1, len(acc) + 1)\n",
    "\n",
    "plt.plot(epochs, acc, 'bo', label='Training acc')\n",
    "plt.plot(epochs, val_acc_6, 'r', label='Validation acc')\n",
    "plt.title('Train and validation acc (Max. Val. Accuracy = '+str(round(max(val_acc_6)*100,2))+' %)')\n",
    "ax.xaxis.set_major_locator(matplotlib.ticker.MultipleLocator(3))\n",
    "plt.xlabel('Epochs')\n",
    "plt.ylabel('Accuracy')\n",
    "plt.legend()\n",
    "\n",
    "plt.show()"
   ]
  },
  {
   "cell_type": "code",
   "execution_count": 47,
   "metadata": {},
   "outputs": [
    {
     "name": "stdout",
     "output_type": "stream",
     "text": [
      "Best epoch:  8\n"
     ]
    }
   ],
   "source": [
    "best_epoch_6=val_acc_6.index(max(val_acc_6))+1\n",
    "print(\"Best epoch: \",best_epoch_6)\n",
    "K.clear_session()"
   ]
  },
  {
   "cell_type": "code",
   "execution_count": 48,
   "metadata": {},
   "outputs": [
    {
     "data": {
      "text/plain": [
       "<matplotlib.figure.Figure at 0x1efc8de4ef0>"
      ]
     },
     "metadata": {},
     "output_type": "display_data"
    },
    {
     "data": {
      "text/plain": [
       "<matplotlib.figure.Figure at 0x1efc8de40b8>"
      ]
     },
     "metadata": {},
     "output_type": "display_data"
    },
    {
     "data": {
      "image/png": "[encoded data removed]",
      "text/plain": [
       "<matplotlib.figure.Figure at 0x1efc9336eb8>"
      ]
     },
     "metadata": {},
     "output_type": "display_data"
    }
   ],
   "source": [
    "plt.clf()   # clear figure\n",
    "plt.figure(figsize=(12,6))\n",
    "fig, host = plt.subplots(figsize=(9,5))\n",
    "par1 = host.twinx()\n",
    "ax=plt.gca()\n",
    "\n",
    "val_acc = [max(val_acc_0),max(val_acc_1),max(val_acc_2),max(val_acc_3),max(val_acc_4),max(val_acc_5),max(val_acc_6)]\n",
    "best_epoch=[best_epoch_0,best_epoch_1,best_epoch_2,best_epoch_3,best_epoch_4,best_epoch_5,best_epoch_6]\n",
    "\n",
    "p1, = host.plot(lambdas, val_acc, 'g', label='Validation acc')\n",
    "p2, = par1.plot(lambdas, best_epoch, 'r-', label='Best epoch')\n",
    "\n",
    "\n",
    "plt.title('Val. Accuracy for diff. lambdas ',fontsize=14)\n",
    "plt.xscale(\"log\")\n",
    "plt.xlabel('Lambdas')\n",
    "host.set_ylabel('Accuracy',fontsize=12)\n",
    "par1.set_ylabel('Epochs',fontsize=12)\n",
    "lines = [p1, p2]\n",
    "\n",
    "host.legend(lines, [l.get_label() for l in lines])\n",
    "\n",
    "plt.show()"
   ]
  },
  {
   "cell_type": "code",
   "execution_count": 49,
   "metadata": {},
   "outputs": [
    {
     "name": "stdout",
     "output_type": "stream",
     "text": [
      "Best validation accuracy:  80.2\n",
      "Optimal lambda Parameter:  1e-05\n"
     ]
    }
   ],
   "source": [
    "print(\"Best validation accuracy: \",round(max(val_acc)*100,2))\n",
    "print(\"Optimal lambda Parameter: \",lambdas[val_acc.index(max(val_acc))])"
   ]
  },
  {
   "cell_type": "code",
   "execution_count": null,
   "metadata": {},
   "outputs": [],
   "source": []
  }
 ],
 "metadata": {
  "kernelspec": {
   "display_name": "Python 3",
   "language": "python",
   "name": "python3"
  },
  "language_info": {
   "codemirror_mode": {
    "name": "ipython",
    "version": 3
   },
   "file_extension": ".py",
   "mimetype": "text/x-python",
   "name": "python",
   "nbconvert_exporter": "python",
   "pygments_lexer": "ipython3",
   "version": "3.6.4"
  }
 },
 "nbformat": 4,
 "nbformat_minor": 2
}
