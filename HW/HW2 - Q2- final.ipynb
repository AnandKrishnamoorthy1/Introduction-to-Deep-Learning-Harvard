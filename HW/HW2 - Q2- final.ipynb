{
 "cells": [
  {
   "cell_type": "markdown",
   "metadata": {},
   "source": [
    "# Deep Learning - HW 1 - Q2"
   ]
  },
  {
   "cell_type": "code",
   "execution_count": 1,
   "metadata": {},
   "outputs": [],
   "source": [
    "import pandas as pd, numpy as np\n",
    "from sklearn.model_selection import train_test_split\n",
    "from matplotlib import pyplot as plt\n",
    "from sklearn import datasets\n",
    "from sklearn import preprocessing\n",
    "from matplotlib import pyplot as plt"
   ]
  },
  {
   "cell_type": "markdown",
   "metadata": {},
   "source": [
    "### Importing data"
   ]
  },
  {
   "cell_type": "code",
   "execution_count": 2,
   "metadata": {},
   "outputs": [
    {
     "data": {
      "text/html": [
       "<div>\n",
       "<style scoped>\n",
       "    .dataframe tbody tr th:only-of-type {\n",
       "        vertical-align: middle;\n",
       "    }\n",
       "\n",
       "    .dataframe tbody tr th {\n",
       "        vertical-align: top;\n",
       "    }\n",
       "\n",
       "    .dataframe thead th {\n",
       "        text-align: right;\n",
       "    }\n",
       "</style>\n",
       "<table border=\"1\" class=\"dataframe\">\n",
       "  <thead>\n",
       "    <tr style=\"text-align: right;\">\n",
       "      <th></th>\n",
       "      <th>districtText</th>\n",
       "      <th>furnishingCode</th>\n",
       "      <th>value</th>\n",
       "      <th>floorArea</th>\n",
       "      <th>bedrooms</th>\n",
       "      <th>bathrooms</th>\n",
       "      <th>pricePerSqFt</th>\n",
       "      <th>hasFloorplans</th>\n",
       "      <th>latitude</th>\n",
       "      <th>longitude</th>\n",
       "    </tr>\n",
       "  </thead>\n",
       "  <tbody>\n",
       "    <tr>\n",
       "      <th>0</th>\n",
       "      <td>Hougang  /  Punggol  /  Sengkang</td>\n",
       "      <td>FULL</td>\n",
       "      <td>458000</td>\n",
       "      <td>990</td>\n",
       "      <td>3</td>\n",
       "      <td>2</td>\n",
       "      <td>462.6262626</td>\n",
       "      <td>True</td>\n",
       "      <td>1.402608</td>\n",
       "      <td>103.911427</td>\n",
       "    </tr>\n",
       "    <tr>\n",
       "      <th>1</th>\n",
       "      <td>Buona  Vista  /  West  Coast  /  Clementi  Ne...</td>\n",
       "      <td>FULL</td>\n",
       "      <td>775000</td>\n",
       "      <td>1022</td>\n",
       "      <td>3</td>\n",
       "      <td>2</td>\n",
       "      <td>758.3170254</td>\n",
       "      <td>False</td>\n",
       "      <td>1.306192</td>\n",
       "      <td>103.782499</td>\n",
       "    </tr>\n",
       "    <tr>\n",
       "      <th>2</th>\n",
       "      <td>Ang  Mo  Kio  /  Bishan  /  Thomson</td>\n",
       "      <td>UNFUR</td>\n",
       "      <td>875000</td>\n",
       "      <td>1259</td>\n",
       "      <td>3</td>\n",
       "      <td>2</td>\n",
       "      <td>694.9960286</td>\n",
       "      <td>True</td>\n",
       "      <td>1.371803482</td>\n",
       "      <td>103.8535492</td>\n",
       "    </tr>\n",
       "  </tbody>\n",
       "</table>\n",
       "</div>"
      ],
      "text/plain": [
       "                                        districtText furnishingCode   value  \\\n",
       "0                  Hougang  /  Punggol  /  Sengkang            FULL  458000   \n",
       "1   Buona  Vista  /  West  Coast  /  Clementi  Ne...           FULL  775000   \n",
       "2               Ang  Mo  Kio  /  Bishan  /  Thomson           UNFUR  875000   \n",
       "\n",
       "  floorArea  bedrooms bathrooms pricePerSqFt  hasFloorplans     latitude  \\\n",
       "0       990         3         2  462.6262626           True     1.402608   \n",
       "1      1022         3         2  758.3170254          False     1.306192   \n",
       "2      1259         3         2  694.9960286           True  1.371803482   \n",
       "\n",
       "     longitude  \n",
       "0   103.911427  \n",
       "1   103.782499  \n",
       "2  103.8535492  "
      ]
     },
     "execution_count": 2,
     "metadata": {},
     "output_type": "execute_result"
    }
   ],
   "source": [
    "inp_df=pd.read_csv(r'C:\\Users\\anand\\Downloads\\NU Classes\\Deep Learning\\Slides and Code\\HW 1\\Housing_Data.csv',index_col=0)\n",
    "inp_df=inp_df[inp_df.index!=23493]\n",
    "inp_df.head(3)"
   ]
  },
  {
   "cell_type": "code",
   "execution_count": 3,
   "metadata": {},
   "outputs": [
    {
     "data": {
      "text/html": [
       "<div>\n",
       "<style scoped>\n",
       "    .dataframe tbody tr th:only-of-type {\n",
       "        vertical-align: middle;\n",
       "    }\n",
       "\n",
       "    .dataframe tbody tr th {\n",
       "        vertical-align: top;\n",
       "    }\n",
       "\n",
       "    .dataframe thead th {\n",
       "        text-align: right;\n",
       "    }\n",
       "</style>\n",
       "<table border=\"1\" class=\"dataframe\">\n",
       "  <thead>\n",
       "    <tr style=\"text-align: right;\">\n",
       "      <th></th>\n",
       "      <th>floorArea</th>\n",
       "      <th>bedrooms</th>\n",
       "    </tr>\n",
       "  </thead>\n",
       "  <tbody>\n",
       "    <tr>\n",
       "      <th>0</th>\n",
       "      <td>990.0</td>\n",
       "      <td>3.0</td>\n",
       "    </tr>\n",
       "    <tr>\n",
       "      <th>1</th>\n",
       "      <td>1022.0</td>\n",
       "      <td>3.0</td>\n",
       "    </tr>\n",
       "    <tr>\n",
       "      <th>2</th>\n",
       "      <td>1259.0</td>\n",
       "      <td>3.0</td>\n",
       "    </tr>\n",
       "    <tr>\n",
       "      <th>3</th>\n",
       "      <td>699.0</td>\n",
       "      <td>3.0</td>\n",
       "    </tr>\n",
       "    <tr>\n",
       "      <th>4</th>\n",
       "      <td>1184.0</td>\n",
       "      <td>3.0</td>\n",
       "    </tr>\n",
       "  </tbody>\n",
       "</table>\n",
       "</div>"
      ],
      "text/plain": [
       "   floorArea  bedrooms\n",
       "0      990.0       3.0\n",
       "1     1022.0       3.0\n",
       "2     1259.0       3.0\n",
       "3      699.0       3.0\n",
       "4     1184.0       3.0"
      ]
     },
     "execution_count": 3,
     "metadata": {},
     "output_type": "execute_result"
    }
   ],
   "source": [
    "X=inp_df[['floorArea','bedrooms']].astype(float)\n",
    "y=inp_df['value'].astype(float).to_frame()\n",
    "X.head()"
   ]
  },
  {
   "cell_type": "code",
   "execution_count": 4,
   "metadata": {},
   "outputs": [],
   "source": [
    "X_train, X_val, y_train, y_val = train_test_split(X, y, test_size=0.2, random_state=42)\n",
    "X_train, X_test, y_train, y_test=train_test_split(X_train, y_train, test_size=0.1, random_state=42)"
   ]
  },
  {
   "cell_type": "code",
   "execution_count": 5,
   "metadata": {},
   "outputs": [],
   "source": [
    "std_scale = preprocessing.StandardScaler().fit(X_train)\n",
    "X_train = pd.DataFrame(std_scale.transform(X_train),columns=['floorArea','bedrooms'],index=X_train.index)\n",
    "X_val = pd.DataFrame(std_scale.transform(X_val),columns=['floorArea','bedrooms'],index=X_val.index)\n",
    "X_test = pd.DataFrame(std_scale.transform(X_test),columns=['floorArea','bedrooms'],index=X_test.index)"
   ]
  },
  {
   "cell_type": "code",
   "execution_count": 6,
   "metadata": {},
   "outputs": [
    {
     "data": {
      "text/plain": [
       "85"
      ]
     },
     "execution_count": 6,
     "metadata": {},
     "output_type": "execute_result"
    }
   ],
   "source": [
    "len(X_train[17600:17700])"
   ]
  },
  {
   "cell_type": "code",
   "execution_count": 7,
   "metadata": {},
   "outputs": [],
   "source": [
    "def relu_derivative(val):\n",
    "    return 1"
   ]
  },
  {
   "cell_type": "markdown",
   "metadata": {},
   "source": [
    "### Initializing weights"
   ]
  },
  {
   "cell_type": "code",
   "execution_count": 8,
   "metadata": {},
   "outputs": [],
   "source": [
    "alpha=0.005\n",
    "w01_layer1=.5\n",
    "w11_layer1=.4\n",
    "w21_layer1=.3\n",
    "w02_layer1=.2\n",
    "w12_layer1=1.1\n",
    "w22_layer1=1.6\n",
    "w0_layer2=1.5\n",
    "w1_layer2=.65\n",
    "w2_layer2=.25\n"
   ]
  },
  {
   "cell_type": "markdown",
   "metadata": {},
   "source": [
    "### Resuable Functions"
   ]
  },
  {
   "cell_type": "code",
   "execution_count": 9,
   "metadata": {},
   "outputs": [],
   "source": [
    "def calc_expression(x1,x2,w0,w1,w2):\n",
    "    \"Input x1 and x2 as float\"\n",
    "    return w0+w1*x1+w2*x2\n",
    "\n",
    "def calc_yhat(u1,u2,w0_layer2,w1_layer2,w2_layer2):\n",
    "    return w0_layer2+w1_layer2*u1+w2_layer2*u2\n",
    "\n",
    "def calc_MSE(yhat,y):\n",
    "    return (yhat-y)*(yhat-y)\n",
    "\n",
    "def relu_fn(val):\n",
    "    return max(0,val)\n",
    "\n",
    "def sigmoid(x):\n",
    "    z = 1/(1 + np.exp(-x))\n",
    "    return round(z,3)\n",
    "\n",
    "def sigmoid_derivative(x):\n",
    "    z = 1/(1 + np.exp(-x))\n",
    "    return round(z/(1-z),3)"
   ]
  },
  {
   "cell_type": "markdown",
   "metadata": {},
   "source": [
    "### Backpropagation"
   ]
  },
  {
   "cell_type": "code",
   "execution_count": 10,
   "metadata": {},
   "outputs": [],
   "source": [
    "epochs=2\n",
    "batch_size=256\n",
    "train_MSE=[]\n",
    "val_MSE=[]"
   ]
  },
  {
   "cell_type": "code",
   "execution_count": 11,
   "metadata": {},
   "outputs": [
    {
     "data": {
      "text/html": [
       "<div>\n",
       "<style scoped>\n",
       "    .dataframe tbody tr th:only-of-type {\n",
       "        vertical-align: middle;\n",
       "    }\n",
       "\n",
       "    .dataframe tbody tr th {\n",
       "        vertical-align: top;\n",
       "    }\n",
       "\n",
       "    .dataframe thead th {\n",
       "        text-align: right;\n",
       "    }\n",
       "</style>\n",
       "<table border=\"1\" class=\"dataframe\">\n",
       "  <thead>\n",
       "    <tr style=\"text-align: right;\">\n",
       "      <th></th>\n",
       "      <th>value</th>\n",
       "    </tr>\n",
       "  </thead>\n",
       "  <tbody>\n",
       "    <tr>\n",
       "      <th>18726</th>\n",
       "      <td>448888.0</td>\n",
       "    </tr>\n",
       "    <tr>\n",
       "      <th>14276</th>\n",
       "      <td>435000.0</td>\n",
       "    </tr>\n",
       "    <tr>\n",
       "      <th>19667</th>\n",
       "      <td>520000.0</td>\n",
       "    </tr>\n",
       "    <tr>\n",
       "      <th>15371</th>\n",
       "      <td>540000.0</td>\n",
       "    </tr>\n",
       "    <tr>\n",
       "      <th>12066</th>\n",
       "      <td>597400.0</td>\n",
       "    </tr>\n",
       "  </tbody>\n",
       "</table>\n",
       "</div>"
      ],
      "text/plain": [
       "          value\n",
       "18726  448888.0\n",
       "14276  435000.0\n",
       "19667  520000.0\n",
       "15371  540000.0\n",
       "12066  597400.0"
      ]
     },
     "execution_count": 11,
     "metadata": {},
     "output_type": "execute_result"
    }
   ],
   "source": [
    "y_train[:5]"
   ]
  },
  {
   "cell_type": "code",
   "execution_count": 12,
   "metadata": {},
   "outputs": [],
   "source": [
    "MSE=0\n",
    "w0_layer2_grad=0\n",
    "w1_layer2_grad=0\n",
    "w2_layer2_grad=0\n",
    "w01_layer1_grad=0\n",
    "w11_layer1_grad=0\n",
    "w21_layer1_grad=0\n",
    "w02_layer1_grad=0\n",
    "w12_layer1_grad=0\n",
    "w22_layer1_grad=0"
   ]
  },
  {
   "cell_type": "code",
   "execution_count": 13,
   "metadata": {},
   "outputs": [
    {
     "name": "stdout",
     "output_type": "stream",
     "text": [
      "epochs no:  0\n"
     ]
    },
    {
     "name": "stderr",
     "output_type": "stream",
     "text": [
      "C:\\Users\\anand\\AppData\\Local\\Continuum\\anaconda3\\lib\\site-packages\\ipykernel_launcher.py:15: RuntimeWarning: overflow encountered in exp\n",
      "  from ipykernel import kernelapp as app\n"
     ]
    },
    {
     "name": "stdout",
     "output_type": "stream",
     "text": [
      "epochs no:  1\n"
     ]
    }
   ],
   "source": [
    "for epoch in range(epochs):\n",
    "    print(\"epochs no: \",epoch)\n",
    "    for i in range(0,int(len(y_train)/1.5)):\n",
    "        \n",
    "        \"Forward pass\"\n",
    "        z1_layer1=calc_expression(float(X_train['floorArea'].iloc[i]),float(X_train['bedrooms'].iloc[i]),w01_layer1,w11_layer1,w21_layer1)\n",
    "        z2_layer1=calc_expression(float(X_train['floorArea'].iloc[i]),float(X_train['bedrooms'].iloc[i]),w02_layer1,w12_layer1,w22_layer1)\n",
    "        u1=sigmoid(z1_layer1)\n",
    "        u2=sigmoid(z2_layer1)\n",
    "        yhat=calc_yhat(u1,u2,w0_layer2,w1_layer2,w2_layer2)\n",
    "              \n",
    "        MSE+=calc_MSE(yhat,float(y_train.iloc[i]))\n",
    "        \n",
    "        error_layer2=2*(yhat-float(y_train.iloc[i]))\n",
    "        error1_layer1=sigmoid(error_layer2*w1_layer2)\n",
    "        error2_layer1=sigmoid(error_layer2*w2_layer2)\n",
    "\n",
    "        w0_layer2_grad+=error_layer2\n",
    "        w1_layer2_grad+=error_layer2*u1\n",
    "        w2_layer2_grad+=error_layer2*u2\n",
    "\n",
    "        w01_layer1_grad+=error1_layer1*sigmoid_derivative(z1_layer1)\n",
    "        w11_layer1_grad+=error1_layer1*float(X_train['floorArea'].iloc[i])*sigmoid_derivative(z1_layer1)\n",
    "        w21_layer1_grad+=error1_layer1*float(X_train['bedrooms'].iloc[i])*sigmoid_derivative(z1_layer1)\n",
    "        w02_layer1_grad+=error2_layer1*sigmoid_derivative(z2_layer1)\n",
    "        w12_layer1_grad+=error2_layer1*float(X_train['floorArea'].iloc[i])*sigmoid_derivative(z2_layer1)\n",
    "        w22_layer1_grad+=error1_layer1*float(X_train['bedrooms'].iloc[i])*sigmoid_derivative(z2_layer1)\n",
    "        \n",
    "        if i%batch_size==0 and i!=0:\n",
    "            MSE=MSE/batch_size\n",
    "            train_MSE.append(MSE)\n",
    "            \n",
    "            yhat_val=calc_yhat(X_val['floorArea'].iloc[:100],X_val['bedrooms'].iloc[:100],w0_layer2,w1_layer2,w2_layer2)            \n",
    "            val_MSE.append(sum((round(yhat_val,0)-y_val['value'].iloc[:100])*(round(yhat_val,0)-y_val['value'].iloc[:100]))/100)\n",
    "\n",
    "            w01_layer1=w01_layer1-alpha*w01_layer1_grad/batch_size\n",
    "            w11_layer1=w11_layer1-alpha*w11_layer1_grad/batch_size\n",
    "            w21_layer1=w21_layer1-alpha*w21_layer1_grad/batch_size\n",
    "            w02_layer1=w02_layer1-alpha*w02_layer1_grad/batch_size\n",
    "            w12_layer1=w12_layer1-alpha*w12_layer1_grad/batch_size\n",
    "            w22_layer1=w22_layer1-alpha*w22_layer1_grad/batch_size\n",
    "            w0_layer2=w0_layer2-alpha*w0_layer2_grad/batch_size\n",
    "            w1_layer2=w1_layer2-alpha*w1_layer2_grad/batch_size\n",
    "            w2_layer2=w2_layer2-alpha*w2_layer2_grad/batch_size\n",
    "            \n",
    "            MSE=0\n",
    "            w0_layer2_grad=0\n",
    "            w1_layer2_grad=0\n",
    "            w2_layer2_grad=0\n",
    "            w01_layer1_grad=0\n",
    "            w11_layer1_grad=0\n",
    "            w21_layer1_grad=0\n",
    "            w02_layer1_grad=0\n",
    "            w12_layer1_grad=0\n",
    "            w22_layer1_grad=0"
   ]
  },
  {
   "cell_type": "code",
   "execution_count": 14,
   "metadata": {},
   "outputs": [
    {
     "name": "stdout",
     "output_type": "stream",
     "text": [
      "[304592100080.85, 297711555857.25, 290639508187.58, 283884857189.27, 277577336869.82, 271315190446.7, 265286540800.43, 259833251952.96, 254273054221.12, 249266434869.82, 244101584213.26, 239302424293.06, 234636800918.83, 230106670401.66, 225743997790.66, 221690230244.04, 217429757167.67, 213557971093.71, 209617438734.59, 205855149421.76, 202353276069.45, 198926703480.08, 195565262187.8, 192487114620.77, 189349634312.89, 186396528547.5, 183479023933.86, 180552666930.56, 177934176506.05, 175279432876.68, 172807039935.4, 170317878575.26, 167968078417.4, 165678834014.82, 163330078117.25, 161242665451.11, 159315718836.13, 157351049970.58, 155351717313.86, 153397740980.21, 151667871046.17, 149992071511.74, 148298060853.93, 146746663924.82, 145106667963.03, 143687991766.68, 142268032391.54, 140835995923.58, 139384880866.62, 138005742809.91, 136724917824.86, 135447477282.8, 134221940628.59, 133137175019.25, 132027042468.0, 131031015698.14, 129967985574.97, 129029065459.36, 128082429396.95, 127199677567.46, 126295944372.75, 125553679007.29, 124690521844.61, 123931606852.17, 123125250179.49, 122350709324.19, 121674414032.89, 120999389367.25, 120338502581.77, 119742026559.83, 119107850962.04, 118528248985.58, 117931196935.52, 117314972437.78, 116806920693.14, 116292447025.25, 115823428146.45, 115307929265.04, 114856793104.91, 114380826418.34, 113867056414.88, 113442293597.62, 113080390763.64, 112678221198.43, 112266470578.84, 111853938265.16, 111528399930.03, 111198903036.48, 110858711521.48, 110555380673.53, 110204634756.14, 109935962424.77]\n"
     ]
    }
   ],
   "source": [
    "print(val_MSE)"
   ]
  },
  {
   "cell_type": "code",
   "execution_count": 15,
   "metadata": {},
   "outputs": [
    {
     "data": {
      "text/plain": [
       "<matplotlib.legend.Legend at 0x24a8ff5de80>"
      ]
     },
     "execution_count": 15,
     "metadata": {},
     "output_type": "execute_result"
    },
    {
     "data": {
      "image/png": "[encoded data removed]",
      "text/plain": [
       "<matplotlib.figure.Figure at 0x24a8fe4d978>"
      ]
     },
     "metadata": {},
     "output_type": "display_data"
    }
   ],
   "source": [
    "from scipy import interpolate\n",
    "plt.figure(figsize=(8,4))\n",
    "\n",
    "\n",
    "plt.plot(range(len(train_MSE)),train_MSE,'b', label='train loss')\n",
    "plt.plot(range(len(val_MSE)),val_MSE,'r', label='Val. loss')\n",
    "\n",
    "\n",
    "\n",
    "plt.title('min(Test loss) = ' + str(round(min(val_MSE),1)),fontsize=12)\n",
    "plt.xlabel('Epochs',fontsize=16)\n",
    "plt.ylabel('Accuracy',fontsize=16)\n",
    "plt.legend(fontsize=12)"
   ]
  },
  {
   "cell_type": "code",
   "execution_count": 16,
   "metadata": {},
   "outputs": [
    {
     "name": "stdout",
     "output_type": "stream",
     "text": [
      "Predicted =  388635.0\n",
      "Actual =  390000.0\n"
     ]
    }
   ],
   "source": [
    "\"Predict Forward pass\"\n",
    "z1_layer1=calc_expression(float(X_test['floorArea'].iloc[0]),float(X_test['bedrooms'].iloc[0]),w01_layer1,w11_layer1,w21_layer1)\n",
    "z2_layer1=calc_expression(float(X_test['floorArea'].iloc[0]),float(X_test['bedrooms'].iloc[0]),w02_layer1,w12_layer1,w22_layer1)\n",
    "u1=sigmoid(z1_layer1)\n",
    "u2=sigmoid(z2_layer1)\n",
    "yhat=calc_yhat(u1,u2,w0_layer2,w1_layer2,w2_layer2)\n",
    "\n",
    "print(\"Predicted = \",round(yhat))\n",
    "print(\"Actual = \",float(y_test.iloc[5]))"
   ]
  },
  {
   "cell_type": "code",
   "execution_count": 28,
   "metadata": {},
   "outputs": [
    {
     "name": "stdout",
     "output_type": "stream",
     "text": [
      "Predicted =  358754.0\n",
      "Actual =  540000.0\n"
     ]
    }
   ],
   "source": [
    "\"Predict Forward pass\"\n",
    "yhatlst=[]\n",
    "z1_layer1=calc_expression(float(X_test['floorArea'].iloc[1]),float(X_test['bedrooms'].iloc[0]),w01_layer1,w11_layer1,w21_layer1)\n",
    "z2_layer1=calc_expression(float(X_test['floorArea'].iloc[1]),float(X_test['bedrooms'].iloc[0]),w02_layer1,w12_layer1,w22_layer1)\n",
    "u1=sigmoid(z1_layer1)\n",
    "u2=sigmoid(z2_layer1)\n",
    "yhat=calc_yhat(u1,u2,w0_layer2,w1_layer2,w2_layer2)\n",
    "yhatlst.append(round(yhat))\n",
    "print(\"Predicted = \",round(yhat))\n",
    "print(\"Actual = \",float(y_train.iloc[3]))"
   ]
  },
  {
   "cell_type": "code",
   "execution_count": 29,
   "metadata": {},
   "outputs": [
    {
     "name": "stdout",
     "output_type": "stream",
     "text": [
      "Predicted =  420596.0\n",
      "Actual =  540000.0\n"
     ]
    }
   ],
   "source": [
    "\"Predict Forward pass\"\n",
    "z1_layer1=calc_expression(float(X_test['floorArea'].iloc[2]),float(X_test['bedrooms'].iloc[1]),w01_layer1,w11_layer1,w21_layer1)\n",
    "z2_layer1=calc_expression(float(X_test['floorArea'].iloc[2]),float(X_test['bedrooms'].iloc[1]),w02_layer1,w12_layer1,w22_layer1)\n",
    "u1=sigmoid(z1_layer1)\n",
    "u2=sigmoid(z2_layer1)\n",
    "yhat=calc_yhat(u1,u2,w0_layer2,w1_layer2,w2_layer2)\n",
    "yhatlst.append(round(yhat))\n",
    "print(\"Predicted = \",round(yhat))\n",
    "print(\"Actual = \",float(y_train.iloc[3]))"
   ]
  },
  {
   "cell_type": "code",
   "execution_count": 30,
   "metadata": {},
   "outputs": [
    {
     "name": "stdout",
     "output_type": "stream",
     "text": [
      "Predicted =  323984.0\n",
      "Actual =  540000.0\n"
     ]
    }
   ],
   "source": [
    "\"Predict Forward pass\"\n",
    "z1_layer1=calc_expression(float(X_test['floorArea'].iloc[3]),float(X_test['bedrooms'].iloc[2]),w01_layer1,w11_layer1,w21_layer1)\n",
    "z2_layer1=calc_expression(float(X_test['floorArea'].iloc[3]),float(X_test['bedrooms'].iloc[2]),w02_layer1,w12_layer1,w22_layer1)\n",
    "u1=sigmoid(z1_layer1)\n",
    "u2=sigmoid(z2_layer1)\n",
    "yhat=calc_yhat(u1,u2,w0_layer2,w1_layer2,w2_layer2)\n",
    "yhatlst.append(round(yhat))\n",
    "print(\"Predicted = \",round(yhat))\n",
    "print(\"Actual = \",float(y_train.iloc[3]))"
   ]
  },
  {
   "cell_type": "code",
   "execution_count": 31,
   "metadata": {},
   "outputs": [
    {
     "data": {
      "text/plain": [
       "[358754.0, 420596.0, 323984.0]"
      ]
     },
     "execution_count": 31,
     "metadata": {},
     "output_type": "execute_result"
    }
   ],
   "source": [
    "yhatlst"
   ]
  },
  {
   "cell_type": "code",
   "execution_count": 32,
   "metadata": {},
   "outputs": [
    {
     "data": {
      "text/html": [
       "<div>\n",
       "<style scoped>\n",
       "    .dataframe tbody tr th:only-of-type {\n",
       "        vertical-align: middle;\n",
       "    }\n",
       "\n",
       "    .dataframe tbody tr th {\n",
       "        vertical-align: top;\n",
       "    }\n",
       "\n",
       "    .dataframe thead th {\n",
       "        text-align: right;\n",
       "    }\n",
       "</style>\n",
       "<table border=\"1\" class=\"dataframe\">\n",
       "  <thead>\n",
       "    <tr style=\"text-align: right;\">\n",
       "      <th></th>\n",
       "      <th>Predicted Value</th>\n",
       "    </tr>\n",
       "  </thead>\n",
       "  <tbody>\n",
       "    <tr>\n",
       "      <th>0</th>\n",
       "      <td>358754.0</td>\n",
       "    </tr>\n",
       "    <tr>\n",
       "      <th>1</th>\n",
       "      <td>420596.0</td>\n",
       "    </tr>\n",
       "    <tr>\n",
       "      <th>2</th>\n",
       "      <td>323984.0</td>\n",
       "    </tr>\n",
       "  </tbody>\n",
       "</table>\n",
       "</div>"
      ],
      "text/plain": [
       "   Predicted Value\n",
       "0         358754.0\n",
       "1         420596.0\n",
       "2         323984.0"
      ]
     },
     "execution_count": 32,
     "metadata": {},
     "output_type": "execute_result"
    }
   ],
   "source": [
    "price_compare=pd.DataFrame(yhatlst)\n",
    "price_compare=price_compare.rename(columns={0:'Predicted Value'}).round(0)\n",
    "price_compare"
   ]
  },
  {
   "cell_type": "code",
   "execution_count": 33,
   "metadata": {},
   "outputs": [
    {
     "data": {
      "text/html": [
       "<div>\n",
       "<style scoped>\n",
       "    .dataframe tbody tr th:only-of-type {\n",
       "        vertical-align: middle;\n",
       "    }\n",
       "\n",
       "    .dataframe tbody tr th {\n",
       "        vertical-align: top;\n",
       "    }\n",
       "\n",
       "    .dataframe thead th {\n",
       "        text-align: right;\n",
       "    }\n",
       "</style>\n",
       "<table border=\"1\" class=\"dataframe\">\n",
       "  <thead>\n",
       "    <tr style=\"text-align: right;\">\n",
       "      <th></th>\n",
       "      <th>Predicted Value</th>\n",
       "      <th>Actual Value</th>\n",
       "    </tr>\n",
       "  </thead>\n",
       "  <tbody>\n",
       "    <tr>\n",
       "      <th>0</th>\n",
       "      <td>358754.0</td>\n",
       "      <td>888000.0</td>\n",
       "    </tr>\n",
       "    <tr>\n",
       "      <th>1</th>\n",
       "      <td>420596.0</td>\n",
       "      <td>338000.0</td>\n",
       "    </tr>\n",
       "    <tr>\n",
       "      <th>2</th>\n",
       "      <td>323984.0</td>\n",
       "      <td>420000.0</td>\n",
       "    </tr>\n",
       "  </tbody>\n",
       "</table>\n",
       "</div>"
      ],
      "text/plain": [
       "   Predicted Value  Actual Value\n",
       "0         358754.0      888000.0\n",
       "1         420596.0      338000.0\n",
       "2         323984.0      420000.0"
      ]
     },
     "execution_count": 33,
     "metadata": {},
     "output_type": "execute_result"
    }
   ],
   "source": [
    "price_compare['Actual Value']=y_test.reset_index().iloc[:3]['value']\n",
    "price_compare.head(3)"
   ]
  },
  {
   "cell_type": "code",
   "execution_count": null,
   "metadata": {},
   "outputs": [],
   "source": []
  },
  {
   "cell_type": "code",
   "execution_count": null,
   "metadata": {},
   "outputs": [],
   "source": []
  }
 ],
 "metadata": {
  "kernelspec": {
   "display_name": "Python 3",
   "language": "python",
   "name": "python3"
  },
  "language_info": {
   "codemirror_mode": {
    "name": "ipython",
    "version": 3
   },
   "file_extension": ".py",
   "mimetype": "text/x-python",
   "name": "python",
   "nbconvert_exporter": "python",
   "pygments_lexer": "ipython3",
   "version": "3.6.4"
  }
 },
 "nbformat": 4,
 "nbformat_minor": 2
}
